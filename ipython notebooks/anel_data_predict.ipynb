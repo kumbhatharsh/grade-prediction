{
 "cells": [
  {
   "cell_type": "code",
   "execution_count": 1,
   "metadata": {},
   "outputs": [],
   "source": [
    "#importing libraries\n",
    "import numpy as np\n",
    "import pandas as pd\n",
    "import matplotlib.pyplot as plt\n",
    "import seaborn as sns\n",
    "import sklearn\n"
   ]
  },
  {
   "cell_type": "code",
   "execution_count": 2,
   "metadata": {},
   "outputs": [
    {
     "data": {
      "text/html": [
       "<div>\n",
       "<style scoped>\n",
       "    .dataframe tbody tr th:only-of-type {\n",
       "        vertical-align: middle;\n",
       "    }\n",
       "\n",
       "    .dataframe tbody tr th {\n",
       "        vertical-align: top;\n",
       "    }\n",
       "\n",
       "    .dataframe thead th {\n",
       "        text-align: right;\n",
       "    }\n",
       "</style>\n",
       "<table border=\"1\" class=\"dataframe\">\n",
       "  <thead>\n",
       "    <tr style=\"text-align: right;\">\n",
       "      <th></th>\n",
       "      <th>STUDENT NAME</th>\n",
       "      <th>Quizzes</th>\n",
       "      <th>mid Term</th>\n",
       "      <th>end Term</th>\n",
       "      <th>total(100)</th>\n",
       "      <th>grade</th>\n",
       "    </tr>\n",
       "    <tr>\n",
       "      <th>ROLLNO</th>\n",
       "      <th></th>\n",
       "      <th></th>\n",
       "      <th></th>\n",
       "      <th></th>\n",
       "      <th></th>\n",
       "      <th></th>\n",
       "    </tr>\n",
       "  </thead>\n",
       "  <tbody>\n",
       "    <tr>\n",
       "      <th>14UCC040</th>\n",
       "      <td>VAIBHAV VYAS</td>\n",
       "      <td>15.75</td>\n",
       "      <td>19</td>\n",
       "      <td>15.0</td>\n",
       "      <td>49.75</td>\n",
       "      <td>BC</td>\n",
       "    </tr>\n",
       "    <tr>\n",
       "      <th>17DEC001</th>\n",
       "      <td>AASTHA SINGH</td>\n",
       "      <td>12.50</td>\n",
       "      <td>18</td>\n",
       "      <td>13.0</td>\n",
       "      <td>43.50</td>\n",
       "      <td>C</td>\n",
       "    </tr>\n",
       "    <tr>\n",
       "      <th>17DEC002</th>\n",
       "      <td>KAPIL SINGH</td>\n",
       "      <td>8.00</td>\n",
       "      <td>7</td>\n",
       "      <td>11.0</td>\n",
       "      <td>26.00</td>\n",
       "      <td>D</td>\n",
       "    </tr>\n",
       "    <tr>\n",
       "      <th>17DEC004</th>\n",
       "      <td>RAJ VAIBHAV DUBEY</td>\n",
       "      <td>13.50</td>\n",
       "      <td>10</td>\n",
       "      <td>12.0</td>\n",
       "      <td>35.50</td>\n",
       "      <td>CD</td>\n",
       "    </tr>\n",
       "    <tr>\n",
       "      <th>17DEC005</th>\n",
       "      <td>SHIVAM BEEYANI</td>\n",
       "      <td>12.25</td>\n",
       "      <td>7</td>\n",
       "      <td>8.0</td>\n",
       "      <td>27.25</td>\n",
       "      <td>D</td>\n",
       "    </tr>\n",
       "  </tbody>\n",
       "</table>\n",
       "</div>"
      ],
      "text/plain": [
       "               STUDENT NAME  Quizzes  mid Term  end Term  total(100) grade\n",
       "ROLLNO                                                                    \n",
       "14UCC040       VAIBHAV VYAS    15.75        19      15.0       49.75    BC\n",
       "17DEC001       AASTHA SINGH    12.50        18      13.0       43.50     C\n",
       "17DEC002        KAPIL SINGH     8.00         7      11.0       26.00     D\n",
       "17DEC004  RAJ VAIBHAV DUBEY    13.50        10      12.0       35.50    CD\n",
       "17DEC005     SHIVAM BEEYANI    12.25         7       8.0       27.25     D"
      ]
     },
     "execution_count": 2,
     "metadata": {},
     "output_type": "execute_result"
    }
   ],
   "source": [
    "dataframe_2=pd.read_excel(\"anel.xlsx\",index_col=1)\n",
    "dataframe_2=dataframe_2.drop([\"SRNO\"],axis=1)\n",
    "dataframe_2.head()"
   ]
  },
  {
   "cell_type": "code",
   "execution_count": 3,
   "metadata": {},
   "outputs": [
    {
     "data": {
      "text/html": [
       "<div>\n",
       "<style scoped>\n",
       "    .dataframe tbody tr th:only-of-type {\n",
       "        vertical-align: middle;\n",
       "    }\n",
       "\n",
       "    .dataframe tbody tr th {\n",
       "        vertical-align: top;\n",
       "    }\n",
       "\n",
       "    .dataframe thead th {\n",
       "        text-align: right;\n",
       "    }\n",
       "</style>\n",
       "<table border=\"1\" class=\"dataframe\">\n",
       "  <thead>\n",
       "    <tr style=\"text-align: right;\">\n",
       "      <th></th>\n",
       "      <th>STUDENT NAME</th>\n",
       "      <th>Quizzes</th>\n",
       "      <th>mid Term</th>\n",
       "      <th>end Term</th>\n",
       "      <th>total(100)</th>\n",
       "      <th>grade</th>\n",
       "    </tr>\n",
       "    <tr>\n",
       "      <th>ROLLNO</th>\n",
       "      <th></th>\n",
       "      <th></th>\n",
       "      <th></th>\n",
       "      <th></th>\n",
       "      <th></th>\n",
       "      <th></th>\n",
       "    </tr>\n",
       "  </thead>\n",
       "  <tbody>\n",
       "    <tr>\n",
       "      <th>14UCC040</th>\n",
       "      <td>VAIBHAV VYAS</td>\n",
       "      <td>15.75</td>\n",
       "      <td>19</td>\n",
       "      <td>15.0</td>\n",
       "      <td>49.75</td>\n",
       "      <td>BC</td>\n",
       "    </tr>\n",
       "    <tr>\n",
       "      <th>17DEC001</th>\n",
       "      <td>AASTHA SINGH</td>\n",
       "      <td>12.50</td>\n",
       "      <td>18</td>\n",
       "      <td>13.0</td>\n",
       "      <td>43.50</td>\n",
       "      <td>C</td>\n",
       "    </tr>\n",
       "    <tr>\n",
       "      <th>17DEC002</th>\n",
       "      <td>KAPIL SINGH</td>\n",
       "      <td>8.00</td>\n",
       "      <td>7</td>\n",
       "      <td>11.0</td>\n",
       "      <td>26.00</td>\n",
       "      <td>D</td>\n",
       "    </tr>\n",
       "    <tr>\n",
       "      <th>17DEC004</th>\n",
       "      <td>RAJ VAIBHAV DUBEY</td>\n",
       "      <td>13.50</td>\n",
       "      <td>10</td>\n",
       "      <td>12.0</td>\n",
       "      <td>35.50</td>\n",
       "      <td>CD</td>\n",
       "    </tr>\n",
       "    <tr>\n",
       "      <th>17DEC005</th>\n",
       "      <td>SHIVAM BEEYANI</td>\n",
       "      <td>12.25</td>\n",
       "      <td>7</td>\n",
       "      <td>8.0</td>\n",
       "      <td>27.25</td>\n",
       "      <td>D</td>\n",
       "    </tr>\n",
       "  </tbody>\n",
       "</table>\n",
       "</div>"
      ],
      "text/plain": [
       "               STUDENT NAME  Quizzes  mid Term  end Term  total(100) grade\n",
       "ROLLNO                                                                    \n",
       "14UCC040       VAIBHAV VYAS    15.75        19      15.0       49.75    BC\n",
       "17DEC001       AASTHA SINGH    12.50        18      13.0       43.50     C\n",
       "17DEC002        KAPIL SINGH     8.00         7      11.0       26.00     D\n",
       "17DEC004  RAJ VAIBHAV DUBEY    13.50        10      12.0       35.50    CD\n",
       "17DEC005     SHIVAM BEEYANI    12.25         7       8.0       27.25     D"
      ]
     },
     "execution_count": 3,
     "metadata": {},
     "output_type": "execute_result"
    }
   ],
   "source": [
    "dataframe_2=pd.read_excel(\"anel.xlsx\",index_col=1)\n",
    "dataframe_2=dataframe_2.drop([\"SRNO\"],axis=1)\n",
    "dataframe_2.head()\n"
   ]
  },
  {
   "cell_type": "code",
   "execution_count": 4,
   "metadata": {},
   "outputs": [
    {
     "data": {
      "text/html": [
       "<div>\n",
       "<style scoped>\n",
       "    .dataframe tbody tr th:only-of-type {\n",
       "        vertical-align: middle;\n",
       "    }\n",
       "\n",
       "    .dataframe tbody tr th {\n",
       "        vertical-align: top;\n",
       "    }\n",
       "\n",
       "    .dataframe thead th {\n",
       "        text-align: right;\n",
       "    }\n",
       "</style>\n",
       "<table border=\"1\" class=\"dataframe\">\n",
       "  <thead>\n",
       "    <tr style=\"text-align: right;\">\n",
       "      <th></th>\n",
       "      <th>STUDENT NAME</th>\n",
       "      <th>Quizzes</th>\n",
       "      <th>mid Term</th>\n",
       "      <th>end Term</th>\n",
       "      <th>total(100)</th>\n",
       "      <th>grade</th>\n",
       "    </tr>\n",
       "    <tr>\n",
       "      <th>ROLLNO</th>\n",
       "      <th></th>\n",
       "      <th></th>\n",
       "      <th></th>\n",
       "      <th></th>\n",
       "      <th></th>\n",
       "      <th></th>\n",
       "    </tr>\n",
       "  </thead>\n",
       "  <tbody>\n",
       "    <tr>\n",
       "      <th>14UCC040</th>\n",
       "      <td>VAIBHAV VYAS</td>\n",
       "      <td>15.75</td>\n",
       "      <td>19</td>\n",
       "      <td>15.0</td>\n",
       "      <td>49.75</td>\n",
       "      <td>BC</td>\n",
       "    </tr>\n",
       "    <tr>\n",
       "      <th>17DEC001</th>\n",
       "      <td>AASTHA SINGH</td>\n",
       "      <td>12.50</td>\n",
       "      <td>18</td>\n",
       "      <td>13.0</td>\n",
       "      <td>43.50</td>\n",
       "      <td>C</td>\n",
       "    </tr>\n",
       "    <tr>\n",
       "      <th>17DEC002</th>\n",
       "      <td>KAPIL SINGH</td>\n",
       "      <td>8.00</td>\n",
       "      <td>7</td>\n",
       "      <td>11.0</td>\n",
       "      <td>26.00</td>\n",
       "      <td>D</td>\n",
       "    </tr>\n",
       "    <tr>\n",
       "      <th>17DEC004</th>\n",
       "      <td>RAJ VAIBHAV DUBEY</td>\n",
       "      <td>13.50</td>\n",
       "      <td>10</td>\n",
       "      <td>12.0</td>\n",
       "      <td>35.50</td>\n",
       "      <td>CD</td>\n",
       "    </tr>\n",
       "    <tr>\n",
       "      <th>17DEC005</th>\n",
       "      <td>SHIVAM BEEYANI</td>\n",
       "      <td>12.25</td>\n",
       "      <td>7</td>\n",
       "      <td>8.0</td>\n",
       "      <td>27.25</td>\n",
       "      <td>D</td>\n",
       "    </tr>\n",
       "  </tbody>\n",
       "</table>\n",
       "</div>"
      ],
      "text/plain": [
       "               STUDENT NAME  Quizzes  mid Term  end Term  total(100) grade\n",
       "ROLLNO                                                                    \n",
       "14UCC040       VAIBHAV VYAS    15.75        19      15.0       49.75    BC\n",
       "17DEC001       AASTHA SINGH    12.50        18      13.0       43.50     C\n",
       "17DEC002        KAPIL SINGH     8.00         7      11.0       26.00     D\n",
       "17DEC004  RAJ VAIBHAV DUBEY    13.50        10      12.0       35.50    CD\n",
       "17DEC005     SHIVAM BEEYANI    12.25         7       8.0       27.25     D"
      ]
     },
     "execution_count": 4,
     "metadata": {},
     "output_type": "execute_result"
    }
   ],
   "source": [
    "dataframe_1=pd.read_excel(\"anel.xlsx\",index_col=1)\n",
    "dataframe_1=dataframe_1.drop([\"SRNO\"],axis=1)\n",
    "dataframe_1.head()"
   ]
  },
  {
   "cell_type": "code",
   "execution_count": 5,
   "metadata": {},
   "outputs": [
    {
     "data": {
      "text/html": [
       "<div>\n",
       "<style scoped>\n",
       "    .dataframe tbody tr th:only-of-type {\n",
       "        vertical-align: middle;\n",
       "    }\n",
       "\n",
       "    .dataframe tbody tr th {\n",
       "        vertical-align: top;\n",
       "    }\n",
       "\n",
       "    .dataframe thead th {\n",
       "        text-align: right;\n",
       "    }\n",
       "</style>\n",
       "<table border=\"1\" class=\"dataframe\">\n",
       "  <thead>\n",
       "    <tr style=\"text-align: right;\">\n",
       "      <th></th>\n",
       "      <th>STUDENT NAME</th>\n",
       "      <th>Quizzes</th>\n",
       "      <th>mid Term</th>\n",
       "      <th>end Term</th>\n",
       "      <th>total(100)</th>\n",
       "      <th>grade</th>\n",
       "    </tr>\n",
       "    <tr>\n",
       "      <th>ROLLNO</th>\n",
       "      <th></th>\n",
       "      <th></th>\n",
       "      <th></th>\n",
       "      <th></th>\n",
       "      <th></th>\n",
       "      <th></th>\n",
       "    </tr>\n",
       "  </thead>\n",
       "  <tbody>\n",
       "  </tbody>\n",
       "</table>\n",
       "</div>"
      ],
      "text/plain": [
       "Empty DataFrame\n",
       "Columns: [STUDENT NAME, Quizzes, mid Term, end Term, total(100), grade]\n",
       "Index: []"
      ]
     },
     "execution_count": 5,
     "metadata": {},
     "output_type": "execute_result"
    }
   ],
   "source": [
    "dataframe_1[dataframe_1.index.duplicated()]"
   ]
  },
  {
   "cell_type": "code",
   "execution_count": 6,
   "metadata": {},
   "outputs": [
    {
     "data": {
      "text/html": [
       "<div>\n",
       "<style scoped>\n",
       "    .dataframe tbody tr th:only-of-type {\n",
       "        vertical-align: middle;\n",
       "    }\n",
       "\n",
       "    .dataframe tbody tr th {\n",
       "        vertical-align: top;\n",
       "    }\n",
       "\n",
       "    .dataframe thead th {\n",
       "        text-align: right;\n",
       "    }\n",
       "</style>\n",
       "<table border=\"1\" class=\"dataframe\">\n",
       "  <thead>\n",
       "    <tr style=\"text-align: right;\">\n",
       "      <th></th>\n",
       "      <th>STUDENT NAME</th>\n",
       "      <th>Quizzes</th>\n",
       "      <th>mid Term</th>\n",
       "      <th>end Term</th>\n",
       "      <th>total(100)</th>\n",
       "      <th>grade</th>\n",
       "    </tr>\n",
       "    <tr>\n",
       "      <th>ROLLNO</th>\n",
       "      <th></th>\n",
       "      <th></th>\n",
       "      <th></th>\n",
       "      <th></th>\n",
       "      <th></th>\n",
       "      <th></th>\n",
       "    </tr>\n",
       "  </thead>\n",
       "  <tbody>\n",
       "    <tr>\n",
       "      <th>17UEC142</th>\n",
       "      <td>MS YUKTI MITTAL</td>\n",
       "      <td>16.25</td>\n",
       "      <td>22</td>\n",
       "      <td>19.0</td>\n",
       "      <td>57.25</td>\n",
       "      <td>B</td>\n",
       "    </tr>\n",
       "    <tr>\n",
       "      <th>17UEC143</th>\n",
       "      <td>ADITYA RAJ</td>\n",
       "      <td>20.50</td>\n",
       "      <td>25</td>\n",
       "      <td>20.0</td>\n",
       "      <td>65.50</td>\n",
       "      <td>AB</td>\n",
       "    </tr>\n",
       "    <tr>\n",
       "      <th>17UEC144</th>\n",
       "      <td>HARSHIT CHITTORA</td>\n",
       "      <td>18.50</td>\n",
       "      <td>13</td>\n",
       "      <td>19.0</td>\n",
       "      <td>50.50</td>\n",
       "      <td>BC</td>\n",
       "    </tr>\n",
       "    <tr>\n",
       "      <th>17UEC145</th>\n",
       "      <td>MEHUL MEHTA</td>\n",
       "      <td>15.25</td>\n",
       "      <td>17</td>\n",
       "      <td>22.0</td>\n",
       "      <td>54.25</td>\n",
       "      <td>B</td>\n",
       "    </tr>\n",
       "    <tr>\n",
       "      <th>17UEC146</th>\n",
       "      <td>YASH MAHESHWARI</td>\n",
       "      <td>21.75</td>\n",
       "      <td>22</td>\n",
       "      <td>18.0</td>\n",
       "      <td>61.75</td>\n",
       "      <td>AB</td>\n",
       "    </tr>\n",
       "  </tbody>\n",
       "</table>\n",
       "</div>"
      ],
      "text/plain": [
       "              STUDENT NAME  Quizzes  mid Term  end Term  total(100) grade\n",
       "ROLLNO                                                                   \n",
       "17UEC142   MS YUKTI MITTAL    16.25        22      19.0       57.25     B\n",
       "17UEC143        ADITYA RAJ    20.50        25      20.0       65.50    AB\n",
       "17UEC144  HARSHIT CHITTORA    18.50        13      19.0       50.50    BC\n",
       "17UEC145       MEHUL MEHTA    15.25        17      22.0       54.25     B\n",
       "17UEC146   YASH MAHESHWARI    21.75        22      18.0       61.75    AB"
      ]
     },
     "execution_count": 6,
     "metadata": {},
     "output_type": "execute_result"
    }
   ],
   "source": [
    "dataframe_1.tail()\n"
   ]
  },
  {
   "cell_type": "code",
   "execution_count": 7,
   "metadata": {},
   "outputs": [
    {
     "data": {
      "text/plain": [
       "STUDENT NAME    0\n",
       "Quizzes         0\n",
       "mid Term        0\n",
       "end Term        1\n",
       "total(100)      0\n",
       "grade           0\n",
       "dtype: int64"
      ]
     },
     "execution_count": 7,
     "metadata": {},
     "output_type": "execute_result"
    }
   ],
   "source": [
    "dataframe_1.isnull().sum()\n",
    "#here we check for the null values in the dataframe"
   ]
  },
  {
   "cell_type": "code",
   "execution_count": 8,
   "metadata": {},
   "outputs": [
    {
     "data": {
      "text/plain": [
       "array([u'STUDENT NAME', u'Quizzes', u'mid Term', u'end Term',\n",
       "       u'total(100)', u'grade'], dtype=object)"
      ]
     },
     "execution_count": 8,
     "metadata": {},
     "output_type": "execute_result"
    }
   ],
   "source": [
    "dataframe_1=dataframe_1.rename(index=str, columns={\"Quizzes\\n\":\"Quiz_agg\",\"mid Term\\n\":\"MidTerm_agg\",\"end Term\\n\":\"EndTerm_agg\",\"End_Term_Full\\n\":\"End_Term_Full\",\"total(100)\\n\":\"Total_Agg\"})\n",
    "dataframe_1.columns.values"
   ]
  },
  {
   "cell_type": "code",
   "execution_count": 9,
   "metadata": {},
   "outputs": [
    {
     "data": {
      "text/html": [
       "<div>\n",
       "<style scoped>\n",
       "    .dataframe tbody tr th:only-of-type {\n",
       "        vertical-align: middle;\n",
       "    }\n",
       "\n",
       "    .dataframe tbody tr th {\n",
       "        vertical-align: top;\n",
       "    }\n",
       "\n",
       "    .dataframe thead th {\n",
       "        text-align: right;\n",
       "    }\n",
       "</style>\n",
       "<table border=\"1\" class=\"dataframe\">\n",
       "  <thead>\n",
       "    <tr style=\"text-align: right;\">\n",
       "      <th></th>\n",
       "      <th>STUDENT NAME</th>\n",
       "      <th>Quizzes</th>\n",
       "      <th>mid Term</th>\n",
       "      <th>end Term</th>\n",
       "      <th>total(100)</th>\n",
       "      <th>grade</th>\n",
       "    </tr>\n",
       "    <tr>\n",
       "      <th>ROLLNO</th>\n",
       "      <th></th>\n",
       "      <th></th>\n",
       "      <th></th>\n",
       "      <th></th>\n",
       "      <th></th>\n",
       "      <th></th>\n",
       "    </tr>\n",
       "  </thead>\n",
       "  <tbody>\n",
       "    <tr>\n",
       "      <th>14UCC040</th>\n",
       "      <td>VAIBHAV VYAS</td>\n",
       "      <td>15.75</td>\n",
       "      <td>19</td>\n",
       "      <td>15.0</td>\n",
       "      <td>49.75</td>\n",
       "      <td>BC</td>\n",
       "    </tr>\n",
       "    <tr>\n",
       "      <th>17DEC001</th>\n",
       "      <td>AASTHA SINGH</td>\n",
       "      <td>12.50</td>\n",
       "      <td>18</td>\n",
       "      <td>13.0</td>\n",
       "      <td>43.50</td>\n",
       "      <td>C</td>\n",
       "    </tr>\n",
       "    <tr>\n",
       "      <th>17DEC002</th>\n",
       "      <td>KAPIL SINGH</td>\n",
       "      <td>8.00</td>\n",
       "      <td>7</td>\n",
       "      <td>11.0</td>\n",
       "      <td>26.00</td>\n",
       "      <td>D</td>\n",
       "    </tr>\n",
       "    <tr>\n",
       "      <th>17DEC004</th>\n",
       "      <td>RAJ VAIBHAV DUBEY</td>\n",
       "      <td>13.50</td>\n",
       "      <td>10</td>\n",
       "      <td>12.0</td>\n",
       "      <td>35.50</td>\n",
       "      <td>CD</td>\n",
       "    </tr>\n",
       "    <tr>\n",
       "      <th>17DEC005</th>\n",
       "      <td>SHIVAM BEEYANI</td>\n",
       "      <td>12.25</td>\n",
       "      <td>7</td>\n",
       "      <td>8.0</td>\n",
       "      <td>27.25</td>\n",
       "      <td>D</td>\n",
       "    </tr>\n",
       "  </tbody>\n",
       "</table>\n",
       "</div>"
      ],
      "text/plain": [
       "               STUDENT NAME  Quizzes  mid Term  end Term  total(100) grade\n",
       "ROLLNO                                                                    \n",
       "14UCC040       VAIBHAV VYAS    15.75        19      15.0       49.75    BC\n",
       "17DEC001       AASTHA SINGH    12.50        18      13.0       43.50     C\n",
       "17DEC002        KAPIL SINGH     8.00         7      11.0       26.00     D\n",
       "17DEC004  RAJ VAIBHAV DUBEY    13.50        10      12.0       35.50    CD\n",
       "17DEC005     SHIVAM BEEYANI    12.25         7       8.0       27.25     D"
      ]
     },
     "execution_count": 9,
     "metadata": {},
     "output_type": "execute_result"
    }
   ],
   "source": [
    "dataframe_1.head()"
   ]
  },
  {
   "cell_type": "code",
   "execution_count": 10,
   "metadata": {},
   "outputs": [],
   "source": [
    "final_df=dataframe_1.copy()"
   ]
  },
  {
   "cell_type": "code",
   "execution_count": 11,
   "metadata": {},
   "outputs": [
    {
     "data": {
      "text/plain": [
       "True"
      ]
     },
     "execution_count": 11,
     "metadata": {},
     "output_type": "execute_result"
    }
   ],
   "source": [
    "final_df['end Term'].isnull().values.any()"
   ]
  },
  {
   "cell_type": "code",
   "execution_count": 12,
   "metadata": {},
   "outputs": [
    {
     "name": "stdout",
     "output_type": "stream",
     "text": [
      "          STUDENT NAME  Quizzes  mid Term  end Term  total(100) grade\n",
      "ROLLNO                                                               \n",
      "17UEC127  SUMEDHA RANA    10.75         6       NaN       16.75     I\n"
     ]
    }
   ],
   "source": [
    "#to find the null values in the dataframe which values are the null values in the dataframe\n",
    "print(final_df[final_df.isnull().any(axis=1)].head())"
   ]
  },
  {
   "cell_type": "code",
   "execution_count": 13,
   "metadata": {},
   "outputs": [],
   "source": [
    "final_df.loc[\"17UEC127\",'end Term']=0"
   ]
  },
  {
   "cell_type": "code",
   "execution_count": 14,
   "metadata": {},
   "outputs": [
    {
     "data": {
      "text/plain": [
       "STUDENT NAME    0\n",
       "Quizzes         0\n",
       "mid Term        0\n",
       "end Term        0\n",
       "total(100)      0\n",
       "grade           0\n",
       "dtype: int64"
      ]
     },
     "execution_count": 14,
     "metadata": {},
     "output_type": "execute_result"
    }
   ],
   "source": [
    "final_df.isnull().sum()\n"
   ]
  },
  {
   "cell_type": "code",
   "execution_count": 15,
   "metadata": {},
   "outputs": [],
   "source": [
    "a=[]\n",
    "for lab,rows in final_df.iterrows():\n",
    "    a.append(lab[2:5])\n",
    "final_df['Branch']=a"
   ]
  },
  {
   "cell_type": "code",
   "execution_count": 16,
   "metadata": {},
   "outputs": [
    {
     "data": {
      "text/html": [
       "<div>\n",
       "<style scoped>\n",
       "    .dataframe tbody tr th:only-of-type {\n",
       "        vertical-align: middle;\n",
       "    }\n",
       "\n",
       "    .dataframe tbody tr th {\n",
       "        vertical-align: top;\n",
       "    }\n",
       "\n",
       "    .dataframe thead th {\n",
       "        text-align: right;\n",
       "    }\n",
       "</style>\n",
       "<table border=\"1\" class=\"dataframe\">\n",
       "  <thead>\n",
       "    <tr style=\"text-align: right;\">\n",
       "      <th></th>\n",
       "      <th>STUDENT NAME</th>\n",
       "      <th>Quizzes</th>\n",
       "      <th>mid Term</th>\n",
       "      <th>end Term</th>\n",
       "      <th>total(100)</th>\n",
       "      <th>grade</th>\n",
       "      <th>Branch</th>\n",
       "    </tr>\n",
       "    <tr>\n",
       "      <th>ROLLNO</th>\n",
       "      <th></th>\n",
       "      <th></th>\n",
       "      <th></th>\n",
       "      <th></th>\n",
       "      <th></th>\n",
       "      <th></th>\n",
       "      <th></th>\n",
       "    </tr>\n",
       "  </thead>\n",
       "  <tbody>\n",
       "    <tr>\n",
       "      <th>14UCC040</th>\n",
       "      <td>VAIBHAV VYAS</td>\n",
       "      <td>15.75</td>\n",
       "      <td>19</td>\n",
       "      <td>15.0</td>\n",
       "      <td>49.75</td>\n",
       "      <td>BC</td>\n",
       "      <td>UCC</td>\n",
       "    </tr>\n",
       "    <tr>\n",
       "      <th>17DEC001</th>\n",
       "      <td>AASTHA SINGH</td>\n",
       "      <td>12.50</td>\n",
       "      <td>18</td>\n",
       "      <td>13.0</td>\n",
       "      <td>43.50</td>\n",
       "      <td>C</td>\n",
       "      <td>DEC</td>\n",
       "    </tr>\n",
       "    <tr>\n",
       "      <th>17DEC002</th>\n",
       "      <td>KAPIL SINGH</td>\n",
       "      <td>8.00</td>\n",
       "      <td>7</td>\n",
       "      <td>11.0</td>\n",
       "      <td>26.00</td>\n",
       "      <td>D</td>\n",
       "      <td>DEC</td>\n",
       "    </tr>\n",
       "    <tr>\n",
       "      <th>17DEC004</th>\n",
       "      <td>RAJ VAIBHAV DUBEY</td>\n",
       "      <td>13.50</td>\n",
       "      <td>10</td>\n",
       "      <td>12.0</td>\n",
       "      <td>35.50</td>\n",
       "      <td>CD</td>\n",
       "      <td>DEC</td>\n",
       "    </tr>\n",
       "    <tr>\n",
       "      <th>17DEC005</th>\n",
       "      <td>SHIVAM BEEYANI</td>\n",
       "      <td>12.25</td>\n",
       "      <td>7</td>\n",
       "      <td>8.0</td>\n",
       "      <td>27.25</td>\n",
       "      <td>D</td>\n",
       "      <td>DEC</td>\n",
       "    </tr>\n",
       "  </tbody>\n",
       "</table>\n",
       "</div>"
      ],
      "text/plain": [
       "               STUDENT NAME  Quizzes  mid Term  end Term  total(100) grade  \\\n",
       "ROLLNO                                                                       \n",
       "14UCC040       VAIBHAV VYAS    15.75        19      15.0       49.75    BC   \n",
       "17DEC001       AASTHA SINGH    12.50        18      13.0       43.50     C   \n",
       "17DEC002        KAPIL SINGH     8.00         7      11.0       26.00     D   \n",
       "17DEC004  RAJ VAIBHAV DUBEY    13.50        10      12.0       35.50    CD   \n",
       "17DEC005     SHIVAM BEEYANI    12.25         7       8.0       27.25     D   \n",
       "\n",
       "         Branch  \n",
       "ROLLNO           \n",
       "14UCC040    UCC  \n",
       "17DEC001    DEC  \n",
       "17DEC002    DEC  \n",
       "17DEC004    DEC  \n",
       "17DEC005    DEC  "
      ]
     },
     "execution_count": 16,
     "metadata": {},
     "output_type": "execute_result"
    }
   ],
   "source": [
    "final_df.head()"
   ]
  },
  {
   "cell_type": "code",
   "execution_count": 17,
   "metadata": {},
   "outputs": [
    {
     "data": {
      "image/png": "[encoded data removed]",
      "text/plain": [
       "<Figure size 648x648 with 1 Axes>"
      ]
     },
     "metadata": {},
     "output_type": "display_data"
    }
   ],
   "source": [
    "final_df['Failed_in_anel']=np.where(final_df['grade']=='F',1,0)\n",
    "ax=sns.factorplot('Branch','Failed_in_anel',data=final_df,size=9)\n",
    "plt.show()"
   ]
  },
  {
   "cell_type": "code",
   "execution_count": 18,
   "metadata": {},
   "outputs": [
    {
     "data": {
      "text/html": [
       "<div>\n",
       "<style scoped>\n",
       "    .dataframe tbody tr th:only-of-type {\n",
       "        vertical-align: middle;\n",
       "    }\n",
       "\n",
       "    .dataframe tbody tr th {\n",
       "        vertical-align: top;\n",
       "    }\n",
       "\n",
       "    .dataframe thead th {\n",
       "        text-align: right;\n",
       "    }\n",
       "</style>\n",
       "<table border=\"1\" class=\"dataframe\">\n",
       "  <thead>\n",
       "    <tr style=\"text-align: right;\">\n",
       "      <th>Branch</th>\n",
       "      <th>DEC</th>\n",
       "      <th>UCC</th>\n",
       "      <th>UEC</th>\n",
       "    </tr>\n",
       "    <tr>\n",
       "      <th>Failed_in_anel</th>\n",
       "      <th></th>\n",
       "      <th></th>\n",
       "      <th></th>\n",
       "    </tr>\n",
       "  </thead>\n",
       "  <tbody>\n",
       "    <tr>\n",
       "      <th>0</th>\n",
       "      <td>7</td>\n",
       "      <td>70</td>\n",
       "      <td>134</td>\n",
       "    </tr>\n",
       "    <tr>\n",
       "      <th>1</th>\n",
       "      <td>0</td>\n",
       "      <td>2</td>\n",
       "      <td>4</td>\n",
       "    </tr>\n",
       "  </tbody>\n",
       "</table>\n",
       "</div>"
      ],
      "text/plain": [
       "Branch          DEC  UCC  UEC\n",
       "Failed_in_anel               \n",
       "0                 7   70  134\n",
       "1                 0    2    4"
      ]
     },
     "execution_count": 18,
     "metadata": {},
     "output_type": "execute_result"
    }
   ],
   "source": [
    "pd.crosstab(final_df['Failed_in_anel'],final_df['Branch'])"
   ]
  },
  {
   "cell_type": "code",
   "execution_count": 19,
   "metadata": {},
   "outputs": [
    {
     "data": {
      "text/html": [
       "<div>\n",
       "<style scoped>\n",
       "    .dataframe tbody tr th:only-of-type {\n",
       "        vertical-align: middle;\n",
       "    }\n",
       "\n",
       "    .dataframe tbody tr th {\n",
       "        vertical-align: top;\n",
       "    }\n",
       "\n",
       "    .dataframe thead th {\n",
       "        text-align: right;\n",
       "    }\n",
       "</style>\n",
       "<table border=\"1\" class=\"dataframe\">\n",
       "  <thead>\n",
       "    <tr style=\"text-align: right;\">\n",
       "      <th></th>\n",
       "      <th>Quizzes</th>\n",
       "      <th>mid Term</th>\n",
       "      <th>end Term</th>\n",
       "      <th>total(100)</th>\n",
       "      <th>Failed_in_anel</th>\n",
       "    </tr>\n",
       "    <tr>\n",
       "      <th>Branch</th>\n",
       "      <th></th>\n",
       "      <th></th>\n",
       "      <th></th>\n",
       "      <th></th>\n",
       "      <th></th>\n",
       "    </tr>\n",
       "  </thead>\n",
       "  <tbody>\n",
       "    <tr>\n",
       "      <th>DEC</th>\n",
       "      <td>12.642857</td>\n",
       "      <td>11.142857</td>\n",
       "      <td>12.428571</td>\n",
       "      <td>36.214286</td>\n",
       "      <td>0.000000</td>\n",
       "    </tr>\n",
       "    <tr>\n",
       "      <th>UCC</th>\n",
       "      <td>13.621528</td>\n",
       "      <td>14.680556</td>\n",
       "      <td>16.638889</td>\n",
       "      <td>44.940972</td>\n",
       "      <td>0.027778</td>\n",
       "    </tr>\n",
       "    <tr>\n",
       "      <th>UEC</th>\n",
       "      <td>15.610507</td>\n",
       "      <td>16.528986</td>\n",
       "      <td>16.268116</td>\n",
       "      <td>48.407609</td>\n",
       "      <td>0.028986</td>\n",
       "    </tr>\n",
       "  </tbody>\n",
       "</table>\n",
       "</div>"
      ],
      "text/plain": [
       "          Quizzes   mid Term   end Term  total(100)  Failed_in_anel\n",
       "Branch                                                             \n",
       "DEC     12.642857  11.142857  12.428571   36.214286        0.000000\n",
       "UCC     13.621528  14.680556  16.638889   44.940972        0.027778\n",
       "UEC     15.610507  16.528986  16.268116   48.407609        0.028986"
      ]
     },
     "execution_count": 19,
     "metadata": {},
     "output_type": "execute_result"
    }
   ],
   "source": [
    "final_df.groupby('Branch').mean()"
   ]
  },
  {
   "cell_type": "code",
   "execution_count": 20,
   "metadata": {},
   "outputs": [
    {
     "data": {
      "text/html": [
       "<div>\n",
       "<style scoped>\n",
       "    .dataframe tbody tr th:only-of-type {\n",
       "        vertical-align: middle;\n",
       "    }\n",
       "\n",
       "    .dataframe tbody tr th {\n",
       "        vertical-align: top;\n",
       "    }\n",
       "\n",
       "    .dataframe thead th {\n",
       "        text-align: right;\n",
       "    }\n",
       "</style>\n",
       "<table border=\"1\" class=\"dataframe\">\n",
       "  <thead>\n",
       "    <tr style=\"text-align: right;\">\n",
       "      <th></th>\n",
       "      <th>Quizzes</th>\n",
       "      <th>mid Term</th>\n",
       "      <th>end Term</th>\n",
       "      <th>total(100)</th>\n",
       "      <th>Failed_in_anel</th>\n",
       "    </tr>\n",
       "    <tr>\n",
       "      <th>Branch</th>\n",
       "      <th></th>\n",
       "      <th></th>\n",
       "      <th></th>\n",
       "      <th></th>\n",
       "      <th></th>\n",
       "    </tr>\n",
       "  </thead>\n",
       "  <tbody>\n",
       "    <tr>\n",
       "      <th>DEC</th>\n",
       "      <td>12.50</td>\n",
       "      <td>10.0</td>\n",
       "      <td>12.0</td>\n",
       "      <td>29.75</td>\n",
       "      <td>0</td>\n",
       "    </tr>\n",
       "    <tr>\n",
       "      <th>UCC</th>\n",
       "      <td>13.25</td>\n",
       "      <td>14.5</td>\n",
       "      <td>16.0</td>\n",
       "      <td>44.75</td>\n",
       "      <td>0</td>\n",
       "    </tr>\n",
       "    <tr>\n",
       "      <th>UEC</th>\n",
       "      <td>15.25</td>\n",
       "      <td>17.0</td>\n",
       "      <td>16.5</td>\n",
       "      <td>49.00</td>\n",
       "      <td>0</td>\n",
       "    </tr>\n",
       "  </tbody>\n",
       "</table>\n",
       "</div>"
      ],
      "text/plain": [
       "        Quizzes  mid Term  end Term  total(100)  Failed_in_anel\n",
       "Branch                                                         \n",
       "DEC       12.50      10.0      12.0       29.75               0\n",
       "UCC       13.25      14.5      16.0       44.75               0\n",
       "UEC       15.25      17.0      16.5       49.00               0"
      ]
     },
     "execution_count": 20,
     "metadata": {},
     "output_type": "execute_result"
    }
   ],
   "source": [
    "#the data shows about the averages of the different brach students in different areas\n",
    "#we can also do\n",
    "final_df.groupby('Branch').median()"
   ]
  },
  {
   "cell_type": "code",
   "execution_count": 21,
   "metadata": {},
   "outputs": [
    {
     "data": {
      "text/html": [
       "<div>\n",
       "<style scoped>\n",
       "    .dataframe tbody tr th:only-of-type {\n",
       "        vertical-align: middle;\n",
       "    }\n",
       "\n",
       "    .dataframe tbody tr th {\n",
       "        vertical-align: top;\n",
       "    }\n",
       "\n",
       "    .dataframe thead th {\n",
       "        text-align: right;\n",
       "    }\n",
       "</style>\n",
       "<table border=\"1\" class=\"dataframe\">\n",
       "  <thead>\n",
       "    <tr style=\"text-align: right;\">\n",
       "      <th></th>\n",
       "      <th>STUDENT NAME</th>\n",
       "      <th>Quizzes</th>\n",
       "      <th>mid Term</th>\n",
       "      <th>end Term</th>\n",
       "      <th>total(100)</th>\n",
       "      <th>grade</th>\n",
       "      <th>Branch</th>\n",
       "      <th>Failed_in_anel</th>\n",
       "    </tr>\n",
       "    <tr>\n",
       "      <th>ROLLNO</th>\n",
       "      <th></th>\n",
       "      <th></th>\n",
       "      <th></th>\n",
       "      <th></th>\n",
       "      <th></th>\n",
       "      <th></th>\n",
       "      <th></th>\n",
       "      <th></th>\n",
       "    </tr>\n",
       "  </thead>\n",
       "  <tbody>\n",
       "    <tr>\n",
       "      <th>14UCC040</th>\n",
       "      <td>VAIBHAV VYAS</td>\n",
       "      <td>15.75</td>\n",
       "      <td>19</td>\n",
       "      <td>15.0</td>\n",
       "      <td>49.75</td>\n",
       "      <td>BC</td>\n",
       "      <td>UCC</td>\n",
       "      <td>0</td>\n",
       "    </tr>\n",
       "    <tr>\n",
       "      <th>17DEC001</th>\n",
       "      <td>AASTHA SINGH</td>\n",
       "      <td>12.50</td>\n",
       "      <td>18</td>\n",
       "      <td>13.0</td>\n",
       "      <td>43.50</td>\n",
       "      <td>C</td>\n",
       "      <td>DEC</td>\n",
       "      <td>0</td>\n",
       "    </tr>\n",
       "    <tr>\n",
       "      <th>17DEC002</th>\n",
       "      <td>KAPIL SINGH</td>\n",
       "      <td>8.00</td>\n",
       "      <td>7</td>\n",
       "      <td>11.0</td>\n",
       "      <td>26.00</td>\n",
       "      <td>D</td>\n",
       "      <td>DEC</td>\n",
       "      <td>0</td>\n",
       "    </tr>\n",
       "    <tr>\n",
       "      <th>17DEC004</th>\n",
       "      <td>RAJ VAIBHAV DUBEY</td>\n",
       "      <td>13.50</td>\n",
       "      <td>10</td>\n",
       "      <td>12.0</td>\n",
       "      <td>35.50</td>\n",
       "      <td>CD</td>\n",
       "      <td>DEC</td>\n",
       "      <td>0</td>\n",
       "    </tr>\n",
       "    <tr>\n",
       "      <th>17DEC005</th>\n",
       "      <td>SHIVAM BEEYANI</td>\n",
       "      <td>12.25</td>\n",
       "      <td>7</td>\n",
       "      <td>8.0</td>\n",
       "      <td>27.25</td>\n",
       "      <td>D</td>\n",
       "      <td>DEC</td>\n",
       "      <td>0</td>\n",
       "    </tr>\n",
       "  </tbody>\n",
       "</table>\n",
       "</div>"
      ],
      "text/plain": [
       "               STUDENT NAME  Quizzes  mid Term  end Term  total(100) grade  \\\n",
       "ROLLNO                                                                       \n",
       "14UCC040       VAIBHAV VYAS    15.75        19      15.0       49.75    BC   \n",
       "17DEC001       AASTHA SINGH    12.50        18      13.0       43.50     C   \n",
       "17DEC002        KAPIL SINGH     8.00         7      11.0       26.00     D   \n",
       "17DEC004  RAJ VAIBHAV DUBEY    13.50        10      12.0       35.50    CD   \n",
       "17DEC005     SHIVAM BEEYANI    12.25         7       8.0       27.25     D   \n",
       "\n",
       "         Branch  Failed_in_anel  \n",
       "ROLLNO                           \n",
       "14UCC040    UCC               0  \n",
       "17DEC001    DEC               0  \n",
       "17DEC002    DEC               0  \n",
       "17DEC004    DEC               0  \n",
       "17DEC005    DEC               0  "
      ]
     },
     "execution_count": 21,
     "metadata": {},
     "output_type": "execute_result"
    }
   ],
   "source": [
    "final_df.head()"
   ]
  },
  {
   "cell_type": "code",
   "execution_count": 22,
   "metadata": {},
   "outputs": [
    {
     "data": {
      "text/html": [
       "<div>\n",
       "<style scoped>\n",
       "    .dataframe tbody tr th:only-of-type {\n",
       "        vertical-align: middle;\n",
       "    }\n",
       "\n",
       "    .dataframe tbody tr th {\n",
       "        vertical-align: top;\n",
       "    }\n",
       "\n",
       "    .dataframe thead th {\n",
       "        text-align: right;\n",
       "    }\n",
       "</style>\n",
       "<table border=\"1\" class=\"dataframe\">\n",
       "  <thead>\n",
       "    <tr style=\"text-align: right;\">\n",
       "      <th></th>\n",
       "      <th>Quizzes</th>\n",
       "      <th>mid Term</th>\n",
       "      <th>end Term</th>\n",
       "      <th>total(100)</th>\n",
       "      <th>Failed_in_anel</th>\n",
       "    </tr>\n",
       "  </thead>\n",
       "  <tbody>\n",
       "    <tr>\n",
       "      <th>count</th>\n",
       "      <td>217.000000</td>\n",
       "      <td>217.000000</td>\n",
       "      <td>217.000000</td>\n",
       "      <td>217.000000</td>\n",
       "      <td>217.000000</td>\n",
       "    </tr>\n",
       "    <tr>\n",
       "      <th>mean</th>\n",
       "      <td>14.854839</td>\n",
       "      <td>15.741935</td>\n",
       "      <td>16.267281</td>\n",
       "      <td>46.864055</td>\n",
       "      <td>0.027650</td>\n",
       "    </tr>\n",
       "    <tr>\n",
       "      <th>std</th>\n",
       "      <td>4.778328</td>\n",
       "      <td>6.667204</td>\n",
       "      <td>6.853121</td>\n",
       "      <td>15.031351</td>\n",
       "      <td>0.164346</td>\n",
       "    </tr>\n",
       "    <tr>\n",
       "      <th>min</th>\n",
       "      <td>1.750000</td>\n",
       "      <td>0.000000</td>\n",
       "      <td>0.000000</td>\n",
       "      <td>5.250000</td>\n",
       "      <td>0.000000</td>\n",
       "    </tr>\n",
       "    <tr>\n",
       "      <th>25%</th>\n",
       "      <td>11.750000</td>\n",
       "      <td>10.000000</td>\n",
       "      <td>12.000000</td>\n",
       "      <td>36.000000</td>\n",
       "      <td>0.000000</td>\n",
       "    </tr>\n",
       "    <tr>\n",
       "      <th>50%</th>\n",
       "      <td>14.500000</td>\n",
       "      <td>16.000000</td>\n",
       "      <td>16.000000</td>\n",
       "      <td>47.250000</td>\n",
       "      <td>0.000000</td>\n",
       "    </tr>\n",
       "    <tr>\n",
       "      <th>75%</th>\n",
       "      <td>17.750000</td>\n",
       "      <td>21.000000</td>\n",
       "      <td>20.000000</td>\n",
       "      <td>58.250000</td>\n",
       "      <td>0.000000</td>\n",
       "    </tr>\n",
       "    <tr>\n",
       "      <th>max</th>\n",
       "      <td>28.750000</td>\n",
       "      <td>29.000000</td>\n",
       "      <td>43.000000</td>\n",
       "      <td>86.750000</td>\n",
       "      <td>1.000000</td>\n",
       "    </tr>\n",
       "  </tbody>\n",
       "</table>\n",
       "</div>"
      ],
      "text/plain": [
       "          Quizzes    mid Term    end Term  total(100)  Failed_in_anel\n",
       "count  217.000000  217.000000  217.000000  217.000000      217.000000\n",
       "mean    14.854839   15.741935   16.267281   46.864055        0.027650\n",
       "std      4.778328    6.667204    6.853121   15.031351        0.164346\n",
       "min      1.750000    0.000000    0.000000    5.250000        0.000000\n",
       "25%     11.750000   10.000000   12.000000   36.000000        0.000000\n",
       "50%     14.500000   16.000000   16.000000   47.250000        0.000000\n",
       "75%     17.750000   21.000000   20.000000   58.250000        0.000000\n",
       "max     28.750000   29.000000   43.000000   86.750000        1.000000"
      ]
     },
     "execution_count": 22,
     "metadata": {},
     "output_type": "execute_result"
    }
   ],
   "source": [
    "final_df.describe()"
   ]
  },
  {
   "cell_type": "code",
   "execution_count": 23,
   "metadata": {},
   "outputs": [
    {
     "name": "stdout",
     "output_type": "stream",
     "text": [
      "<class 'pandas.core.frame.DataFrame'>\n",
      "Index: 217 entries, 14UCC040 to 17UEC146\n",
      "Data columns (total 8 columns):\n",
      "STUDENT NAME      217 non-null object\n",
      "Quizzes           217 non-null float64\n",
      "mid Term          217 non-null int64\n",
      "end Term          217 non-null float64\n",
      "total(100)        217 non-null float64\n",
      "grade             217 non-null object\n",
      "Branch            217 non-null object\n",
      "Failed_in_anel    217 non-null int32\n",
      "dtypes: float64(3), int32(1), int64(1), object(3)\n",
      "memory usage: 24.4+ KB\n"
     ]
    }
   ],
   "source": [
    "final_df.info()"
   ]
  },
  {
   "cell_type": "code",
   "execution_count": 24,
   "metadata": {},
   "outputs": [],
   "source": [
    "def conv(a):\n",
    "    listf=[]\n",
    "    if(a==\"F\"):\n",
    "        return(0)\n",
    "    elif(a==\"D\"):\n",
    "        return(1)\n",
    "    elif(a==\"CD\"):\n",
    "        return(2)\n",
    "    elif(a==\"C\"):\n",
    "        return(3)\n",
    "    elif(a==\"BC\"):\n",
    "        return(4)\n",
    "    elif(a==\"B\"):\n",
    "        return(5)\n",
    "    elif(a==\"AB\"):\n",
    "        return(6)\n",
    "    else:\n",
    "        return(7)\n",
    "final_df['anel_grade_cov']=[conv(a) for a in final_df['grade']]"
   ]
  },
  {
   "cell_type": "code",
   "execution_count": 25,
   "metadata": {},
   "outputs": [
    {
     "data": {
      "text/html": [
       "<div>\n",
       "<style scoped>\n",
       "    .dataframe tbody tr th:only-of-type {\n",
       "        vertical-align: middle;\n",
       "    }\n",
       "\n",
       "    .dataframe tbody tr th {\n",
       "        vertical-align: top;\n",
       "    }\n",
       "\n",
       "    .dataframe thead th {\n",
       "        text-align: right;\n",
       "    }\n",
       "</style>\n",
       "<table border=\"1\" class=\"dataframe\">\n",
       "  <thead>\n",
       "    <tr style=\"text-align: right;\">\n",
       "      <th></th>\n",
       "      <th>STUDENT NAME</th>\n",
       "      <th>Quizzes</th>\n",
       "      <th>mid Term</th>\n",
       "      <th>end Term</th>\n",
       "      <th>total(100)</th>\n",
       "      <th>grade</th>\n",
       "      <th>Branch</th>\n",
       "      <th>Failed_in_anel</th>\n",
       "      <th>anel_grade_cov</th>\n",
       "    </tr>\n",
       "    <tr>\n",
       "      <th>ROLLNO</th>\n",
       "      <th></th>\n",
       "      <th></th>\n",
       "      <th></th>\n",
       "      <th></th>\n",
       "      <th></th>\n",
       "      <th></th>\n",
       "      <th></th>\n",
       "      <th></th>\n",
       "      <th></th>\n",
       "    </tr>\n",
       "  </thead>\n",
       "  <tbody>\n",
       "    <tr>\n",
       "      <th>14UCC040</th>\n",
       "      <td>VAIBHAV VYAS</td>\n",
       "      <td>15.75</td>\n",
       "      <td>19</td>\n",
       "      <td>15.0</td>\n",
       "      <td>49.75</td>\n",
       "      <td>BC</td>\n",
       "      <td>UCC</td>\n",
       "      <td>0</td>\n",
       "      <td>4</td>\n",
       "    </tr>\n",
       "    <tr>\n",
       "      <th>17DEC001</th>\n",
       "      <td>AASTHA SINGH</td>\n",
       "      <td>12.50</td>\n",
       "      <td>18</td>\n",
       "      <td>13.0</td>\n",
       "      <td>43.50</td>\n",
       "      <td>C</td>\n",
       "      <td>DEC</td>\n",
       "      <td>0</td>\n",
       "      <td>3</td>\n",
       "    </tr>\n",
       "    <tr>\n",
       "      <th>17DEC002</th>\n",
       "      <td>KAPIL SINGH</td>\n",
       "      <td>8.00</td>\n",
       "      <td>7</td>\n",
       "      <td>11.0</td>\n",
       "      <td>26.00</td>\n",
       "      <td>D</td>\n",
       "      <td>DEC</td>\n",
       "      <td>0</td>\n",
       "      <td>1</td>\n",
       "    </tr>\n",
       "    <tr>\n",
       "      <th>17DEC004</th>\n",
       "      <td>RAJ VAIBHAV DUBEY</td>\n",
       "      <td>13.50</td>\n",
       "      <td>10</td>\n",
       "      <td>12.0</td>\n",
       "      <td>35.50</td>\n",
       "      <td>CD</td>\n",
       "      <td>DEC</td>\n",
       "      <td>0</td>\n",
       "      <td>2</td>\n",
       "    </tr>\n",
       "    <tr>\n",
       "      <th>17DEC005</th>\n",
       "      <td>SHIVAM BEEYANI</td>\n",
       "      <td>12.25</td>\n",
       "      <td>7</td>\n",
       "      <td>8.0</td>\n",
       "      <td>27.25</td>\n",
       "      <td>D</td>\n",
       "      <td>DEC</td>\n",
       "      <td>0</td>\n",
       "      <td>1</td>\n",
       "    </tr>\n",
       "  </tbody>\n",
       "</table>\n",
       "</div>"
      ],
      "text/plain": [
       "               STUDENT NAME  Quizzes  mid Term  end Term  total(100) grade  \\\n",
       "ROLLNO                                                                       \n",
       "14UCC040       VAIBHAV VYAS    15.75        19      15.0       49.75    BC   \n",
       "17DEC001       AASTHA SINGH    12.50        18      13.0       43.50     C   \n",
       "17DEC002        KAPIL SINGH     8.00         7      11.0       26.00     D   \n",
       "17DEC004  RAJ VAIBHAV DUBEY    13.50        10      12.0       35.50    CD   \n",
       "17DEC005     SHIVAM BEEYANI    12.25         7       8.0       27.25     D   \n",
       "\n",
       "         Branch  Failed_in_anel  anel_grade_cov  \n",
       "ROLLNO                                           \n",
       "14UCC040    UCC               0               4  \n",
       "17DEC001    DEC               0               3  \n",
       "17DEC002    DEC               0               1  \n",
       "17DEC004    DEC               0               2  \n",
       "17DEC005    DEC               0               1  "
      ]
     },
     "execution_count": 25,
     "metadata": {},
     "output_type": "execute_result"
    }
   ],
   "source": [
    "final_df.head()"
   ]
  },
  {
   "cell_type": "code",
   "execution_count": 26,
   "metadata": {},
   "outputs": [
    {
     "name": "stdout",
     "output_type": "stream",
     "text": [
      "[u'STUDENT NAME' u'Quizzes' u'mid Term' u'end Term' u'total(100)' u'grade'\n",
      " 'Branch' 'Failed_in_anel' 'anel_grade_cov']\n"
     ]
    }
   ],
   "source": [
    "print(final_df.columns.values)"
   ]
  },
  {
   "cell_type": "code",
   "execution_count": 27,
   "metadata": {},
   "outputs": [],
   "source": [
    "def convB(a):\n",
    "    if(a==\"UCC\"):\n",
    "        return(2)\n",
    "    elif(a==\"UEC\"):\n",
    "        return(1)\n",
    "    else:\n",
    "        return(0)\n",
    "final_df['Branch_cov']=[convB(a) for a in final_df['Branch']]"
   ]
  },
  {
   "cell_type": "code",
   "execution_count": 28,
   "metadata": {},
   "outputs": [],
   "source": [
    "Pred_df=final_df[[\"mid Term\",\"end Term\",\"Quizzes\",\"Branch_cov\",\"total(100)\",\"anel_grade_cov\"]]"
   ]
  },
  {
   "cell_type": "code",
   "execution_count": 29,
   "metadata": {},
   "outputs": [
    {
     "data": {
      "text/html": [
       "<div>\n",
       "<style scoped>\n",
       "    .dataframe tbody tr th:only-of-type {\n",
       "        vertical-align: middle;\n",
       "    }\n",
       "\n",
       "    .dataframe tbody tr th {\n",
       "        vertical-align: top;\n",
       "    }\n",
       "\n",
       "    .dataframe thead th {\n",
       "        text-align: right;\n",
       "    }\n",
       "</style>\n",
       "<table border=\"1\" class=\"dataframe\">\n",
       "  <thead>\n",
       "    <tr style=\"text-align: right;\">\n",
       "      <th></th>\n",
       "      <th>mid Term</th>\n",
       "      <th>end Term</th>\n",
       "      <th>Quizzes</th>\n",
       "      <th>Branch_cov</th>\n",
       "      <th>total(100)</th>\n",
       "      <th>anel_grade_cov</th>\n",
       "    </tr>\n",
       "    <tr>\n",
       "      <th>ROLLNO</th>\n",
       "      <th></th>\n",
       "      <th></th>\n",
       "      <th></th>\n",
       "      <th></th>\n",
       "      <th></th>\n",
       "      <th></th>\n",
       "    </tr>\n",
       "  </thead>\n",
       "  <tbody>\n",
       "    <tr>\n",
       "      <th>14UCC040</th>\n",
       "      <td>19</td>\n",
       "      <td>15.0</td>\n",
       "      <td>15.75</td>\n",
       "      <td>2</td>\n",
       "      <td>49.75</td>\n",
       "      <td>4</td>\n",
       "    </tr>\n",
       "    <tr>\n",
       "      <th>17DEC001</th>\n",
       "      <td>18</td>\n",
       "      <td>13.0</td>\n",
       "      <td>12.50</td>\n",
       "      <td>0</td>\n",
       "      <td>43.50</td>\n",
       "      <td>3</td>\n",
       "    </tr>\n",
       "    <tr>\n",
       "      <th>17DEC002</th>\n",
       "      <td>7</td>\n",
       "      <td>11.0</td>\n",
       "      <td>8.00</td>\n",
       "      <td>0</td>\n",
       "      <td>26.00</td>\n",
       "      <td>1</td>\n",
       "    </tr>\n",
       "    <tr>\n",
       "      <th>17DEC004</th>\n",
       "      <td>10</td>\n",
       "      <td>12.0</td>\n",
       "      <td>13.50</td>\n",
       "      <td>0</td>\n",
       "      <td>35.50</td>\n",
       "      <td>2</td>\n",
       "    </tr>\n",
       "    <tr>\n",
       "      <th>17DEC005</th>\n",
       "      <td>7</td>\n",
       "      <td>8.0</td>\n",
       "      <td>12.25</td>\n",
       "      <td>0</td>\n",
       "      <td>27.25</td>\n",
       "      <td>1</td>\n",
       "    </tr>\n",
       "  </tbody>\n",
       "</table>\n",
       "</div>"
      ],
      "text/plain": [
       "          mid Term  end Term  Quizzes  Branch_cov  total(100)  anel_grade_cov\n",
       "ROLLNO                                                                       \n",
       "14UCC040        19      15.0    15.75           2       49.75               4\n",
       "17DEC001        18      13.0    12.50           0       43.50               3\n",
       "17DEC002         7      11.0     8.00           0       26.00               1\n",
       "17DEC004        10      12.0    13.50           0       35.50               2\n",
       "17DEC005         7       8.0    12.25           0       27.25               1"
      ]
     },
     "execution_count": 29,
     "metadata": {},
     "output_type": "execute_result"
    }
   ],
   "source": [
    "Pred_df.head()"
   ]
  },
  {
   "cell_type": "code",
   "execution_count": 30,
   "metadata": {},
   "outputs": [],
   "source": [
    "from sklearn.model_selection import StratifiedShuffleSplit"
   ]
  },
  {
   "cell_type": "code",
   "execution_count": 31,
   "metadata": {},
   "outputs": [],
   "source": [
    "from sklearn.model_selection import train_test_split\n",
    "train_set, test_set = train_test_split(Pred_df, test_size=0.2, random_state=42)"
   ]
  },
  {
   "cell_type": "code",
   "execution_count": 32,
   "metadata": {},
   "outputs": [
    {
     "data": {
      "text/html": [
       "<div>\n",
       "<style scoped>\n",
       "    .dataframe tbody tr th:only-of-type {\n",
       "        vertical-align: middle;\n",
       "    }\n",
       "\n",
       "    .dataframe tbody tr th {\n",
       "        vertical-align: top;\n",
       "    }\n",
       "\n",
       "    .dataframe thead th {\n",
       "        text-align: right;\n",
       "    }\n",
       "</style>\n",
       "<table border=\"1\" class=\"dataframe\">\n",
       "  <thead>\n",
       "    <tr style=\"text-align: right;\">\n",
       "      <th></th>\n",
       "      <th>mid Term</th>\n",
       "      <th>end Term</th>\n",
       "      <th>Quizzes</th>\n",
       "      <th>Branch_cov</th>\n",
       "      <th>total(100)</th>\n",
       "      <th>anel_grade_cov</th>\n",
       "    </tr>\n",
       "    <tr>\n",
       "      <th>ROLLNO</th>\n",
       "      <th></th>\n",
       "      <th></th>\n",
       "      <th></th>\n",
       "      <th></th>\n",
       "      <th></th>\n",
       "      <th></th>\n",
       "    </tr>\n",
       "  </thead>\n",
       "  <tbody>\n",
       "    <tr>\n",
       "      <th>17UEC006</th>\n",
       "      <td>6</td>\n",
       "      <td>7.0</td>\n",
       "      <td>15.75</td>\n",
       "      <td>1</td>\n",
       "      <td>28.75</td>\n",
       "      <td>1</td>\n",
       "    </tr>\n",
       "    <tr>\n",
       "      <th>17UEC018</th>\n",
       "      <td>24</td>\n",
       "      <td>18.0</td>\n",
       "      <td>18.25</td>\n",
       "      <td>1</td>\n",
       "      <td>60.25</td>\n",
       "      <td>6</td>\n",
       "    </tr>\n",
       "    <tr>\n",
       "      <th>17UEC062</th>\n",
       "      <td>21</td>\n",
       "      <td>18.0</td>\n",
       "      <td>19.25</td>\n",
       "      <td>1</td>\n",
       "      <td>58.25</td>\n",
       "      <td>5</td>\n",
       "    </tr>\n",
       "    <tr>\n",
       "      <th>17UEC142</th>\n",
       "      <td>22</td>\n",
       "      <td>19.0</td>\n",
       "      <td>16.25</td>\n",
       "      <td>1</td>\n",
       "      <td>57.25</td>\n",
       "      <td>5</td>\n",
       "    </tr>\n",
       "    <tr>\n",
       "      <th>17UEC008</th>\n",
       "      <td>5</td>\n",
       "      <td>16.0</td>\n",
       "      <td>12.50</td>\n",
       "      <td>1</td>\n",
       "      <td>33.50</td>\n",
       "      <td>2</td>\n",
       "    </tr>\n",
       "  </tbody>\n",
       "</table>\n",
       "</div>"
      ],
      "text/plain": [
       "          mid Term  end Term  Quizzes  Branch_cov  total(100)  anel_grade_cov\n",
       "ROLLNO                                                                       \n",
       "17UEC006         6       7.0    15.75           1       28.75               1\n",
       "17UEC018        24      18.0    18.25           1       60.25               6\n",
       "17UEC062        21      18.0    19.25           1       58.25               5\n",
       "17UEC142        22      19.0    16.25           1       57.25               5\n",
       "17UEC008         5      16.0    12.50           1       33.50               2"
      ]
     },
     "execution_count": 32,
     "metadata": {},
     "output_type": "execute_result"
    }
   ],
   "source": [
    "train_set.head()"
   ]
  },
  {
   "cell_type": "code",
   "execution_count": 33,
   "metadata": {},
   "outputs": [
    {
     "data": {
      "text/plain": [
       "anel_grade_cov    1.000000\n",
       "total(100)        0.947159\n",
       "mid Term          0.855721\n",
       "end Term          0.779123\n",
       "Quizzes           0.668096\n",
       "Branch_cov       -0.027142\n",
       "Name: anel_grade_cov, dtype: float64"
      ]
     },
     "execution_count": 33,
     "metadata": {},
     "output_type": "execute_result"
    }
   ],
   "source": [
    "corr_matrix = Pred_df.corr()\n",
    "corr_matrix[\"anel_grade_cov\"].sort_values(ascending=False)"
   ]
  },
  {
   "cell_type": "code",
   "execution_count": 34,
   "metadata": {},
   "outputs": [
    {
     "data": {
      "text/html": [
       "<div>\n",
       "<style scoped>\n",
       "    .dataframe tbody tr th:only-of-type {\n",
       "        vertical-align: middle;\n",
       "    }\n",
       "\n",
       "    .dataframe tbody tr th {\n",
       "        vertical-align: top;\n",
       "    }\n",
       "\n",
       "    .dataframe thead th {\n",
       "        text-align: right;\n",
       "    }\n",
       "</style>\n",
       "<table border=\"1\" class=\"dataframe\">\n",
       "  <thead>\n",
       "    <tr style=\"text-align: right;\">\n",
       "      <th></th>\n",
       "      <th>mid Term</th>\n",
       "      <th>Quizzes</th>\n",
       "      <th>Branch_cov</th>\n",
       "    </tr>\n",
       "    <tr>\n",
       "      <th>ROLLNO</th>\n",
       "      <th></th>\n",
       "      <th></th>\n",
       "      <th></th>\n",
       "    </tr>\n",
       "  </thead>\n",
       "  <tbody>\n",
       "    <tr>\n",
       "      <th>17UEC006</th>\n",
       "      <td>6</td>\n",
       "      <td>15.75</td>\n",
       "      <td>1</td>\n",
       "    </tr>\n",
       "    <tr>\n",
       "      <th>17UEC018</th>\n",
       "      <td>24</td>\n",
       "      <td>18.25</td>\n",
       "      <td>1</td>\n",
       "    </tr>\n",
       "    <tr>\n",
       "      <th>17UEC062</th>\n",
       "      <td>21</td>\n",
       "      <td>19.25</td>\n",
       "      <td>1</td>\n",
       "    </tr>\n",
       "    <tr>\n",
       "      <th>17UEC142</th>\n",
       "      <td>22</td>\n",
       "      <td>16.25</td>\n",
       "      <td>1</td>\n",
       "    </tr>\n",
       "    <tr>\n",
       "      <th>17UEC008</th>\n",
       "      <td>5</td>\n",
       "      <td>12.50</td>\n",
       "      <td>1</td>\n",
       "    </tr>\n",
       "  </tbody>\n",
       "</table>\n",
       "</div>"
      ],
      "text/plain": [
       "          mid Term  Quizzes  Branch_cov\n",
       "ROLLNO                                 \n",
       "17UEC006         6    15.75           1\n",
       "17UEC018        24    18.25           1\n",
       "17UEC062        21    19.25           1\n",
       "17UEC142        22    16.25           1\n",
       "17UEC008         5    12.50           1"
      ]
     },
     "execution_count": 34,
     "metadata": {},
     "output_type": "execute_result"
    }
   ],
   "source": [
    "Train_X=train_set.drop([\"end Term\",\"anel_grade_cov\",\"total(100)\"],axis=1)\n",
    "Train_X.head()"
   ]
  },
  {
   "cell_type": "code",
   "execution_count": 35,
   "metadata": {},
   "outputs": [],
   "source": [
    "Train_Y_Mark = train_set[\"end Term\"].copy()"
   ]
  },
  {
   "cell_type": "code",
   "execution_count": 36,
   "metadata": {},
   "outputs": [],
   "source": [
    "Train_Y_FMark = train_set[\"total(100)\"].copy()"
   ]
  },
  {
   "cell_type": "code",
   "execution_count": 37,
   "metadata": {},
   "outputs": [],
   "source": [
    "Train_Y = train_set[\"anel_grade_cov\"].copy()"
   ]
  },
  {
   "cell_type": "code",
   "execution_count": 38,
   "metadata": {},
   "outputs": [],
   "source": [
    "from sklearn.linear_model import LinearRegression\n",
    "lin_reg = LinearRegression()"
   ]
  },
  {
   "cell_type": "code",
   "execution_count": 39,
   "metadata": {},
   "outputs": [
    {
     "data": {
      "text/plain": [
       "LinearRegression(copy_X=True, fit_intercept=True, n_jobs=1, normalize=False)"
      ]
     },
     "execution_count": 39,
     "metadata": {},
     "output_type": "execute_result"
    }
   ],
   "source": [
    "lin_reg.fit(Train_X,Train_Y)"
   ]
  },
  {
   "cell_type": "code",
   "execution_count": 40,
   "metadata": {},
   "outputs": [
    {
     "name": "stdout",
     "output_type": "stream",
     "text": [
      "('Predictions:\\t', array([5.7151639 , 1.80823119, 7.15135434, 2.86709014, 2.9903583 ,\n",
      "       5.11581736, 2.20352806, 3.10222342]))\n"
     ]
    }
   ],
   "source": [
    "some_data = Train_X.iloc[6:14]\n",
    "some_labels = Train_Y.iloc[6:14]\n",
    "print(\"Predictions:\\t\",lin_reg.predict(some_data))"
   ]
  },
  {
   "cell_type": "code",
   "execution_count": 41,
   "metadata": {},
   "outputs": [
    {
     "name": "stdout",
     "output_type": "stream",
     "text": [
      "('Labels\\t\\t', [6L, 2L, 7L, 3L, 3L, 5L, 2L, 3L])\n"
     ]
    }
   ],
   "source": [
    "print(\"Labels\\t\\t\",list(some_labels))"
   ]
  },
  {
   "cell_type": "code",
   "execution_count": 42,
   "metadata": {},
   "outputs": [
    {
     "data": {
      "text/plain": [
       "ROLLNO\n",
       "17UEC006    1\n",
       "17UEC018    6\n",
       "17UEC062    5\n",
       "17UEC142    5\n",
       "17UEC008    2\n",
       "Name: anel_grade_cov, dtype: int64"
      ]
     },
     "execution_count": 42,
     "metadata": {},
     "output_type": "execute_result"
    }
   ],
   "source": [
    "Train_Y.head()"
   ]
  },
  {
   "cell_type": "code",
   "execution_count": 43,
   "metadata": {},
   "outputs": [
    {
     "data": {
      "text/html": [
       "<div>\n",
       "<style scoped>\n",
       "    .dataframe tbody tr th:only-of-type {\n",
       "        vertical-align: middle;\n",
       "    }\n",
       "\n",
       "    .dataframe tbody tr th {\n",
       "        vertical-align: top;\n",
       "    }\n",
       "\n",
       "    .dataframe thead th {\n",
       "        text-align: right;\n",
       "    }\n",
       "</style>\n",
       "<table border=\"1\" class=\"dataframe\">\n",
       "  <thead>\n",
       "    <tr style=\"text-align: right;\">\n",
       "      <th></th>\n",
       "      <th>mid Term</th>\n",
       "      <th>Quizzes</th>\n",
       "      <th>Branch_cov</th>\n",
       "    </tr>\n",
       "    <tr>\n",
       "      <th>ROLLNO</th>\n",
       "      <th></th>\n",
       "      <th></th>\n",
       "      <th></th>\n",
       "    </tr>\n",
       "  </thead>\n",
       "  <tbody>\n",
       "    <tr>\n",
       "      <th>17UEC006</th>\n",
       "      <td>6</td>\n",
       "      <td>15.75</td>\n",
       "      <td>1</td>\n",
       "    </tr>\n",
       "    <tr>\n",
       "      <th>17UEC018</th>\n",
       "      <td>24</td>\n",
       "      <td>18.25</td>\n",
       "      <td>1</td>\n",
       "    </tr>\n",
       "    <tr>\n",
       "      <th>17UEC062</th>\n",
       "      <td>21</td>\n",
       "      <td>19.25</td>\n",
       "      <td>1</td>\n",
       "    </tr>\n",
       "    <tr>\n",
       "      <th>17UEC142</th>\n",
       "      <td>22</td>\n",
       "      <td>16.25</td>\n",
       "      <td>1</td>\n",
       "    </tr>\n",
       "    <tr>\n",
       "      <th>17UEC008</th>\n",
       "      <td>5</td>\n",
       "      <td>12.50</td>\n",
       "      <td>1</td>\n",
       "    </tr>\n",
       "  </tbody>\n",
       "</table>\n",
       "</div>"
      ],
      "text/plain": [
       "          mid Term  Quizzes  Branch_cov\n",
       "ROLLNO                                 \n",
       "17UEC006         6    15.75           1\n",
       "17UEC018        24    18.25           1\n",
       "17UEC062        21    19.25           1\n",
       "17UEC142        22    16.25           1\n",
       "17UEC008         5    12.50           1"
      ]
     },
     "execution_count": 43,
     "metadata": {},
     "output_type": "execute_result"
    }
   ],
   "source": [
    "Train_X.head()"
   ]
  },
  {
   "cell_type": "code",
   "execution_count": 44,
   "metadata": {},
   "outputs": [
    {
     "data": {
      "text/plain": [
       "0.767097795939895"
      ]
     },
     "execution_count": 44,
     "metadata": {},
     "output_type": "execute_result"
    }
   ],
   "source": [
    "Test_X=test_set.drop([\"end Term\",\"anel_grade_cov\",\"total(100)\"],axis=1)\n",
    "Test_Y=test_set[\"anel_grade_cov\"].copy()\n",
    "\n",
    "from sklearn.metrics import mean_squared_error\n",
    "Grade_predictions = lin_reg.predict(Test_X)\n",
    "lin_mse = mean_squared_error(Test_Y, Grade_predictions)\n",
    "lin_rmse = np.sqrt(lin_mse)\n",
    "lin_rmse\n",
    "\n",
    "\n"
   ]
  },
  {
   "cell_type": "code",
   "execution_count": 45,
   "metadata": {},
   "outputs": [
    {
     "data": {
      "text/plain": [
       "DecisionTreeRegressor(criterion='mse', max_depth=None, max_features=None,\n",
       "           max_leaf_nodes=None, min_impurity_decrease=0.0,\n",
       "           min_impurity_split=None, min_samples_leaf=1,\n",
       "           min_samples_split=2, min_weight_fraction_leaf=0.0,\n",
       "           presort=False, random_state=None, splitter='best')"
      ]
     },
     "execution_count": 45,
     "metadata": {},
     "output_type": "execute_result"
    }
   ],
   "source": [
    "from sklearn.tree import DecisionTreeRegressor\n",
    "tree_reg = DecisionTreeRegressor()\n",
    "tree_reg.fit(Train_X,Train_Y)"
   ]
  },
  {
   "cell_type": "code",
   "execution_count": 46,
   "metadata": {},
   "outputs": [
    {
     "data": {
      "text/plain": [
       "0.8393720596645177"
      ]
     },
     "execution_count": 46,
     "metadata": {},
     "output_type": "execute_result"
    }
   ],
   "source": [
    "Grade_predictions = tree_reg.predict(Test_X)\n",
    "tree_mse = mean_squared_error(Test_Y, Grade_predictions)\n",
    "tree_rmse = np.sqrt(tree_mse)\n",
    "tree_rmse"
   ]
  },
  {
   "cell_type": "code",
   "execution_count": 47,
   "metadata": {},
   "outputs": [
    {
     "data": {
      "text/plain": [
       "1.262854817411934"
      ]
     },
     "execution_count": 47,
     "metadata": {},
     "output_type": "execute_result"
    }
   ],
   "source": [
    "#error is more than our previous model may be this is because overfitting\n",
    "#we can use cross validation to avoid overfitting\n",
    "from sklearn.model_selection import cross_val_score\n",
    "scores = cross_val_score(tree_reg, Train_X, Train_Y, scoring=\"neg_mean_squared_error\", cv=10)\n",
    "rmse_scores = np.sqrt(-scores)\n",
    "rmse_scores.mean()"
   ]
  },
  {
   "cell_type": "code",
   "execution_count": 48,
   "metadata": {},
   "outputs": [
    {
     "data": {
      "text/plain": [
       "RandomForestRegressor(bootstrap=True, criterion='mse', max_depth=None,\n",
       "           max_features='auto', max_leaf_nodes=None,\n",
       "           min_impurity_decrease=0.0, min_impurity_split=None,\n",
       "           min_samples_leaf=1, min_samples_split=2,\n",
       "           min_weight_fraction_leaf=0.0, n_estimators=10, n_jobs=1,\n",
       "           oob_score=False, random_state=None, verbose=0, warm_start=False)"
      ]
     },
     "execution_count": 48,
     "metadata": {},
     "output_type": "execute_result"
    }
   ],
   "source": [
    "from sklearn.ensemble import RandomForestRegressor\n",
    "forest_reg = RandomForestRegressor()\n",
    "forest_reg.fit(Train_X,Train_Y)"
   ]
  },
  {
   "cell_type": "code",
   "execution_count": 49,
   "metadata": {},
   "outputs": [
    {
     "data": {
      "text/plain": [
       "1.0122922661135356"
      ]
     },
     "execution_count": 49,
     "metadata": {},
     "output_type": "execute_result"
    }
   ],
   "source": [
    "scores = cross_val_score(forest_reg, Train_X, Train_Y, scoring=\"neg_mean_squared_error\", cv=10)\n",
    "rmse_scores = np.sqrt(-scores)\n",
    "rmse_scores.mean()"
   ]
  },
  {
   "cell_type": "code",
   "execution_count": 50,
   "metadata": {},
   "outputs": [
    {
     "data": {
      "text/plain": [
       "SVR(C=1.0, cache_size=200, coef0=0.0, degree=3, epsilon=0.2, gamma='auto',\n",
       "  kernel='rbf', max_iter=-1, shrinking=True, tol=0.001, verbose=False)"
      ]
     },
     "execution_count": 50,
     "metadata": {},
     "output_type": "execute_result"
    }
   ],
   "source": [
    "#error is more than the linear regression\n",
    "#it is time to try a new model of svm regressor\n",
    "from sklearn.svm import SVR\n",
    "svm_reg=SVR(C=1.0,epsilon=0.2)\n",
    "svm_reg.fit(Train_X,Train_Y)"
   ]
  },
  {
   "cell_type": "code",
   "execution_count": 51,
   "metadata": {},
   "outputs": [
    {
     "data": {
      "text/plain": [
       "1.285544669397379"
      ]
     },
     "execution_count": 51,
     "metadata": {},
     "output_type": "execute_result"
    }
   ],
   "source": [
    "scores = cross_val_score(svm_reg, Train_X, Train_Y, scoring=\"neg_mean_squared_error\", cv=10)\n",
    "rmse_scores = np.sqrt(-scores)\n",
    "rmse_scores.mean()"
   ]
  },
  {
   "cell_type": "code",
   "execution_count": 52,
   "metadata": {},
   "outputs": [
    {
     "data": {
      "text/plain": [
       "1.3704795524468683"
      ]
     },
     "execution_count": 52,
     "metadata": {},
     "output_type": "execute_result"
    }
   ],
   "source": [
    "#it also has more error than svm calssifier than do the final test on the test set\n",
    "Grade_predictions = svm_reg.predict(Test_X)\n",
    "svm_mse = mean_squared_error(Test_Y, Grade_predictions)\n",
    "svm_rmse = np.sqrt(svm_mse)\n",
    "svm_rmse"
   ]
  },
  {
   "cell_type": "code",
   "execution_count": 53,
   "metadata": {},
   "outputs": [
    {
     "data": {
      "text/plain": [
       "0.7813159063109784"
      ]
     },
     "execution_count": 53,
     "metadata": {},
     "output_type": "execute_result"
    }
   ],
   "source": [
    "Grade_predictions = forest_reg.predict(Test_X)\n",
    "forest_mse = mean_squared_error(Test_Y, Grade_predictions)\n",
    "forest_rmse = np.sqrt(forest_mse)\n",
    "forest_rmse"
   ]
  },
  {
   "cell_type": "code",
   "execution_count": 54,
   "metadata": {},
   "outputs": [],
   "source": [
    "from sklearn import linear_model\n",
    "clf = linear_model.SGDRegressor()"
   ]
  },
  {
   "cell_type": "code",
   "execution_count": 55,
   "metadata": {},
   "outputs": [
    {
     "name": "stderr",
     "output_type": "stream",
     "text": [
      "C:\\Users\\Harsh\\Anaconda2\\lib\\site-packages\\sklearn\\linear_model\\stochastic_gradient.py:128: FutureWarning: max_iter and tol parameters have been added in <class 'sklearn.linear_model.stochastic_gradient.SGDRegressor'> in 0.19. If both are left unset, they default to max_iter=5 and tol=None. If tol is not None, max_iter defaults to max_iter=1000. From 0.21, default max_iter will be 1000, and default tol will be 1e-3.\n",
      "  \"and default tol will be 1e-3.\" % type(self), FutureWarning)\n"
     ]
    },
    {
     "data": {
      "text/plain": [
       "SGDRegressor(alpha=0.0001, average=False, epsilon=0.1, eta0=0.01,\n",
       "       fit_intercept=True, l1_ratio=0.15, learning_rate='invscaling',\n",
       "       loss='squared_loss', max_iter=None, n_iter=None, penalty='l2',\n",
       "       power_t=0.25, random_state=None, shuffle=True, tol=None, verbose=0,\n",
       "       warm_start=False)"
      ]
     },
     "execution_count": 55,
     "metadata": {},
     "output_type": "execute_result"
    }
   ],
   "source": [
    "clf.fit(Train_X, Train_Y)"
   ]
  },
  {
   "cell_type": "code",
   "execution_count": 56,
   "metadata": {},
   "outputs": [
    {
     "name": "stdout",
     "output_type": "stream",
     "text": [
      "('Predictions:\\t', array([  61282.94007533,  320425.83649745,  508976.27833967,\n",
      "           970.53678773, -120077.4895762 ,  486983.02197887,\n",
      "        361973.51398388,  420213.55757202]))\n"
     ]
    }
   ],
   "source": [
    "some_data = Train_X.iloc[6:14]\n",
    "some_labels = Train_Y.iloc[6:14]\n",
    "print(\"Predictions:\\t\",clf.predict(some_data))"
   ]
  },
  {
   "cell_type": "code",
   "execution_count": 57,
   "metadata": {},
   "outputs": [],
   "source": [
    "from sklearn import linear_model\n",
    "logreg = linear_model.LogisticRegression(C=1e5)"
   ]
  },
  {
   "cell_type": "code",
   "execution_count": 58,
   "metadata": {},
   "outputs": [
    {
     "data": {
      "text/plain": [
       "LogisticRegression(C=100000.0, class_weight=None, dual=False,\n",
       "          fit_intercept=True, intercept_scaling=1, max_iter=100,\n",
       "          multi_class='ovr', n_jobs=1, penalty='l2', random_state=None,\n",
       "          solver='liblinear', tol=0.0001, verbose=0, warm_start=False)"
      ]
     },
     "execution_count": 58,
     "metadata": {},
     "output_type": "execute_result"
    }
   ],
   "source": [
    "logreg.fit(Train_X, Train_Y)"
   ]
  },
  {
   "cell_type": "code",
   "execution_count": 59,
   "metadata": {},
   "outputs": [
    {
     "name": "stdout",
     "output_type": "stream",
     "text": [
      "('Predictions:\\t', array([6, 2, 7, 3, 3, 5, 2, 3], dtype=int64))\n"
     ]
    }
   ],
   "source": [
    "some_data = Train_X.iloc[6:14]\n",
    "some_labels = Train_Y.iloc[6:14]\n",
    "print(\"Predictions:\\t\",logreg.predict(some_data))"
   ]
  },
  {
   "cell_type": "code",
   "execution_count": 60,
   "metadata": {},
   "outputs": [
    {
     "name": "stdout",
     "output_type": "stream",
     "text": [
      "('Labels\\t\\t', [6L, 2L, 7L, 3L, 3L, 5L, 2L, 3L])\n"
     ]
    }
   ],
   "source": [
    "print(\"Labels\\t\\t\",list(some_labels))"
   ]
  },
  {
   "cell_type": "code",
   "execution_count": 61,
   "metadata": {},
   "outputs": [
    {
     "data": {
      "text/plain": [
       "0.8918825850158447"
      ]
     },
     "execution_count": 61,
     "metadata": {},
     "output_type": "execute_result"
    }
   ],
   "source": [
    "Test_X=test_set.drop([\"end Term\",\"anel_grade_cov\",\"total(100)\"],axis=1)\n",
    "Test_Y=test_set[\"anel_grade_cov\"].copy()\n",
    "\n",
    "from sklearn.metrics import mean_squared_error\n",
    "Grade_predictions = logreg.predict(Test_X)\n",
    "lin_mse = mean_squared_error(Test_Y, Grade_predictions)\n",
    "lin_rmse = np.sqrt(lin_mse)\n",
    "lin_rmse"
   ]
  },
  {
   "cell_type": "code",
   "execution_count": 62,
   "metadata": {},
   "outputs": [
    {
     "data": {
      "text/plain": [
       "LogisticRegression(C=1000.0, class_weight=None, dual=False,\n",
       "          fit_intercept=True, intercept_scaling=1, max_iter=100,\n",
       "          multi_class='ovr', n_jobs=1, penalty='l2', random_state=None,\n",
       "          solver='liblinear', tol=0.0001, verbose=0, warm_start=False)"
      ]
     },
     "execution_count": 62,
     "metadata": {},
     "output_type": "execute_result"
    }
   ],
   "source": [
    "logreg = linear_model.LogisticRegression(C=1e3)\n",
    "logreg.fit(Train_X, Train_Y)"
   ]
  },
  {
   "cell_type": "code",
   "execution_count": 63,
   "metadata": {},
   "outputs": [
    {
     "name": "stdout",
     "output_type": "stream",
     "text": [
      "('Predictions:\\t', array([6, 2, 7, 3, 3, 5, 2, 3], dtype=int64))\n"
     ]
    }
   ],
   "source": [
    "some_data = Train_X.iloc[6:14]\n",
    "some_labels = Train_Y.iloc[6:14]\n",
    "print(\"Predictions:\\t\",logreg.predict(some_data))"
   ]
  },
  {
   "cell_type": "code",
   "execution_count": 64,
   "metadata": {},
   "outputs": [
    {
     "data": {
      "text/plain": [
       "0.8918825850158447"
      ]
     },
     "execution_count": 64,
     "metadata": {},
     "output_type": "execute_result"
    }
   ],
   "source": [
    "Test_X=test_set.drop([\"end Term\",\"anel_grade_cov\",\"total(100)\"],axis=1)\n",
    "Test_Y=test_set[\"anel_grade_cov\"].copy()\n",
    "\n",
    "from sklearn.metrics import mean_squared_error\n",
    "Grade_predictions = logreg.predict(Test_X)\n",
    "lin_mse = mean_squared_error(Test_Y, Grade_predictions)\n",
    "lin_rmse = np.sqrt(lin_mse)\n",
    "lin_rmse"
   ]
  },
  {
   "cell_type": "code",
   "execution_count": 65,
   "metadata": {},
   "outputs": [
    {
     "data": {
      "text/plain": [
       "LogisticRegression(C=10000000.0, class_weight=None, dual=False,\n",
       "          fit_intercept=True, intercept_scaling=1, max_iter=100,\n",
       "          multi_class='ovr', n_jobs=1, penalty='l2', random_state=None,\n",
       "          solver='liblinear', tol=0.0001, verbose=0, warm_start=False)"
      ]
     },
     "execution_count": 65,
     "metadata": {},
     "output_type": "execute_result"
    }
   ],
   "source": [
    "logreg = linear_model.LogisticRegression(C=1e7)\n",
    "logreg.fit(Train_X, Train_Y)"
   ]
  },
  {
   "cell_type": "code",
   "execution_count": 66,
   "metadata": {},
   "outputs": [
    {
     "name": "stdout",
     "output_type": "stream",
     "text": [
      "('Predictions:\\t', array([6, 2, 7, 3, 3, 5, 2, 3], dtype=int64))\n"
     ]
    }
   ],
   "source": [
    "some_data = Train_X.iloc[6:14]\n",
    "some_labels = Train_Y.iloc[6:14]\n",
    "print(\"Predictions:\\t\",logreg.predict(some_data))"
   ]
  },
  {
   "cell_type": "code",
   "execution_count": 67,
   "metadata": {},
   "outputs": [
    {
     "data": {
      "text/plain": [
       "0.8918825850158447"
      ]
     },
     "execution_count": 67,
     "metadata": {},
     "output_type": "execute_result"
    }
   ],
   "source": [
    "Test_X=test_set.drop([\"end Term\",\"anel_grade_cov\",\"total(100)\"],axis=1)\n",
    "Test_Y=test_set[\"anel_grade_cov\"].copy()\n",
    "\n",
    "from sklearn.metrics import mean_squared_error\n",
    "Grade_predictions = logreg.predict(Test_X)\n",
    "lin_mse = mean_squared_error(Test_Y, Grade_predictions)\n",
    "lin_rmse = np.sqrt(lin_mse)\n",
    "lin_rmse"
   ]
  },
  {
   "cell_type": "code",
   "execution_count": 68,
   "metadata": {},
   "outputs": [
    {
     "data": {
      "text/plain": [
       "Ridge(alpha=10, copy_X=True, fit_intercept=True, max_iter=None,\n",
       "   normalize=False, random_state=None, solver='auto', tol=0.001)"
      ]
     },
     "execution_count": 68,
     "metadata": {},
     "output_type": "execute_result"
    }
   ],
   "source": [
    "reg = linear_model.Ridge (alpha = 10)\n",
    "reg.fit(Train_X,Train_Y)"
   ]
  },
  {
   "cell_type": "code",
   "execution_count": 69,
   "metadata": {},
   "outputs": [
    {
     "name": "stdout",
     "output_type": "stream",
     "text": [
      "('Predictions:\\t', array([5.72255624, 1.78846325, 7.12224923, 2.87856897, 3.00440023,\n",
      "       5.0891651 , 2.18245783, 3.07899494]))\n"
     ]
    }
   ],
   "source": [
    "some_data = Train_X.iloc[6:14]\n",
    "some_labels = Train_Y.iloc[6:14]\n",
    "print(\"Predictions:\\t\",reg.predict(some_data))"
   ]
  },
  {
   "cell_type": "code",
   "execution_count": 70,
   "metadata": {},
   "outputs": [
    {
     "data": {
      "text/plain": [
       "0.7664957130815069"
      ]
     },
     "execution_count": 70,
     "metadata": {},
     "output_type": "execute_result"
    }
   ],
   "source": [
    "from sklearn.metrics import mean_squared_error\n",
    "Grade_predictions = reg.predict(Test_X)\n",
    "lin_mse = mean_squared_error(Test_Y, Grade_predictions)\n",
    "lin_rmse = np.sqrt(lin_mse)\n",
    "lin_rmse"
   ]
  },
  {
   "cell_type": "code",
   "execution_count": 71,
   "metadata": {},
   "outputs": [
    {
     "data": {
      "text/html": [
       "<div>\n",
       "<style scoped>\n",
       "    .dataframe tbody tr th:only-of-type {\n",
       "        vertical-align: middle;\n",
       "    }\n",
       "\n",
       "    .dataframe tbody tr th {\n",
       "        vertical-align: top;\n",
       "    }\n",
       "\n",
       "    .dataframe thead th {\n",
       "        text-align: right;\n",
       "    }\n",
       "</style>\n",
       "<table border=\"1\" class=\"dataframe\">\n",
       "  <thead>\n",
       "    <tr style=\"text-align: right;\">\n",
       "      <th></th>\n",
       "      <th>mid Term</th>\n",
       "      <th>end Term</th>\n",
       "      <th>Quizzes</th>\n",
       "      <th>Branch_cov</th>\n",
       "      <th>total(100)</th>\n",
       "    </tr>\n",
       "    <tr>\n",
       "      <th>ROLLNO</th>\n",
       "      <th></th>\n",
       "      <th></th>\n",
       "      <th></th>\n",
       "      <th></th>\n",
       "      <th></th>\n",
       "    </tr>\n",
       "  </thead>\n",
       "  <tbody>\n",
       "    <tr>\n",
       "      <th>17UEC006</th>\n",
       "      <td>6</td>\n",
       "      <td>7.0</td>\n",
       "      <td>15.75</td>\n",
       "      <td>1</td>\n",
       "      <td>28.75</td>\n",
       "    </tr>\n",
       "    <tr>\n",
       "      <th>17UEC018</th>\n",
       "      <td>24</td>\n",
       "      <td>18.0</td>\n",
       "      <td>18.25</td>\n",
       "      <td>1</td>\n",
       "      <td>60.25</td>\n",
       "    </tr>\n",
       "    <tr>\n",
       "      <th>17UEC062</th>\n",
       "      <td>21</td>\n",
       "      <td>18.0</td>\n",
       "      <td>19.25</td>\n",
       "      <td>1</td>\n",
       "      <td>58.25</td>\n",
       "    </tr>\n",
       "    <tr>\n",
       "      <th>17UEC142</th>\n",
       "      <td>22</td>\n",
       "      <td>19.0</td>\n",
       "      <td>16.25</td>\n",
       "      <td>1</td>\n",
       "      <td>57.25</td>\n",
       "    </tr>\n",
       "    <tr>\n",
       "      <th>17UEC008</th>\n",
       "      <td>5</td>\n",
       "      <td>16.0</td>\n",
       "      <td>12.50</td>\n",
       "      <td>1</td>\n",
       "      <td>33.50</td>\n",
       "    </tr>\n",
       "  </tbody>\n",
       "</table>\n",
       "</div>"
      ],
      "text/plain": [
       "          mid Term  end Term  Quizzes  Branch_cov  total(100)\n",
       "ROLLNO                                                       \n",
       "17UEC006         6       7.0    15.75           1       28.75\n",
       "17UEC018        24      18.0    18.25           1       60.25\n",
       "17UEC062        21      18.0    19.25           1       58.25\n",
       "17UEC142        22      19.0    16.25           1       57.25\n",
       "17UEC008         5      16.0    12.50           1       33.50"
      ]
     },
     "execution_count": 71,
     "metadata": {},
     "output_type": "execute_result"
    }
   ],
   "source": [
    "Train_X1=train_set.drop([\"anel_grade_cov\"],axis=1)\n",
    "Train_X1.head()"
   ]
  },
  {
   "cell_type": "code",
   "execution_count": 72,
   "metadata": {},
   "outputs": [],
   "source": [
    "Train_Y = train_set[\"anel_grade_cov\"].copy()"
   ]
  },
  {
   "cell_type": "code",
   "execution_count": 73,
   "metadata": {},
   "outputs": [
    {
     "data": {
      "text/plain": [
       "Ridge(alpha=10, copy_X=True, fit_intercept=True, max_iter=None,\n",
       "   normalize=False, random_state=None, solver='auto', tol=0.001)"
      ]
     },
     "execution_count": 73,
     "metadata": {},
     "output_type": "execute_result"
    }
   ],
   "source": [
    "reg = linear_model.Ridge (alpha = 10)\n",
    "reg.fit(Train_X1,Train_Y)"
   ]
  },
  {
   "cell_type": "code",
   "execution_count": 74,
   "metadata": {},
   "outputs": [
    {
     "name": "stdout",
     "output_type": "stream",
     "text": [
      "('Predictions:\\t', array([5.84818479, 2.37138603, 7.56611023, 2.84574738, 3.45057277,\n",
      "       5.07446493, 2.07809872, 3.17303708]))\n"
     ]
    }
   ],
   "source": [
    "some_data = Train_X1.iloc[6:14]\n",
    "some_labels = Train_Y.iloc[6:14]\n",
    "print(\"Predictions:\\t\",reg.predict(some_data))"
   ]
  },
  {
   "cell_type": "code",
   "execution_count": 75,
   "metadata": {},
   "outputs": [
    {
     "data": {
      "text/plain": [
       "0.4106515048328663"
      ]
     },
     "execution_count": 75,
     "metadata": {},
     "output_type": "execute_result"
    }
   ],
   "source": [
    "Test_X1=test_set.drop([\"anel_grade_cov\"],axis=1)\n",
    "Test_Y=test_set[\"anel_grade_cov\"].copy()\n",
    "\n",
    "from sklearn.metrics import mean_squared_error\n",
    "Grade_predictions = reg.predict(Test_X1)\n",
    "lin_mse = mean_squared_error(Test_Y, Grade_predictions)\n",
    "lin_rmse = np.sqrt(lin_mse)\n",
    "lin_rmse"
   ]
  },
  {
   "cell_type": "code",
   "execution_count": null,
   "metadata": {},
   "outputs": [],
   "source": []
  }
 ],
 "metadata": {
  "kernelspec": {
   "display_name": "Python 3",
   "language": "python",
   "name": "python3"
  },
  "language_info": {
   "codemirror_mode": {
    "name": "ipython",
    "version": 3
   },
   "file_extension": ".py",
   "mimetype": "text/x-python",
   "name": "python",
   "nbconvert_exporter": "python",
   "pygments_lexer": "ipython3",
   "version": "3.6.4"
  }
 },
 "nbformat": 4,
 "nbformat_minor": 2
}
