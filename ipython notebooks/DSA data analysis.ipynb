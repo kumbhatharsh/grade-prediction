{
 "cells": [
  {
   "cell_type": "markdown",
   "metadata": {},
   "source": [
    "The new analysis with more data cleaning and preprocessing i tried to use the piplines features in sklearn and tested all major regression algoritms including the linear regression, polynomial regression, random forest regression , svm regression, and decision tree regression this also has some of the feature scaling and feature engg. new features are tried. "
   ]
  },
  {
   "cell_type": "markdown",
   "metadata": {},
   "source": [
    "# the libraries used are---"
   ]
  },
  {
   "cell_type": "markdown",
   "metadata": {},
   "source": [
    "1.Numpy \n",
    "2.Pandas\n",
    "3.Matplotlb\n",
    "4.Sk-learn"
   ]
  },
  {
   "cell_type": "code",
   "execution_count": 1,
   "metadata": {},
   "outputs": [],
   "source": [
    "#importing libraries\n",
    "import numpy as np\n",
    "import pandas as pd\n",
    "import matplotlib.pyplot as plt\n",
    "import seaborn as sns\n",
    "import sklearn"
   ]
  },
  {
   "cell_type": "markdown",
   "metadata": {},
   "source": [
    "# Importing and Cleaning Data"
   ]
  },
  {
   "cell_type": "code",
   "execution_count": 2,
   "metadata": {},
   "outputs": [
    {
     "data": {
      "text/html": [
       "<div>\n",
       "<style scoped>\n",
       "    .dataframe tbody tr th:only-of-type {\n",
       "        vertical-align: middle;\n",
       "    }\n",
       "\n",
       "    .dataframe tbody tr th {\n",
       "        vertical-align: top;\n",
       "    }\n",
       "\n",
       "    .dataframe thead th {\n",
       "        text-align: right;\n",
       "    }\n",
       "</style>\n",
       "<table border=\"1\" class=\"dataframe\">\n",
       "  <thead>\n",
       "    <tr style=\"text-align: right;\">\n",
       "      <th></th>\n",
       "      <th>Student_Name</th>\n",
       "      <th>Mid_Term_Full</th>\n",
       "      <th>Quiz1</th>\n",
       "      <th>Lab</th>\n",
       "      <th>SQuiz</th>\n",
       "      <th>End_Term_Mcq</th>\n",
       "      <th>End_Term_Full</th>\n",
       "      <th>BQuiz</th>\n",
       "      <th>Mid_Term_Agg</th>\n",
       "      <th>End_Term_Agg</th>\n",
       "      <th>Total_Agg</th>\n",
       "    </tr>\n",
       "    <tr>\n",
       "      <th>Roll_No</th>\n",
       "      <th></th>\n",
       "      <th></th>\n",
       "      <th></th>\n",
       "      <th></th>\n",
       "      <th></th>\n",
       "      <th></th>\n",
       "      <th></th>\n",
       "      <th></th>\n",
       "      <th></th>\n",
       "      <th></th>\n",
       "      <th></th>\n",
       "    </tr>\n",
       "  </thead>\n",
       "  <tbody>\n",
       "    <tr>\n",
       "      <th>16UCS168</th>\n",
       "      <td>SAMIKSHA JAIN</td>\n",
       "      <td>34</td>\n",
       "      <td>6.0</td>\n",
       "      <td>14</td>\n",
       "      <td>8.0</td>\n",
       "      <td>18</td>\n",
       "      <td>80.0</td>\n",
       "      <td>8.0</td>\n",
       "      <td>14.17</td>\n",
       "      <td>21.78</td>\n",
       "      <td>57.94</td>\n",
       "    </tr>\n",
       "    <tr>\n",
       "      <th>17UCC031</th>\n",
       "      <td>KHUSH CHAUDHARY</td>\n",
       "      <td>35</td>\n",
       "      <td>5.5</td>\n",
       "      <td>13</td>\n",
       "      <td>3.0</td>\n",
       "      <td>21</td>\n",
       "      <td>46.0</td>\n",
       "      <td>5.5</td>\n",
       "      <td>14.58</td>\n",
       "      <td>14.89</td>\n",
       "      <td>47.97</td>\n",
       "    </tr>\n",
       "    <tr>\n",
       "      <th>17UCS001</th>\n",
       "      <td>AAYUSH KUMAR MISHRA</td>\n",
       "      <td>19</td>\n",
       "      <td>5.5</td>\n",
       "      <td>8</td>\n",
       "      <td>0.0</td>\n",
       "      <td>17</td>\n",
       "      <td>49.0</td>\n",
       "      <td>5.5</td>\n",
       "      <td>7.92</td>\n",
       "      <td>14.67</td>\n",
       "      <td>36.08</td>\n",
       "    </tr>\n",
       "    <tr>\n",
       "      <th>17UCS002</th>\n",
       "      <td>ABHAY ARAVINDA</td>\n",
       "      <td>45</td>\n",
       "      <td>5.5</td>\n",
       "      <td>21</td>\n",
       "      <td>10.0</td>\n",
       "      <td>27</td>\n",
       "      <td>101.0</td>\n",
       "      <td>10.0</td>\n",
       "      <td>18.75</td>\n",
       "      <td>28.44</td>\n",
       "      <td>78.19</td>\n",
       "    </tr>\n",
       "    <tr>\n",
       "      <th>17UCS003</th>\n",
       "      <td>ABHAY GUPTA</td>\n",
       "      <td>39</td>\n",
       "      <td>7.0</td>\n",
       "      <td>20</td>\n",
       "      <td>0.0</td>\n",
       "      <td>15</td>\n",
       "      <td>84.5</td>\n",
       "      <td>7.0</td>\n",
       "      <td>16.25</td>\n",
       "      <td>22.11</td>\n",
       "      <td>65.36</td>\n",
       "    </tr>\n",
       "  </tbody>\n",
       "</table>\n",
       "</div>"
      ],
      "text/plain": [
       "                 Student_Name  Mid_Term_Full  Quiz1\\n  Lab  SQuiz\\n  \\\n",
       "Roll_No                                                               \n",
       "16UCS168        SAMIKSHA JAIN             34      6.0   14      8.0   \n",
       "17UCC031      KHUSH CHAUDHARY             35      5.5   13      3.0   \n",
       "17UCS001  AAYUSH KUMAR MISHRA             19      5.5    8      0.0   \n",
       "17UCS002       ABHAY ARAVINDA             45      5.5   21     10.0   \n",
       "17UCS003          ABHAY GUPTA             39      7.0   20      0.0   \n",
       "\n",
       "          End_Term_Mcq\\n  End_Term_Full\\n  BQuiz\\n  Mid_Term_Agg  \\\n",
       "Roll_No                                                            \n",
       "16UCS168              18             80.0      8.0         14.17   \n",
       "17UCC031              21             46.0      5.5         14.58   \n",
       "17UCS001              17             49.0      5.5          7.92   \n",
       "17UCS002              27            101.0     10.0         18.75   \n",
       "17UCS003              15             84.5      7.0         16.25   \n",
       "\n",
       "          End_Term_Agg  Total_Agg\\n  \n",
       "Roll_No                              \n",
       "16UCS168         21.78        57.94  \n",
       "17UCC031         14.89        47.97  \n",
       "17UCS001         14.67        36.08  \n",
       "17UCS002         28.44        78.19  \n",
       "17UCS003         22.11        65.36  "
      ]
     },
     "execution_count": 2,
     "metadata": {},
     "output_type": "execute_result"
    }
   ],
   "source": [
    "#reading the data from csv file and making a dataframe outofit\n",
    "#the file is given in form of pdf file so we first convert it into a csv file then read the data\n",
    "#i had cleaned some data in excel but that process can be automated using pandas\n",
    "dataframe_1=pd.read_csv(\"dataset1.csv\",index_col=0)\n",
    "dataframe_1.head()"
   ]
  },
  {
   "cell_type": "markdown",
   "metadata": {},
   "source": [
    "# Feature Selection and Engg\n",
    "1.as we have the complete dataset of dsa marks we can now add additional features as per the need\n",
    "\n",
    "2.i think that cp grades are a good estimate of how a student can perform in dsa we can try that \n",
    "\n",
    "3.we also have the grade set which we use for our prediction\n",
    "\n",
    "4.we can also use the gender set to predict some other aspects\n",
    "\n",
    "5.we can also use cp lab grade set to predict lab behaviour in dsa \n",
    "\n",
    "6.As cp is a prerequisite for dsa course we can use it widely in this data anlysis task\n",
    "\n",
    "7.we can also use the dataset of Y16 batch to generalize our model furthur better"
   ]
  },
  {
   "cell_type": "code",
   "execution_count": 3,
   "metadata": {},
   "outputs": [
    {
     "data": {
      "text/html": [
       "<div>\n",
       "<style scoped>\n",
       "    .dataframe tbody tr th:only-of-type {\n",
       "        vertical-align: middle;\n",
       "    }\n",
       "\n",
       "    .dataframe tbody tr th {\n",
       "        vertical-align: top;\n",
       "    }\n",
       "\n",
       "    .dataframe thead th {\n",
       "        text-align: right;\n",
       "    }\n",
       "</style>\n",
       "<table border=\"1\" class=\"dataframe\">\n",
       "  <thead>\n",
       "    <tr style=\"text-align: right;\">\n",
       "      <th></th>\n",
       "      <th>Student_Name</th>\n",
       "      <th>CP_Lab_grade</th>\n",
       "    </tr>\n",
       "    <tr>\n",
       "      <th>Roll_No</th>\n",
       "      <th></th>\n",
       "      <th></th>\n",
       "    </tr>\n",
       "  </thead>\n",
       "  <tbody>\n",
       "    <tr>\n",
       "      <th>17DCS001</th>\n",
       "      <td>DEEPIKA GARG</td>\n",
       "      <td>A</td>\n",
       "    </tr>\n",
       "    <tr>\n",
       "      <th>17DCS002</th>\n",
       "      <td>DRASHTI MINESH MODASARA</td>\n",
       "      <td>AB</td>\n",
       "    </tr>\n",
       "    <tr>\n",
       "      <th>17DCS003</th>\n",
       "      <td>JAYANTH EDE</td>\n",
       "      <td>AB</td>\n",
       "    </tr>\n",
       "    <tr>\n",
       "      <th>17DCS004</th>\n",
       "      <td>K PARKAVI</td>\n",
       "      <td>A</td>\n",
       "    </tr>\n",
       "    <tr>\n",
       "      <th>17DCS005</th>\n",
       "      <td>MASHU AJMERA</td>\n",
       "      <td>A</td>\n",
       "    </tr>\n",
       "  </tbody>\n",
       "</table>\n",
       "</div>"
      ],
      "text/plain": [
       "                     Student_Name CP_Lab_grade\n",
       "Roll_No                                       \n",
       "17DCS001             DEEPIKA GARG            A\n",
       "17DCS002  DRASHTI MINESH MODASARA           AB\n",
       "17DCS003              JAYANTH EDE           AB\n",
       "17DCS004                K PARKAVI            A\n",
       "17DCS005             MASHU AJMERA            A"
      ]
     },
     "execution_count": 3,
     "metadata": {},
     "output_type": "execute_result"
    }
   ],
   "source": [
    "#Currently i am having the cp data so i can import it in the similar way as well as i am also having the dsa grades data so i can also import it in the same way\n",
    "dataframe_2=pd.read_excel(\"dataset2_Cp_lab.xlsx\",index_col=1)\n",
    "dataframe_2=dataframe_2.drop([\"Sr.No\"],axis=1)\n",
    "dataframe_2=dataframe_2.rename(index=str, columns={\"Grade\": \"CP_Lab_grade\"})\n",
    "dataframe_2.head()"
   ]
  },
  {
   "cell_type": "markdown",
   "metadata": {},
   "source": [
    "# Dataset_2 stores the lab grades of students in CP course"
   ]
  },
  {
   "cell_type": "markdown",
   "metadata": {},
   "source": [
    "## Similarly"
   ]
  },
  {
   "cell_type": "markdown",
   "metadata": {},
   "source": [
    "# Dataset_3 stores the cp grades of the students in Cp course\n",
    "# Dataset_4 stores the DSA grades of the students in DSA course\n",
    "## Dataset 4 would be our prediction dataset"
   ]
  },
  {
   "cell_type": "code",
   "execution_count": 4,
   "metadata": {},
   "outputs": [
    {
     "data": {
      "text/html": [
       "<div>\n",
       "<style scoped>\n",
       "    .dataframe tbody tr th:only-of-type {\n",
       "        vertical-align: middle;\n",
       "    }\n",
       "\n",
       "    .dataframe tbody tr th {\n",
       "        vertical-align: top;\n",
       "    }\n",
       "\n",
       "    .dataframe thead th {\n",
       "        text-align: right;\n",
       "    }\n",
       "</style>\n",
       "<table border=\"1\" class=\"dataframe\">\n",
       "  <thead>\n",
       "    <tr style=\"text-align: right;\">\n",
       "      <th></th>\n",
       "      <th>Student_Name</th>\n",
       "      <th>CP_grade</th>\n",
       "    </tr>\n",
       "    <tr>\n",
       "      <th>Roll_No</th>\n",
       "      <th></th>\n",
       "      <th></th>\n",
       "    </tr>\n",
       "  </thead>\n",
       "  <tbody>\n",
       "    <tr>\n",
       "      <th>17DCS001</th>\n",
       "      <td>DEEPIKA  GARG</td>\n",
       "      <td>B</td>\n",
       "    </tr>\n",
       "    <tr>\n",
       "      <th>17DCS002</th>\n",
       "      <td>DRASHTI  MODASARA</td>\n",
       "      <td>C</td>\n",
       "    </tr>\n",
       "    <tr>\n",
       "      <th>17DCS003</th>\n",
       "      <td>JAYANTH EDE</td>\n",
       "      <td>AB</td>\n",
       "    </tr>\n",
       "    <tr>\n",
       "      <th>17DCS004</th>\n",
       "      <td>K PARKAVI</td>\n",
       "      <td>A</td>\n",
       "    </tr>\n",
       "    <tr>\n",
       "      <th>17DCS005</th>\n",
       "      <td>MASHU AJMERA</td>\n",
       "      <td>B</td>\n",
       "    </tr>\n",
       "  </tbody>\n",
       "</table>\n",
       "</div>"
      ],
      "text/plain": [
       "               Student_Name CP_grade\n",
       "Roll_No                             \n",
       "17DCS001      DEEPIKA  GARG        B\n",
       "17DCS002  DRASHTI  MODASARA        C\n",
       "17DCS003        JAYANTH EDE       AB\n",
       "17DCS004          K PARKAVI        A\n",
       "17DCS005       MASHU AJMERA        B"
      ]
     },
     "execution_count": 4,
     "metadata": {},
     "output_type": "execute_result"
    }
   ],
   "source": [
    "#taking in the dataset_3 \n",
    "dataframe_3=pd.read_excel(\"dataset3_cp_grade.xlsx\",index_col=1)\n",
    "dataframe_3=dataframe_3.rename(index=str, columns={'Grade': \"CP_grade\"})\n",
    "dataframe_3.head()\n"
   ]
  },
  {
   "cell_type": "code",
   "execution_count": 5,
   "metadata": {},
   "outputs": [
    {
     "data": {
      "text/html": [
       "<div>\n",
       "<style scoped>\n",
       "    .dataframe tbody tr th:only-of-type {\n",
       "        vertical-align: middle;\n",
       "    }\n",
       "\n",
       "    .dataframe tbody tr th {\n",
       "        vertical-align: top;\n",
       "    }\n",
       "\n",
       "    .dataframe thead th {\n",
       "        text-align: right;\n",
       "    }\n",
       "</style>\n",
       "<table border=\"1\" class=\"dataframe\">\n",
       "  <thead>\n",
       "    <tr style=\"text-align: right;\">\n",
       "      <th></th>\n",
       "      <th>Student_Name</th>\n",
       "      <th>Grade</th>\n",
       "    </tr>\n",
       "    <tr>\n",
       "      <th>Roll_No</th>\n",
       "      <th></th>\n",
       "      <th></th>\n",
       "    </tr>\n",
       "  </thead>\n",
       "  <tbody>\n",
       "    <tr>\n",
       "      <th>16UCS168</th>\n",
       "      <td>SAMIKSHA JAIN</td>\n",
       "      <td>BC</td>\n",
       "    </tr>\n",
       "    <tr>\n",
       "      <th>17UCC031</th>\n",
       "      <td>KHUSH CHAUDHARY</td>\n",
       "      <td>C</td>\n",
       "    </tr>\n",
       "    <tr>\n",
       "      <th>17UCS001</th>\n",
       "      <td>AAYUSH KUMAR MISHRA</td>\n",
       "      <td>D</td>\n",
       "    </tr>\n",
       "    <tr>\n",
       "      <th>17UCS002</th>\n",
       "      <td>ABHAY ARAVINDA</td>\n",
       "      <td>A</td>\n",
       "    </tr>\n",
       "    <tr>\n",
       "      <th>17UCS003</th>\n",
       "      <td>ABHAY GUPTA</td>\n",
       "      <td>B</td>\n",
       "    </tr>\n",
       "  </tbody>\n",
       "</table>\n",
       "</div>"
      ],
      "text/plain": [
       "                 Student_Name Grade\n",
       "Roll_No                            \n",
       "16UCS168        SAMIKSHA JAIN    BC\n",
       "17UCC031      KHUSH CHAUDHARY     C\n",
       "17UCS001  AAYUSH KUMAR MISHRA     D\n",
       "17UCS002       ABHAY ARAVINDA     A\n",
       "17UCS003          ABHAY GUPTA     B"
      ]
     },
     "execution_count": 5,
     "metadata": {},
     "output_type": "execute_result"
    }
   ],
   "source": [
    "#taking in dataset_4 the prediction dataset\n",
    "dataframe_4=pd.read_excel(\"dataset4_predict.xlsx\",index_col=0)\n",
    "dataframe_4.head()"
   ]
  },
  {
   "cell_type": "code",
   "execution_count": 6,
   "metadata": {},
   "outputs": [
    {
     "data": {
      "text/html": [
       "<div>\n",
       "<style scoped>\n",
       "    .dataframe tbody tr th:only-of-type {\n",
       "        vertical-align: middle;\n",
       "    }\n",
       "\n",
       "    .dataframe tbody tr th {\n",
       "        vertical-align: top;\n",
       "    }\n",
       "\n",
       "    .dataframe thead th {\n",
       "        text-align: right;\n",
       "    }\n",
       "</style>\n",
       "<table border=\"1\" class=\"dataframe\">\n",
       "  <thead>\n",
       "    <tr style=\"text-align: right;\">\n",
       "      <th></th>\n",
       "      <th>Student_Name</th>\n",
       "      <th>Mid_Term_Full</th>\n",
       "      <th>Quiz1</th>\n",
       "      <th>Lab</th>\n",
       "      <th>SQuiz</th>\n",
       "      <th>End_Term_Mcq</th>\n",
       "      <th>End_Term_Full</th>\n",
       "      <th>BQuiz</th>\n",
       "      <th>Mid_Term_Agg</th>\n",
       "      <th>End_Term_Agg</th>\n",
       "      <th>Total_Agg</th>\n",
       "      <th>Grade</th>\n",
       "    </tr>\n",
       "    <tr>\n",
       "      <th>Roll_No</th>\n",
       "      <th></th>\n",
       "      <th></th>\n",
       "      <th></th>\n",
       "      <th></th>\n",
       "      <th></th>\n",
       "      <th></th>\n",
       "      <th></th>\n",
       "      <th></th>\n",
       "      <th></th>\n",
       "      <th></th>\n",
       "      <th></th>\n",
       "      <th></th>\n",
       "    </tr>\n",
       "  </thead>\n",
       "  <tbody>\n",
       "    <tr>\n",
       "      <th>16UCS168</th>\n",
       "      <td>SAMIKSHA JAIN</td>\n",
       "      <td>34</td>\n",
       "      <td>6.0</td>\n",
       "      <td>14</td>\n",
       "      <td>8.0</td>\n",
       "      <td>18</td>\n",
       "      <td>80.0</td>\n",
       "      <td>8.0</td>\n",
       "      <td>14.17</td>\n",
       "      <td>21.78</td>\n",
       "      <td>57.94</td>\n",
       "      <td>BC</td>\n",
       "    </tr>\n",
       "    <tr>\n",
       "      <th>17UCC031</th>\n",
       "      <td>KHUSH CHAUDHARY</td>\n",
       "      <td>35</td>\n",
       "      <td>5.5</td>\n",
       "      <td>13</td>\n",
       "      <td>3.0</td>\n",
       "      <td>21</td>\n",
       "      <td>46.0</td>\n",
       "      <td>5.5</td>\n",
       "      <td>14.58</td>\n",
       "      <td>14.89</td>\n",
       "      <td>47.97</td>\n",
       "      <td>C</td>\n",
       "    </tr>\n",
       "    <tr>\n",
       "      <th>17UCS001</th>\n",
       "      <td>AAYUSH KUMAR MISHRA</td>\n",
       "      <td>19</td>\n",
       "      <td>5.5</td>\n",
       "      <td>8</td>\n",
       "      <td>0.0</td>\n",
       "      <td>17</td>\n",
       "      <td>49.0</td>\n",
       "      <td>5.5</td>\n",
       "      <td>7.92</td>\n",
       "      <td>14.67</td>\n",
       "      <td>36.08</td>\n",
       "      <td>D</td>\n",
       "    </tr>\n",
       "    <tr>\n",
       "      <th>17UCS002</th>\n",
       "      <td>ABHAY ARAVINDA</td>\n",
       "      <td>45</td>\n",
       "      <td>5.5</td>\n",
       "      <td>21</td>\n",
       "      <td>10.0</td>\n",
       "      <td>27</td>\n",
       "      <td>101.0</td>\n",
       "      <td>10.0</td>\n",
       "      <td>18.75</td>\n",
       "      <td>28.44</td>\n",
       "      <td>78.19</td>\n",
       "      <td>A</td>\n",
       "    </tr>\n",
       "    <tr>\n",
       "      <th>17UCS003</th>\n",
       "      <td>ABHAY GUPTA</td>\n",
       "      <td>39</td>\n",
       "      <td>7.0</td>\n",
       "      <td>20</td>\n",
       "      <td>0.0</td>\n",
       "      <td>15</td>\n",
       "      <td>84.5</td>\n",
       "      <td>7.0</td>\n",
       "      <td>16.25</td>\n",
       "      <td>22.11</td>\n",
       "      <td>65.36</td>\n",
       "      <td>B</td>\n",
       "    </tr>\n",
       "  </tbody>\n",
       "</table>\n",
       "</div>"
      ],
      "text/plain": [
       "                 Student_Name  Mid_Term_Full  Quiz1\\n  Lab  SQuiz\\n  \\\n",
       "Roll_No                                                               \n",
       "16UCS168        SAMIKSHA JAIN             34      6.0   14      8.0   \n",
       "17UCC031      KHUSH CHAUDHARY             35      5.5   13      3.0   \n",
       "17UCS001  AAYUSH KUMAR MISHRA             19      5.5    8      0.0   \n",
       "17UCS002       ABHAY ARAVINDA             45      5.5   21     10.0   \n",
       "17UCS003          ABHAY GUPTA             39      7.0   20      0.0   \n",
       "\n",
       "          End_Term_Mcq\\n  End_Term_Full\\n  BQuiz\\n  Mid_Term_Agg  \\\n",
       "Roll_No                                                            \n",
       "16UCS168              18             80.0      8.0         14.17   \n",
       "17UCC031              21             46.0      5.5         14.58   \n",
       "17UCS001              17             49.0      5.5          7.92   \n",
       "17UCS002              27            101.0     10.0         18.75   \n",
       "17UCS003              15             84.5      7.0         16.25   \n",
       "\n",
       "          End_Term_Agg  Total_Agg\\n Grade  \n",
       "Roll_No                                    \n",
       "16UCS168         21.78        57.94    BC  \n",
       "17UCC031         14.89        47.97     C  \n",
       "17UCS001         14.67        36.08     D  \n",
       "17UCS002         28.44        78.19     A  \n",
       "17UCS003         22.11        65.36     B  "
      ]
     },
     "execution_count": 6,
     "metadata": {},
     "output_type": "execute_result"
    }
   ],
   "source": [
    "#we now merge all coloums and make a massive dataframe\n",
    "dataframe1_4=dataframe_1.copy()\n",
    "dataframe1_4['Grade']=dataframe_4['Grade']\n",
    "dataframe1_4.head()"
   ]
  },
  {
   "cell_type": "code",
   "execution_count": 7,
   "metadata": {},
   "outputs": [
    {
     "data": {
      "text/plain": [
       "False"
      ]
     },
     "execution_count": 7,
     "metadata": {},
     "output_type": "execute_result"
    }
   ],
   "source": [
    "#as there are certin disperies between cp and dsa course and students roll numbers also changed in that time so we have to correct the dataset\n",
    "#changing in the excel file some roll numbers as these students have branch changed\n",
    "#merging the dataframes coloums can be challange as the roll numbers are not indexed same\n",
    "len(dataframe1_4)==len(dataframe_2)"
   ]
  },
  {
   "cell_type": "code",
   "execution_count": 8,
   "metadata": {},
   "outputs": [
    {
     "data": {
      "text/html": [
       "<div>\n",
       "<style scoped>\n",
       "    .dataframe tbody tr th:only-of-type {\n",
       "        vertical-align: middle;\n",
       "    }\n",
       "\n",
       "    .dataframe tbody tr th {\n",
       "        vertical-align: top;\n",
       "    }\n",
       "\n",
       "    .dataframe thead th {\n",
       "        text-align: right;\n",
       "    }\n",
       "</style>\n",
       "<table border=\"1\" class=\"dataframe\">\n",
       "  <thead>\n",
       "    <tr style=\"text-align: right;\">\n",
       "      <th></th>\n",
       "      <th>Student_Name</th>\n",
       "      <th>Mid_Term_Full</th>\n",
       "      <th>Quiz1</th>\n",
       "      <th>Lab</th>\n",
       "      <th>SQuiz</th>\n",
       "      <th>End_Term_Mcq</th>\n",
       "      <th>End_Term_Full</th>\n",
       "      <th>BQuiz</th>\n",
       "      <th>Mid_Term_Agg</th>\n",
       "      <th>End_Term_Agg</th>\n",
       "      <th>Total_Agg</th>\n",
       "      <th>Grade</th>\n",
       "    </tr>\n",
       "    <tr>\n",
       "      <th>Roll_No</th>\n",
       "      <th></th>\n",
       "      <th></th>\n",
       "      <th></th>\n",
       "      <th></th>\n",
       "      <th></th>\n",
       "      <th></th>\n",
       "      <th></th>\n",
       "      <th></th>\n",
       "      <th></th>\n",
       "      <th></th>\n",
       "      <th></th>\n",
       "      <th></th>\n",
       "    </tr>\n",
       "  </thead>\n",
       "  <tbody>\n",
       "    <tr>\n",
       "      <th>17UCC031</th>\n",
       "      <td>KHUSH CHAUDHARY</td>\n",
       "      <td>35</td>\n",
       "      <td>5.5</td>\n",
       "      <td>13</td>\n",
       "      <td>3.0</td>\n",
       "      <td>21</td>\n",
       "      <td>46.0</td>\n",
       "      <td>5.5</td>\n",
       "      <td>14.58</td>\n",
       "      <td>14.89</td>\n",
       "      <td>47.97</td>\n",
       "      <td>C</td>\n",
       "    </tr>\n",
       "    <tr>\n",
       "      <th>17UCS001</th>\n",
       "      <td>AAYUSH KUMAR MISHRA</td>\n",
       "      <td>19</td>\n",
       "      <td>5.5</td>\n",
       "      <td>8</td>\n",
       "      <td>0.0</td>\n",
       "      <td>17</td>\n",
       "      <td>49.0</td>\n",
       "      <td>5.5</td>\n",
       "      <td>7.92</td>\n",
       "      <td>14.67</td>\n",
       "      <td>36.08</td>\n",
       "      <td>D</td>\n",
       "    </tr>\n",
       "    <tr>\n",
       "      <th>17UCS002</th>\n",
       "      <td>ABHAY ARAVINDA</td>\n",
       "      <td>45</td>\n",
       "      <td>5.5</td>\n",
       "      <td>21</td>\n",
       "      <td>10.0</td>\n",
       "      <td>27</td>\n",
       "      <td>101.0</td>\n",
       "      <td>10.0</td>\n",
       "      <td>18.75</td>\n",
       "      <td>28.44</td>\n",
       "      <td>78.19</td>\n",
       "      <td>A</td>\n",
       "    </tr>\n",
       "    <tr>\n",
       "      <th>17UCS003</th>\n",
       "      <td>ABHAY GUPTA</td>\n",
       "      <td>39</td>\n",
       "      <td>7.0</td>\n",
       "      <td>20</td>\n",
       "      <td>0.0</td>\n",
       "      <td>15</td>\n",
       "      <td>84.5</td>\n",
       "      <td>7.0</td>\n",
       "      <td>16.25</td>\n",
       "      <td>22.11</td>\n",
       "      <td>65.36</td>\n",
       "      <td>B</td>\n",
       "    </tr>\n",
       "    <tr>\n",
       "      <th>17UCS004</th>\n",
       "      <td>ABHI MAHAJAN</td>\n",
       "      <td>10</td>\n",
       "      <td>5.0</td>\n",
       "      <td>6</td>\n",
       "      <td>0.0</td>\n",
       "      <td>9</td>\n",
       "      <td>15.0</td>\n",
       "      <td>5.0</td>\n",
       "      <td>4.17</td>\n",
       "      <td>5.33</td>\n",
       "      <td>20.50</td>\n",
       "      <td>F</td>\n",
       "    </tr>\n",
       "  </tbody>\n",
       "</table>\n",
       "</div>"
      ],
      "text/plain": [
       "                 Student_Name  Mid_Term_Full  Quiz1\\n  Lab  SQuiz\\n  \\\n",
       "Roll_No                                                               \n",
       "17UCC031      KHUSH CHAUDHARY             35      5.5   13      3.0   \n",
       "17UCS001  AAYUSH KUMAR MISHRA             19      5.5    8      0.0   \n",
       "17UCS002       ABHAY ARAVINDA             45      5.5   21     10.0   \n",
       "17UCS003          ABHAY GUPTA             39      7.0   20      0.0   \n",
       "17UCS004         ABHI MAHAJAN             10      5.0    6      0.0   \n",
       "\n",
       "          End_Term_Mcq\\n  End_Term_Full\\n  BQuiz\\n  Mid_Term_Agg  \\\n",
       "Roll_No                                                            \n",
       "17UCC031              21             46.0      5.5         14.58   \n",
       "17UCS001              17             49.0      5.5          7.92   \n",
       "17UCS002              27            101.0     10.0         18.75   \n",
       "17UCS003              15             84.5      7.0         16.25   \n",
       "17UCS004               9             15.0      5.0          4.17   \n",
       "\n",
       "          End_Term_Agg  Total_Agg\\n Grade  \n",
       "Roll_No                                    \n",
       "17UCC031         14.89        47.97     C  \n",
       "17UCS001         14.67        36.08     D  \n",
       "17UCS002         28.44        78.19     A  \n",
       "17UCS003         22.11        65.36     B  \n",
       "17UCS004          5.33        20.50     F  "
      ]
     },
     "execution_count": 8,
     "metadata": {},
     "output_type": "execute_result"
    }
   ],
   "source": [
    "#there is a problem as both datasets donot have the same length\n",
    "#Seems that we do not have the info about 16UCS168 so we drop that row\n",
    "dataframe1_4=dataframe1_4.drop(['16UCS168'])\n",
    "dataframe1_4.head()"
   ]
  },
  {
   "cell_type": "code",
   "execution_count": 9,
   "metadata": {},
   "outputs": [
    {
     "data": {
      "text/html": [
       "<div>\n",
       "<style scoped>\n",
       "    .dataframe tbody tr th:only-of-type {\n",
       "        vertical-align: middle;\n",
       "    }\n",
       "\n",
       "    .dataframe tbody tr th {\n",
       "        vertical-align: top;\n",
       "    }\n",
       "\n",
       "    .dataframe thead th {\n",
       "        text-align: right;\n",
       "    }\n",
       "</style>\n",
       "<table border=\"1\" class=\"dataframe\">\n",
       "  <thead>\n",
       "    <tr style=\"text-align: right;\">\n",
       "      <th></th>\n",
       "      <th>Student_Name</th>\n",
       "      <th>CP_Lab_grade</th>\n",
       "    </tr>\n",
       "    <tr>\n",
       "      <th>Roll_No</th>\n",
       "      <th></th>\n",
       "      <th></th>\n",
       "    </tr>\n",
       "  </thead>\n",
       "  <tbody>\n",
       "  </tbody>\n",
       "</table>\n",
       "</div>"
      ],
      "text/plain": [
       "Empty DataFrame\n",
       "Columns: [Student_Name, CP_Lab_grade]\n",
       "Index: []"
      ]
     },
     "execution_count": 9,
     "metadata": {},
     "output_type": "execute_result"
    }
   ],
   "source": [
    "dataframe_2[dataframe_2.index.duplicated()]"
   ]
  },
  {
   "cell_type": "code",
   "execution_count": 10,
   "metadata": {},
   "outputs": [
    {
     "data": {
      "text/html": [
       "<div>\n",
       "<style scoped>\n",
       "    .dataframe tbody tr th:only-of-type {\n",
       "        vertical-align: middle;\n",
       "    }\n",
       "\n",
       "    .dataframe tbody tr th {\n",
       "        vertical-align: top;\n",
       "    }\n",
       "\n",
       "    .dataframe thead th {\n",
       "        text-align: right;\n",
       "    }\n",
       "</style>\n",
       "<table border=\"1\" class=\"dataframe\">\n",
       "  <thead>\n",
       "    <tr style=\"text-align: right;\">\n",
       "      <th></th>\n",
       "      <th>Student_Name</th>\n",
       "      <th>Mid_Term_Full</th>\n",
       "      <th>Quiz1</th>\n",
       "      <th>Lab</th>\n",
       "      <th>SQuiz</th>\n",
       "      <th>End_Term_Mcq</th>\n",
       "      <th>End_Term_Full</th>\n",
       "      <th>BQuiz</th>\n",
       "      <th>Mid_Term_Agg</th>\n",
       "      <th>End_Term_Agg</th>\n",
       "      <th>Total_Agg</th>\n",
       "      <th>Grade</th>\n",
       "      <th>CP_Lab_grade</th>\n",
       "      <th>CP_grade</th>\n",
       "    </tr>\n",
       "    <tr>\n",
       "      <th>Roll_No</th>\n",
       "      <th></th>\n",
       "      <th></th>\n",
       "      <th></th>\n",
       "      <th></th>\n",
       "      <th></th>\n",
       "      <th></th>\n",
       "      <th></th>\n",
       "      <th></th>\n",
       "      <th></th>\n",
       "      <th></th>\n",
       "      <th></th>\n",
       "      <th></th>\n",
       "      <th></th>\n",
       "      <th></th>\n",
       "    </tr>\n",
       "  </thead>\n",
       "  <tbody>\n",
       "    <tr>\n",
       "      <th>17UCC031</th>\n",
       "      <td>KHUSH CHAUDHARY</td>\n",
       "      <td>35</td>\n",
       "      <td>5.5</td>\n",
       "      <td>13</td>\n",
       "      <td>3.0</td>\n",
       "      <td>21</td>\n",
       "      <td>46.0</td>\n",
       "      <td>5.5</td>\n",
       "      <td>14.58</td>\n",
       "      <td>14.89</td>\n",
       "      <td>47.97</td>\n",
       "      <td>C</td>\n",
       "      <td>C</td>\n",
       "      <td>C</td>\n",
       "    </tr>\n",
       "    <tr>\n",
       "      <th>17UCS001</th>\n",
       "      <td>AAYUSH KUMAR MISHRA</td>\n",
       "      <td>19</td>\n",
       "      <td>5.5</td>\n",
       "      <td>8</td>\n",
       "      <td>0.0</td>\n",
       "      <td>17</td>\n",
       "      <td>49.0</td>\n",
       "      <td>5.5</td>\n",
       "      <td>7.92</td>\n",
       "      <td>14.67</td>\n",
       "      <td>36.08</td>\n",
       "      <td>D</td>\n",
       "      <td>D</td>\n",
       "      <td>D</td>\n",
       "    </tr>\n",
       "    <tr>\n",
       "      <th>17UCS002</th>\n",
       "      <td>ABHAY ARAVINDA</td>\n",
       "      <td>45</td>\n",
       "      <td>5.5</td>\n",
       "      <td>21</td>\n",
       "      <td>10.0</td>\n",
       "      <td>27</td>\n",
       "      <td>101.0</td>\n",
       "      <td>10.0</td>\n",
       "      <td>18.75</td>\n",
       "      <td>28.44</td>\n",
       "      <td>78.19</td>\n",
       "      <td>A</td>\n",
       "      <td>A</td>\n",
       "      <td>A</td>\n",
       "    </tr>\n",
       "    <tr>\n",
       "      <th>17UCS003</th>\n",
       "      <td>ABHAY GUPTA</td>\n",
       "      <td>39</td>\n",
       "      <td>7.0</td>\n",
       "      <td>20</td>\n",
       "      <td>0.0</td>\n",
       "      <td>15</td>\n",
       "      <td>84.5</td>\n",
       "      <td>7.0</td>\n",
       "      <td>16.25</td>\n",
       "      <td>22.11</td>\n",
       "      <td>65.36</td>\n",
       "      <td>B</td>\n",
       "      <td>B</td>\n",
       "      <td>B</td>\n",
       "    </tr>\n",
       "    <tr>\n",
       "      <th>17UCS004</th>\n",
       "      <td>ABHI MAHAJAN</td>\n",
       "      <td>10</td>\n",
       "      <td>5.0</td>\n",
       "      <td>6</td>\n",
       "      <td>0.0</td>\n",
       "      <td>9</td>\n",
       "      <td>15.0</td>\n",
       "      <td>5.0</td>\n",
       "      <td>4.17</td>\n",
       "      <td>5.33</td>\n",
       "      <td>20.50</td>\n",
       "      <td>F</td>\n",
       "      <td>F</td>\n",
       "      <td>F</td>\n",
       "    </tr>\n",
       "  </tbody>\n",
       "</table>\n",
       "</div>"
      ],
      "text/plain": [
       "                 Student_Name  Mid_Term_Full  Quiz1\\n  Lab  SQuiz\\n  \\\n",
       "Roll_No                                                               \n",
       "17UCC031      KHUSH CHAUDHARY             35      5.5   13      3.0   \n",
       "17UCS001  AAYUSH KUMAR MISHRA             19      5.5    8      0.0   \n",
       "17UCS002       ABHAY ARAVINDA             45      5.5   21     10.0   \n",
       "17UCS003          ABHAY GUPTA             39      7.0   20      0.0   \n",
       "17UCS004         ABHI MAHAJAN             10      5.0    6      0.0   \n",
       "\n",
       "          End_Term_Mcq\\n  End_Term_Full\\n  BQuiz\\n  Mid_Term_Agg  \\\n",
       "Roll_No                                                            \n",
       "17UCC031              21             46.0      5.5         14.58   \n",
       "17UCS001              17             49.0      5.5          7.92   \n",
       "17UCS002              27            101.0     10.0         18.75   \n",
       "17UCS003              15             84.5      7.0         16.25   \n",
       "17UCS004               9             15.0      5.0          4.17   \n",
       "\n",
       "          End_Term_Agg  Total_Agg\\n Grade CP_Lab_grade CP_grade  \n",
       "Roll_No                                                          \n",
       "17UCC031         14.89        47.97     C            C        C  \n",
       "17UCS001         14.67        36.08     D            D        D  \n",
       "17UCS002         28.44        78.19     A            A        A  \n",
       "17UCS003         22.11        65.36     B            B        B  \n",
       "17UCS004          5.33        20.50     F            F        F  "
      ]
     },
     "execution_count": 10,
     "metadata": {},
     "output_type": "execute_result"
    }
   ],
   "source": [
    "dataframe1_4[dataframe1_4.index.duplicated()]#to check if it has any duplicated index\n",
    "dataframe1_4=dataframe1_4.assign(CP_Lab_grade=dataframe1_4.Grade)\n",
    "dataframe1_4=dataframe1_4.assign(CP_grade=dataframe1_4.Grade)\n",
    "dataframe1_4.head()"
   ]
  },
  {
   "cell_type": "code",
   "execution_count": 11,
   "metadata": {},
   "outputs": [],
   "source": [
    "for lab,rows in dataframe1_4.iterrows():\n",
    "    dataframe1_4.loc[[lab],['CP_Lab_grade']]=dataframe_2.loc[[lab],['CP_Lab_grade']]\n",
    "    dataframe1_4.loc[[lab],['CP_grade']]=dataframe_3.loc[[lab],['CP_grade']]"
   ]
  },
  {
   "cell_type": "code",
   "execution_count": 12,
   "metadata": {},
   "outputs": [
    {
     "data": {
      "text/html": [
       "<div>\n",
       "<style scoped>\n",
       "    .dataframe tbody tr th:only-of-type {\n",
       "        vertical-align: middle;\n",
       "    }\n",
       "\n",
       "    .dataframe tbody tr th {\n",
       "        vertical-align: top;\n",
       "    }\n",
       "\n",
       "    .dataframe thead th {\n",
       "        text-align: right;\n",
       "    }\n",
       "</style>\n",
       "<table border=\"1\" class=\"dataframe\">\n",
       "  <thead>\n",
       "    <tr style=\"text-align: right;\">\n",
       "      <th></th>\n",
       "      <th>Student_Name</th>\n",
       "      <th>Mid_Term_Full</th>\n",
       "      <th>Quiz1</th>\n",
       "      <th>Lab</th>\n",
       "      <th>SQuiz</th>\n",
       "      <th>End_Term_Mcq</th>\n",
       "      <th>End_Term_Full</th>\n",
       "      <th>BQuiz</th>\n",
       "      <th>Mid_Term_Agg</th>\n",
       "      <th>End_Term_Agg</th>\n",
       "      <th>Total_Agg</th>\n",
       "      <th>Grade</th>\n",
       "      <th>CP_Lab_grade</th>\n",
       "      <th>CP_grade</th>\n",
       "    </tr>\n",
       "    <tr>\n",
       "      <th>Roll_No</th>\n",
       "      <th></th>\n",
       "      <th></th>\n",
       "      <th></th>\n",
       "      <th></th>\n",
       "      <th></th>\n",
       "      <th></th>\n",
       "      <th></th>\n",
       "      <th></th>\n",
       "      <th></th>\n",
       "      <th></th>\n",
       "      <th></th>\n",
       "      <th></th>\n",
       "      <th></th>\n",
       "      <th></th>\n",
       "    </tr>\n",
       "  </thead>\n",
       "  <tbody>\n",
       "    <tr>\n",
       "      <th>17UCC031</th>\n",
       "      <td>KHUSH CHAUDHARY</td>\n",
       "      <td>35</td>\n",
       "      <td>5.5</td>\n",
       "      <td>13</td>\n",
       "      <td>3.0</td>\n",
       "      <td>21</td>\n",
       "      <td>46.0</td>\n",
       "      <td>5.5</td>\n",
       "      <td>14.58</td>\n",
       "      <td>14.89</td>\n",
       "      <td>47.97</td>\n",
       "      <td>C</td>\n",
       "      <td>BC</td>\n",
       "      <td>C</td>\n",
       "    </tr>\n",
       "    <tr>\n",
       "      <th>17UCS001</th>\n",
       "      <td>AAYUSH KUMAR MISHRA</td>\n",
       "      <td>19</td>\n",
       "      <td>5.5</td>\n",
       "      <td>8</td>\n",
       "      <td>0.0</td>\n",
       "      <td>17</td>\n",
       "      <td>49.0</td>\n",
       "      <td>5.5</td>\n",
       "      <td>7.92</td>\n",
       "      <td>14.67</td>\n",
       "      <td>36.08</td>\n",
       "      <td>D</td>\n",
       "      <td>C</td>\n",
       "      <td>D</td>\n",
       "    </tr>\n",
       "    <tr>\n",
       "      <th>17UCS002</th>\n",
       "      <td>ABHAY ARAVINDA</td>\n",
       "      <td>45</td>\n",
       "      <td>5.5</td>\n",
       "      <td>21</td>\n",
       "      <td>10.0</td>\n",
       "      <td>27</td>\n",
       "      <td>101.0</td>\n",
       "      <td>10.0</td>\n",
       "      <td>18.75</td>\n",
       "      <td>28.44</td>\n",
       "      <td>78.19</td>\n",
       "      <td>A</td>\n",
       "      <td>A</td>\n",
       "      <td>AB</td>\n",
       "    </tr>\n",
       "    <tr>\n",
       "      <th>17UCS003</th>\n",
       "      <td>ABHAY GUPTA</td>\n",
       "      <td>39</td>\n",
       "      <td>7.0</td>\n",
       "      <td>20</td>\n",
       "      <td>0.0</td>\n",
       "      <td>15</td>\n",
       "      <td>84.5</td>\n",
       "      <td>7.0</td>\n",
       "      <td>16.25</td>\n",
       "      <td>22.11</td>\n",
       "      <td>65.36</td>\n",
       "      <td>B</td>\n",
       "      <td>AB</td>\n",
       "      <td>B</td>\n",
       "    </tr>\n",
       "    <tr>\n",
       "      <th>17UCS004</th>\n",
       "      <td>ABHI MAHAJAN</td>\n",
       "      <td>10</td>\n",
       "      <td>5.0</td>\n",
       "      <td>6</td>\n",
       "      <td>0.0</td>\n",
       "      <td>9</td>\n",
       "      <td>15.0</td>\n",
       "      <td>5.0</td>\n",
       "      <td>4.17</td>\n",
       "      <td>5.33</td>\n",
       "      <td>20.50</td>\n",
       "      <td>F</td>\n",
       "      <td>D</td>\n",
       "      <td>F</td>\n",
       "    </tr>\n",
       "  </tbody>\n",
       "</table>\n",
       "</div>"
      ],
      "text/plain": [
       "                 Student_Name  Mid_Term_Full  Quiz1\\n  Lab  SQuiz\\n  \\\n",
       "Roll_No                                                               \n",
       "17UCC031      KHUSH CHAUDHARY             35      5.5   13      3.0   \n",
       "17UCS001  AAYUSH KUMAR MISHRA             19      5.5    8      0.0   \n",
       "17UCS002       ABHAY ARAVINDA             45      5.5   21     10.0   \n",
       "17UCS003          ABHAY GUPTA             39      7.0   20      0.0   \n",
       "17UCS004         ABHI MAHAJAN             10      5.0    6      0.0   \n",
       "\n",
       "          End_Term_Mcq\\n  End_Term_Full\\n  BQuiz\\n  Mid_Term_Agg  \\\n",
       "Roll_No                                                            \n",
       "17UCC031              21             46.0      5.5         14.58   \n",
       "17UCS001              17             49.0      5.5          7.92   \n",
       "17UCS002              27            101.0     10.0         18.75   \n",
       "17UCS003              15             84.5      7.0         16.25   \n",
       "17UCS004               9             15.0      5.0          4.17   \n",
       "\n",
       "          End_Term_Agg  Total_Agg\\n Grade CP_Lab_grade CP_grade  \n",
       "Roll_No                                                          \n",
       "17UCC031         14.89        47.97     C           BC        C  \n",
       "17UCS001         14.67        36.08     D            C        D  \n",
       "17UCS002         28.44        78.19     A            A       AB  \n",
       "17UCS003         22.11        65.36     B           AB        B  \n",
       "17UCS004          5.33        20.50     F            D        F  "
      ]
     },
     "execution_count": 12,
     "metadata": {},
     "output_type": "execute_result"
    }
   ],
   "source": [
    "dataframe1_4.head()"
   ]
  },
  {
   "cell_type": "code",
   "execution_count": 13,
   "metadata": {},
   "outputs": [
    {
     "data": {
      "text/html": [
       "<div>\n",
       "<style scoped>\n",
       "    .dataframe tbody tr th:only-of-type {\n",
       "        vertical-align: middle;\n",
       "    }\n",
       "\n",
       "    .dataframe tbody tr th {\n",
       "        vertical-align: top;\n",
       "    }\n",
       "\n",
       "    .dataframe thead th {\n",
       "        text-align: right;\n",
       "    }\n",
       "</style>\n",
       "<table border=\"1\" class=\"dataframe\">\n",
       "  <thead>\n",
       "    <tr style=\"text-align: right;\">\n",
       "      <th></th>\n",
       "      <th>Student_Name</th>\n",
       "      <th>Mid_Term_Full</th>\n",
       "      <th>Quiz1</th>\n",
       "      <th>Lab</th>\n",
       "      <th>SQuiz</th>\n",
       "      <th>End_Term_Mcq</th>\n",
       "      <th>End_Term_Full</th>\n",
       "      <th>BQuiz</th>\n",
       "      <th>Mid_Term_Agg</th>\n",
       "      <th>End_Term_Agg</th>\n",
       "      <th>Total_Agg</th>\n",
       "      <th>Grade</th>\n",
       "      <th>CP_Lab_grade</th>\n",
       "      <th>CP_grade</th>\n",
       "    </tr>\n",
       "    <tr>\n",
       "      <th>Roll_No</th>\n",
       "      <th></th>\n",
       "      <th></th>\n",
       "      <th></th>\n",
       "      <th></th>\n",
       "      <th></th>\n",
       "      <th></th>\n",
       "      <th></th>\n",
       "      <th></th>\n",
       "      <th></th>\n",
       "      <th></th>\n",
       "      <th></th>\n",
       "      <th></th>\n",
       "      <th></th>\n",
       "      <th></th>\n",
       "    </tr>\n",
       "  </thead>\n",
       "  <tbody>\n",
       "    <tr>\n",
       "      <th>17UME062</th>\n",
       "      <td>VAIBHAV GUPTA</td>\n",
       "      <td>18</td>\n",
       "      <td>4.5</td>\n",
       "      <td>8</td>\n",
       "      <td>0.0</td>\n",
       "      <td>17</td>\n",
       "      <td>51.0</td>\n",
       "      <td>4.5</td>\n",
       "      <td>7.50</td>\n",
       "      <td>15.11</td>\n",
       "      <td>35.11</td>\n",
       "      <td>D</td>\n",
       "      <td>B</td>\n",
       "      <td>CD</td>\n",
       "    </tr>\n",
       "    <tr>\n",
       "      <th>17UME063</th>\n",
       "      <td>VAISHNAVI SONI</td>\n",
       "      <td>33</td>\n",
       "      <td>6.5</td>\n",
       "      <td>17</td>\n",
       "      <td>5.0</td>\n",
       "      <td>11</td>\n",
       "      <td>94.0</td>\n",
       "      <td>6.5</td>\n",
       "      <td>13.75</td>\n",
       "      <td>23.33</td>\n",
       "      <td>60.58</td>\n",
       "      <td>BC</td>\n",
       "      <td>C</td>\n",
       "      <td>CD</td>\n",
       "    </tr>\n",
       "    <tr>\n",
       "      <th>17UME064</th>\n",
       "      <td>VINAY KUMAR BOHRA</td>\n",
       "      <td>32</td>\n",
       "      <td>0.0</td>\n",
       "      <td>11</td>\n",
       "      <td>7.5</td>\n",
       "      <td>17</td>\n",
       "      <td>122.0</td>\n",
       "      <td>7.5</td>\n",
       "      <td>13.33</td>\n",
       "      <td>30.89</td>\n",
       "      <td>62.72</td>\n",
       "      <td>B</td>\n",
       "      <td>AB</td>\n",
       "      <td>C</td>\n",
       "    </tr>\n",
       "    <tr>\n",
       "      <th>17UME067</th>\n",
       "      <td>YASHASVI BAJPAI</td>\n",
       "      <td>33</td>\n",
       "      <td>3.5</td>\n",
       "      <td>10</td>\n",
       "      <td>0.0</td>\n",
       "      <td>16</td>\n",
       "      <td>35.5</td>\n",
       "      <td>3.5</td>\n",
       "      <td>13.75</td>\n",
       "      <td>11.44</td>\n",
       "      <td>38.69</td>\n",
       "      <td>CD</td>\n",
       "      <td>B</td>\n",
       "      <td>C</td>\n",
       "    </tr>\n",
       "    <tr>\n",
       "      <th>17UME068</th>\n",
       "      <td>YOGESH SINGH</td>\n",
       "      <td>24</td>\n",
       "      <td>6.5</td>\n",
       "      <td>10</td>\n",
       "      <td>2.5</td>\n",
       "      <td>21</td>\n",
       "      <td>53.0</td>\n",
       "      <td>6.5</td>\n",
       "      <td>10.00</td>\n",
       "      <td>16.44</td>\n",
       "      <td>42.94</td>\n",
       "      <td>CD</td>\n",
       "      <td>CD</td>\n",
       "      <td>F</td>\n",
       "    </tr>\n",
       "  </tbody>\n",
       "</table>\n",
       "</div>"
      ],
      "text/plain": [
       "               Student_Name  Mid_Term_Full  Quiz1\\n  Lab  SQuiz\\n  \\\n",
       "Roll_No                                                             \n",
       "17UME062      VAIBHAV GUPTA             18      4.5    8      0.0   \n",
       "17UME063     VAISHNAVI SONI             33      6.5   17      5.0   \n",
       "17UME064  VINAY KUMAR BOHRA             32      0.0   11      7.5   \n",
       "17UME067    YASHASVI BAJPAI             33      3.5   10      0.0   \n",
       "17UME068       YOGESH SINGH             24      6.5   10      2.5   \n",
       "\n",
       "          End_Term_Mcq\\n  End_Term_Full\\n  BQuiz\\n  Mid_Term_Agg  \\\n",
       "Roll_No                                                            \n",
       "17UME062              17             51.0      4.5          7.50   \n",
       "17UME063              11             94.0      6.5         13.75   \n",
       "17UME064              17            122.0      7.5         13.33   \n",
       "17UME067              16             35.5      3.5         13.75   \n",
       "17UME068              21             53.0      6.5         10.00   \n",
       "\n",
       "          End_Term_Agg  Total_Agg\\n Grade CP_Lab_grade CP_grade  \n",
       "Roll_No                                                          \n",
       "17UME062         15.11        35.11     D            B       CD  \n",
       "17UME063         23.33        60.58    BC            C       CD  \n",
       "17UME064         30.89        62.72     B           AB        C  \n",
       "17UME067         11.44        38.69    CD            B        C  \n",
       "17UME068         16.44        42.94    CD           CD        F  "
      ]
     },
     "execution_count": 13,
     "metadata": {},
     "output_type": "execute_result"
    }
   ],
   "source": [
    "dataframe1_4.tail()"
   ]
  },
  {
   "cell_type": "code",
   "execution_count": 14,
   "metadata": {},
   "outputs": [
    {
     "data": {
      "text/plain": [
       "Student_Name       0\n",
       "Mid_Term_Full      0\n",
       "Quiz1\\n            2\n",
       "Lab                0\n",
       "SQuiz\\n            0\n",
       "End_Term_Mcq\\n     0\n",
       "End_Term_Full\\n    0\n",
       "BQuiz\\n            0\n",
       "Mid_Term_Agg       0\n",
       "End_Term_Agg       0\n",
       "Total_Agg\\n        0\n",
       "Grade              0\n",
       "CP_Lab_grade       0\n",
       "CP_grade           0\n",
       "dtype: int64"
      ]
     },
     "execution_count": 14,
     "metadata": {},
     "output_type": "execute_result"
    }
   ],
   "source": [
    "dataframe1_4.isnull().sum()\n",
    "#here we check for the null values in the dataframe"
   ]
  },
  {
   "cell_type": "code",
   "execution_count": 15,
   "metadata": {},
   "outputs": [
    {
     "data": {
      "text/plain": [
       "array(['Student_Name', 'Mid_Term_Full', 'Quiz1', 'Lab', 'SQuiz',\n",
       "       'End_Term_Mcq', 'End_Term_Full', 'BQuiz', 'Mid_Term_Agg',\n",
       "       'End_Term_Agg', 'Total_Agg', 'Grade', 'CP_Lab_grade', 'CP_grade'],\n",
       "      dtype=object)"
      ]
     },
     "execution_count": 15,
     "metadata": {},
     "output_type": "execute_result"
    }
   ],
   "source": [
    "#here we got 2 intresting insights 1st the Quiz1 have 2 null values and 2nd sum coloumn names are wrongly mentioned\n",
    "dataframe1_4=dataframe1_4.rename(index=str, columns={\"Quiz1\\n\":\"Quiz1\",\"SQuiz\\n\":\"SQuiz\",\"End_Term_Mcq\\n\":\"End_Term_Mcq\",\"End_Term_Full\\n\":\"End_Term_Full\",\"BQuiz\\n\":\"BQuiz\",\"Total_Agg\\n\":\"Total_Agg\"})\n",
    "dataframe1_4.columns.values"
   ]
  },
  {
   "cell_type": "code",
   "execution_count": 16,
   "metadata": {},
   "outputs": [],
   "source": [
    "final_df=dataframe1_4.copy()"
   ]
  },
  {
   "cell_type": "code",
   "execution_count": 17,
   "metadata": {},
   "outputs": [
    {
     "data": {
      "text/plain": [
       "True"
      ]
     },
     "execution_count": 17,
     "metadata": {},
     "output_type": "execute_result"
    }
   ],
   "source": [
    "final_df['Quiz1'].isnull().values.any()"
   ]
  },
  {
   "cell_type": "code",
   "execution_count": 18,
   "metadata": {},
   "outputs": [
    {
     "name": "stdout",
     "output_type": "stream",
     "text": [
      "            Student_Name  Mid_Term_Full  Quiz1  Lab    SQuiz  End_Term_Mcq  \\\n",
      "Roll_No                                                                      \n",
      "17UEC088  RAGHAV DHAMANI             10    NaN   10  5.00000            16   \n",
      "17UCC057    SIVLEEN KAUR             35    NaN   15  8.33333            18   \n",
      "\n",
      "          End_Term_Full  BQuiz  Mid_Term_Agg  End_Term_Agg  Total_Agg Grade  \\\n",
      "Roll_No                                                                       \n",
      "17UEC088           81.0   5.00          4.17         21.56      40.72    CD   \n",
      "17UCC057           54.0   8.33         14.58         16.00      53.92    BC   \n",
      "\n",
      "         CP_Lab_grade CP_grade  \n",
      "Roll_No                         \n",
      "17UEC088           CD        F  \n",
      "17UCC057            B        D  \n"
     ]
    }
   ],
   "source": [
    "#to find the null values in the dataframe which values are the null values in the dataframe\n",
    "print(final_df[final_df.isnull().any(axis=1)].head())"
   ]
  },
  {
   "cell_type": "code",
   "execution_count": 19,
   "metadata": {},
   "outputs": [],
   "source": [
    "#we got to know that these two students did not gave there quiz exam.\n",
    "final_df.loc[\"17UEC088\",'Quiz1']=0"
   ]
  },
  {
   "cell_type": "code",
   "execution_count": 20,
   "metadata": {},
   "outputs": [],
   "source": [
    "final_df.loc['17UCC057','Quiz1']=0"
   ]
  },
  {
   "cell_type": "code",
   "execution_count": 21,
   "metadata": {},
   "outputs": [
    {
     "data": {
      "text/plain": [
       "Student_Name     0\n",
       "Mid_Term_Full    0\n",
       "Quiz1            0\n",
       "Lab              0\n",
       "SQuiz            0\n",
       "End_Term_Mcq     0\n",
       "End_Term_Full    0\n",
       "BQuiz            0\n",
       "Mid_Term_Agg     0\n",
       "End_Term_Agg     0\n",
       "Total_Agg        0\n",
       "Grade            0\n",
       "CP_Lab_grade     0\n",
       "CP_grade         0\n",
       "dtype: int64"
      ]
     },
     "execution_count": 21,
     "metadata": {},
     "output_type": "execute_result"
    }
   ],
   "source": [
    "final_df.isnull().sum()"
   ]
  },
  {
   "cell_type": "code",
   "execution_count": 22,
   "metadata": {},
   "outputs": [],
   "source": [
    "#now we have removed all the null values in the dataset\n",
    "#we will now make curves in using seaborn library"
   ]
  },
  {
   "cell_type": "markdown",
   "metadata": {},
   "source": [
    "# The Analysis"
   ]
  },
  {
   "cell_type": "code",
   "execution_count": 23,
   "metadata": {},
   "outputs": [],
   "source": [
    "#if we would like to do brach wise anlysis then we had to specify a column related to branch then analysis would be easy\n",
    "a=[]\n",
    "for lab,rows in final_df.iterrows():\n",
    "    a.append(lab[2:5])\n",
    "final_df['Branch']=a\n",
    "        "
   ]
  },
  {
   "cell_type": "code",
   "execution_count": 24,
   "metadata": {},
   "outputs": [
    {
     "data": {
      "text/html": [
       "<div>\n",
       "<style scoped>\n",
       "    .dataframe tbody tr th:only-of-type {\n",
       "        vertical-align: middle;\n",
       "    }\n",
       "\n",
       "    .dataframe tbody tr th {\n",
       "        vertical-align: top;\n",
       "    }\n",
       "\n",
       "    .dataframe thead th {\n",
       "        text-align: right;\n",
       "    }\n",
       "</style>\n",
       "<table border=\"1\" class=\"dataframe\">\n",
       "  <thead>\n",
       "    <tr style=\"text-align: right;\">\n",
       "      <th></th>\n",
       "      <th>Student_Name</th>\n",
       "      <th>Mid_Term_Full</th>\n",
       "      <th>Quiz1</th>\n",
       "      <th>Lab</th>\n",
       "      <th>SQuiz</th>\n",
       "      <th>End_Term_Mcq</th>\n",
       "      <th>End_Term_Full</th>\n",
       "      <th>BQuiz</th>\n",
       "      <th>Mid_Term_Agg</th>\n",
       "      <th>End_Term_Agg</th>\n",
       "      <th>Total_Agg</th>\n",
       "      <th>Grade</th>\n",
       "      <th>CP_Lab_grade</th>\n",
       "      <th>CP_grade</th>\n",
       "      <th>Branch</th>\n",
       "    </tr>\n",
       "    <tr>\n",
       "      <th>Roll_No</th>\n",
       "      <th></th>\n",
       "      <th></th>\n",
       "      <th></th>\n",
       "      <th></th>\n",
       "      <th></th>\n",
       "      <th></th>\n",
       "      <th></th>\n",
       "      <th></th>\n",
       "      <th></th>\n",
       "      <th></th>\n",
       "      <th></th>\n",
       "      <th></th>\n",
       "      <th></th>\n",
       "      <th></th>\n",
       "      <th></th>\n",
       "    </tr>\n",
       "  </thead>\n",
       "  <tbody>\n",
       "    <tr>\n",
       "      <th>17UCC031</th>\n",
       "      <td>KHUSH CHAUDHARY</td>\n",
       "      <td>35</td>\n",
       "      <td>5.5</td>\n",
       "      <td>13</td>\n",
       "      <td>3.0</td>\n",
       "      <td>21</td>\n",
       "      <td>46.0</td>\n",
       "      <td>5.5</td>\n",
       "      <td>14.58</td>\n",
       "      <td>14.89</td>\n",
       "      <td>47.97</td>\n",
       "      <td>C</td>\n",
       "      <td>BC</td>\n",
       "      <td>C</td>\n",
       "      <td>UCC</td>\n",
       "    </tr>\n",
       "    <tr>\n",
       "      <th>17UCS001</th>\n",
       "      <td>AAYUSH KUMAR MISHRA</td>\n",
       "      <td>19</td>\n",
       "      <td>5.5</td>\n",
       "      <td>8</td>\n",
       "      <td>0.0</td>\n",
       "      <td>17</td>\n",
       "      <td>49.0</td>\n",
       "      <td>5.5</td>\n",
       "      <td>7.92</td>\n",
       "      <td>14.67</td>\n",
       "      <td>36.08</td>\n",
       "      <td>D</td>\n",
       "      <td>C</td>\n",
       "      <td>D</td>\n",
       "      <td>UCS</td>\n",
       "    </tr>\n",
       "    <tr>\n",
       "      <th>17UCS002</th>\n",
       "      <td>ABHAY ARAVINDA</td>\n",
       "      <td>45</td>\n",
       "      <td>5.5</td>\n",
       "      <td>21</td>\n",
       "      <td>10.0</td>\n",
       "      <td>27</td>\n",
       "      <td>101.0</td>\n",
       "      <td>10.0</td>\n",
       "      <td>18.75</td>\n",
       "      <td>28.44</td>\n",
       "      <td>78.19</td>\n",
       "      <td>A</td>\n",
       "      <td>A</td>\n",
       "      <td>AB</td>\n",
       "      <td>UCS</td>\n",
       "    </tr>\n",
       "    <tr>\n",
       "      <th>17UCS003</th>\n",
       "      <td>ABHAY GUPTA</td>\n",
       "      <td>39</td>\n",
       "      <td>7.0</td>\n",
       "      <td>20</td>\n",
       "      <td>0.0</td>\n",
       "      <td>15</td>\n",
       "      <td>84.5</td>\n",
       "      <td>7.0</td>\n",
       "      <td>16.25</td>\n",
       "      <td>22.11</td>\n",
       "      <td>65.36</td>\n",
       "      <td>B</td>\n",
       "      <td>AB</td>\n",
       "      <td>B</td>\n",
       "      <td>UCS</td>\n",
       "    </tr>\n",
       "    <tr>\n",
       "      <th>17UCS004</th>\n",
       "      <td>ABHI MAHAJAN</td>\n",
       "      <td>10</td>\n",
       "      <td>5.0</td>\n",
       "      <td>6</td>\n",
       "      <td>0.0</td>\n",
       "      <td>9</td>\n",
       "      <td>15.0</td>\n",
       "      <td>5.0</td>\n",
       "      <td>4.17</td>\n",
       "      <td>5.33</td>\n",
       "      <td>20.50</td>\n",
       "      <td>F</td>\n",
       "      <td>D</td>\n",
       "      <td>F</td>\n",
       "      <td>UCS</td>\n",
       "    </tr>\n",
       "  </tbody>\n",
       "</table>\n",
       "</div>"
      ],
      "text/plain": [
       "                 Student_Name  Mid_Term_Full  Quiz1  Lab  SQuiz  End_Term_Mcq  \\\n",
       "Roll_No                                                                         \n",
       "17UCC031      KHUSH CHAUDHARY             35    5.5   13    3.0            21   \n",
       "17UCS001  AAYUSH KUMAR MISHRA             19    5.5    8    0.0            17   \n",
       "17UCS002       ABHAY ARAVINDA             45    5.5   21   10.0            27   \n",
       "17UCS003          ABHAY GUPTA             39    7.0   20    0.0            15   \n",
       "17UCS004         ABHI MAHAJAN             10    5.0    6    0.0             9   \n",
       "\n",
       "          End_Term_Full  BQuiz  Mid_Term_Agg  End_Term_Agg  Total_Agg Grade  \\\n",
       "Roll_No                                                                       \n",
       "17UCC031           46.0    5.5         14.58         14.89      47.97     C   \n",
       "17UCS001           49.0    5.5          7.92         14.67      36.08     D   \n",
       "17UCS002          101.0   10.0         18.75         28.44      78.19     A   \n",
       "17UCS003           84.5    7.0         16.25         22.11      65.36     B   \n",
       "17UCS004           15.0    5.0          4.17          5.33      20.50     F   \n",
       "\n",
       "         CP_Lab_grade CP_grade Branch  \n",
       "Roll_No                                \n",
       "17UCC031           BC        C    UCC  \n",
       "17UCS001            C        D    UCS  \n",
       "17UCS002            A       AB    UCS  \n",
       "17UCS003           AB        B    UCS  \n",
       "17UCS004            D        F    UCS  "
      ]
     },
     "execution_count": 24,
     "metadata": {},
     "output_type": "execute_result"
    }
   ],
   "source": [
    "final_df.head()"
   ]
  },
  {
   "cell_type": "markdown",
   "metadata": {},
   "source": [
    "## plot to show how many number of students are there in each branch "
   ]
  },
  {
   "cell_type": "code",
   "execution_count": 25,
   "metadata": {},
   "outputs": [
    {
     "data": {
      "image/png": "[encoded data removed]",
      "text/plain": [
       "<matplotlib.figure.Figure at 0x7fd05a2beb00>"
      ]
     },
     "metadata": {},
     "output_type": "display_data"
    }
   ],
   "source": [
    "#now we can draw a count plot based on the brach information\n",
    "ax=sns.countplot(x=\"Branch\",data=final_df,palette=\"muted\")\n",
    "plt.show()"
   ]
  },
  {
   "cell_type": "code",
   "execution_count": 26,
   "metadata": {},
   "outputs": [
    {
     "data": {
      "text/plain": [
       "UCS    182\n",
       "UEC    138\n",
       "UCC     71\n",
       "UME     56\n",
       "DCS     17\n",
       "DEC      7\n",
       "Name: Branch, dtype: int64"
      ]
     },
     "execution_count": 26,
     "metadata": {},
     "output_type": "execute_result"
    }
   ],
   "source": [
    "final_df.Branch.value_counts()"
   ]
  },
  {
   "cell_type": "markdown",
   "metadata": {},
   "source": [
    "## Brach wise Failed Students in CP and Cp lab ratio"
   ]
  },
  {
   "cell_type": "code",
   "execution_count": 27,
   "metadata": {},
   "outputs": [
    {
     "data": {
      "image/png": "[encoded data removed]",
      "text/plain": [
       "<matplotlib.figure.Figure at 0x7fd051959cc0>"
      ]
     },
     "metadata": {},
     "output_type": "display_data"
    }
   ],
   "source": [
    "final_df['Failed_in_CP']=np.where(final_df['CP_grade']=='F',1,0)\n",
    "ax=sns.factorplot('Branch','Failed_in_CP',data=final_df,size=9)\n",
    "plt.show()"
   ]
  },
  {
   "cell_type": "code",
   "execution_count": 28,
   "metadata": {},
   "outputs": [
    {
     "data": {
      "text/html": [
       "<div>\n",
       "<style scoped>\n",
       "    .dataframe tbody tr th:only-of-type {\n",
       "        vertical-align: middle;\n",
       "    }\n",
       "\n",
       "    .dataframe tbody tr th {\n",
       "        vertical-align: top;\n",
       "    }\n",
       "\n",
       "    .dataframe thead th {\n",
       "        text-align: right;\n",
       "    }\n",
       "</style>\n",
       "<table border=\"1\" class=\"dataframe\">\n",
       "  <thead>\n",
       "    <tr style=\"text-align: right;\">\n",
       "      <th>Branch</th>\n",
       "      <th>DCS</th>\n",
       "      <th>DEC</th>\n",
       "      <th>UCC</th>\n",
       "      <th>UCS</th>\n",
       "      <th>UEC</th>\n",
       "      <th>UME</th>\n",
       "    </tr>\n",
       "    <tr>\n",
       "      <th>Failed_in_CP</th>\n",
       "      <th></th>\n",
       "      <th></th>\n",
       "      <th></th>\n",
       "      <th></th>\n",
       "      <th></th>\n",
       "      <th></th>\n",
       "    </tr>\n",
       "  </thead>\n",
       "  <tbody>\n",
       "    <tr>\n",
       "      <th>0</th>\n",
       "      <td>16</td>\n",
       "      <td>5</td>\n",
       "      <td>68</td>\n",
       "      <td>170</td>\n",
       "      <td>123</td>\n",
       "      <td>44</td>\n",
       "    </tr>\n",
       "    <tr>\n",
       "      <th>1</th>\n",
       "      <td>1</td>\n",
       "      <td>2</td>\n",
       "      <td>3</td>\n",
       "      <td>12</td>\n",
       "      <td>15</td>\n",
       "      <td>12</td>\n",
       "    </tr>\n",
       "  </tbody>\n",
       "</table>\n",
       "</div>"
      ],
      "text/plain": [
       "Branch        DCS  DEC  UCC  UCS  UEC  UME\n",
       "Failed_in_CP                              \n",
       "0              16    5   68  170  123   44\n",
       "1               1    2    3   12   15   12"
      ]
     },
     "execution_count": 28,
     "metadata": {},
     "output_type": "execute_result"
    }
   ],
   "source": [
    "pd.crosstab(final_df['Failed_in_CP'],final_df['Branch'])"
   ]
  },
  {
   "cell_type": "markdown",
   "metadata": {},
   "source": [
    "this data shows that 1 student in dcs and 2 in dec and smilarly got failed in CP"
   ]
  },
  {
   "cell_type": "code",
   "execution_count": 29,
   "metadata": {},
   "outputs": [
    {
     "data": {
      "image/png": "[encoded data removed]",
      "text/plain": [
       "<matplotlib.figure.Figure at 0x7fd059eefa90>"
      ]
     },
     "metadata": {},
     "output_type": "display_data"
    }
   ],
   "source": [
    "final_df['Failed_in_CP_Lab']=np.where(final_df['CP_Lab_grade']=='F',1,0)\n",
    "ax=sns.factorplot('Branch','Failed_in_CP_Lab',data=final_df,size=9)\n",
    "plt.show()"
   ]
  },
  {
   "cell_type": "code",
   "execution_count": 30,
   "metadata": {},
   "outputs": [
    {
     "data": {
      "text/html": [
       "<div>\n",
       "<style scoped>\n",
       "    .dataframe tbody tr th:only-of-type {\n",
       "        vertical-align: middle;\n",
       "    }\n",
       "\n",
       "    .dataframe tbody tr th {\n",
       "        vertical-align: top;\n",
       "    }\n",
       "\n",
       "    .dataframe thead th {\n",
       "        text-align: right;\n",
       "    }\n",
       "</style>\n",
       "<table border=\"1\" class=\"dataframe\">\n",
       "  <thead>\n",
       "    <tr style=\"text-align: right;\">\n",
       "      <th>Branch</th>\n",
       "      <th>DCS</th>\n",
       "      <th>DEC</th>\n",
       "      <th>UCC</th>\n",
       "      <th>UCS</th>\n",
       "      <th>UEC</th>\n",
       "      <th>UME</th>\n",
       "    </tr>\n",
       "    <tr>\n",
       "      <th>Failed_in_CP_Lab</th>\n",
       "      <th></th>\n",
       "      <th></th>\n",
       "      <th></th>\n",
       "      <th></th>\n",
       "      <th></th>\n",
       "      <th></th>\n",
       "    </tr>\n",
       "  </thead>\n",
       "  <tbody>\n",
       "    <tr>\n",
       "      <th>0</th>\n",
       "      <td>17</td>\n",
       "      <td>6</td>\n",
       "      <td>71</td>\n",
       "      <td>179</td>\n",
       "      <td>133</td>\n",
       "      <td>54</td>\n",
       "    </tr>\n",
       "    <tr>\n",
       "      <th>1</th>\n",
       "      <td>0</td>\n",
       "      <td>1</td>\n",
       "      <td>0</td>\n",
       "      <td>3</td>\n",
       "      <td>5</td>\n",
       "      <td>2</td>\n",
       "    </tr>\n",
       "  </tbody>\n",
       "</table>\n",
       "</div>"
      ],
      "text/plain": [
       "Branch            DCS  DEC  UCC  UCS  UEC  UME\n",
       "Failed_in_CP_Lab                              \n",
       "0                  17    6   71  179  133   54\n",
       "1                   0    1    0    3    5    2"
      ]
     },
     "execution_count": 30,
     "metadata": {},
     "output_type": "execute_result"
    }
   ],
   "source": [
    "pd.crosstab(final_df['Failed_in_CP_Lab'],final_df['Branch'])"
   ]
  },
  {
   "cell_type": "markdown",
   "metadata": {},
   "source": [
    "##  Plot to show that average midterm marks brach wise"
   ]
  },
  {
   "cell_type": "code",
   "execution_count": 31,
   "metadata": {},
   "outputs": [
    {
     "data": {
      "text/html": [
       "<div>\n",
       "<style scoped>\n",
       "    .dataframe tbody tr th:only-of-type {\n",
       "        vertical-align: middle;\n",
       "    }\n",
       "\n",
       "    .dataframe tbody tr th {\n",
       "        vertical-align: top;\n",
       "    }\n",
       "\n",
       "    .dataframe thead th {\n",
       "        text-align: right;\n",
       "    }\n",
       "</style>\n",
       "<table border=\"1\" class=\"dataframe\">\n",
       "  <thead>\n",
       "    <tr style=\"text-align: right;\">\n",
       "      <th></th>\n",
       "      <th>Mid_Term_Full</th>\n",
       "      <th>Quiz1</th>\n",
       "      <th>Lab</th>\n",
       "      <th>SQuiz</th>\n",
       "      <th>End_Term_Mcq</th>\n",
       "      <th>End_Term_Full</th>\n",
       "      <th>BQuiz</th>\n",
       "      <th>Mid_Term_Agg</th>\n",
       "      <th>End_Term_Agg</th>\n",
       "      <th>Total_Agg</th>\n",
       "      <th>Failed_in_CP</th>\n",
       "      <th>Failed_in_CP_Lab</th>\n",
       "    </tr>\n",
       "    <tr>\n",
       "      <th>Branch</th>\n",
       "      <th></th>\n",
       "      <th></th>\n",
       "      <th></th>\n",
       "      <th></th>\n",
       "      <th></th>\n",
       "      <th></th>\n",
       "      <th></th>\n",
       "      <th></th>\n",
       "      <th></th>\n",
       "      <th></th>\n",
       "      <th></th>\n",
       "      <th></th>\n",
       "    </tr>\n",
       "  </thead>\n",
       "  <tbody>\n",
       "    <tr>\n",
       "      <th>DCS</th>\n",
       "      <td>35.470588</td>\n",
       "      <td>6.441176</td>\n",
       "      <td>17.470588</td>\n",
       "      <td>4.852353</td>\n",
       "      <td>16.470588</td>\n",
       "      <td>88.117647</td>\n",
       "      <td>7.323529</td>\n",
       "      <td>14.780000</td>\n",
       "      <td>23.240588</td>\n",
       "      <td>62.814706</td>\n",
       "      <td>0.058824</td>\n",
       "      <td>0.000000</td>\n",
       "    </tr>\n",
       "    <tr>\n",
       "      <th>DEC</th>\n",
       "      <td>30.285714</td>\n",
       "      <td>6.285714</td>\n",
       "      <td>11.571429</td>\n",
       "      <td>2.857143</td>\n",
       "      <td>11.571429</td>\n",
       "      <td>64.285714</td>\n",
       "      <td>6.857143</td>\n",
       "      <td>12.618571</td>\n",
       "      <td>16.855714</td>\n",
       "      <td>47.902857</td>\n",
       "      <td>0.285714</td>\n",
       "      <td>0.142857</td>\n",
       "    </tr>\n",
       "    <tr>\n",
       "      <th>UCC</th>\n",
       "      <td>31.197183</td>\n",
       "      <td>6.457746</td>\n",
       "      <td>14.957746</td>\n",
       "      <td>4.021080</td>\n",
       "      <td>15.985915</td>\n",
       "      <td>86.450704</td>\n",
       "      <td>6.990563</td>\n",
       "      <td>12.998873</td>\n",
       "      <td>22.763521</td>\n",
       "      <td>57.710563</td>\n",
       "      <td>0.042254</td>\n",
       "      <td>0.000000</td>\n",
       "    </tr>\n",
       "    <tr>\n",
       "      <th>UCS</th>\n",
       "      <td>32.560440</td>\n",
       "      <td>6.469780</td>\n",
       "      <td>15.120879</td>\n",
       "      <td>4.453187</td>\n",
       "      <td>17.153846</td>\n",
       "      <td>82.895604</td>\n",
       "      <td>7.498077</td>\n",
       "      <td>13.566923</td>\n",
       "      <td>22.233022</td>\n",
       "      <td>58.419121</td>\n",
       "      <td>0.065934</td>\n",
       "      <td>0.016484</td>\n",
       "    </tr>\n",
       "    <tr>\n",
       "      <th>UEC</th>\n",
       "      <td>27.326087</td>\n",
       "      <td>5.811594</td>\n",
       "      <td>14.978261</td>\n",
       "      <td>4.427536</td>\n",
       "      <td>16.420290</td>\n",
       "      <td>78.018116</td>\n",
       "      <td>7.275362</td>\n",
       "      <td>11.386232</td>\n",
       "      <td>20.986304</td>\n",
       "      <td>54.625942</td>\n",
       "      <td>0.108696</td>\n",
       "      <td>0.036232</td>\n",
       "    </tr>\n",
       "    <tr>\n",
       "      <th>UME</th>\n",
       "      <td>26.732143</td>\n",
       "      <td>5.991071</td>\n",
       "      <td>13.214286</td>\n",
       "      <td>3.526785</td>\n",
       "      <td>14.357143</td>\n",
       "      <td>71.026786</td>\n",
       "      <td>6.526607</td>\n",
       "      <td>11.138750</td>\n",
       "      <td>18.973393</td>\n",
       "      <td>49.854107</td>\n",
       "      <td>0.214286</td>\n",
       "      <td>0.035714</td>\n",
       "    </tr>\n",
       "  </tbody>\n",
       "</table>\n",
       "</div>"
      ],
      "text/plain": [
       "        Mid_Term_Full     Quiz1        Lab     SQuiz  End_Term_Mcq  \\\n",
       "Branch                                                               \n",
       "DCS         35.470588  6.441176  17.470588  4.852353     16.470588   \n",
       "DEC         30.285714  6.285714  11.571429  2.857143     11.571429   \n",
       "UCC         31.197183  6.457746  14.957746  4.021080     15.985915   \n",
       "UCS         32.560440  6.469780  15.120879  4.453187     17.153846   \n",
       "UEC         27.326087  5.811594  14.978261  4.427536     16.420290   \n",
       "UME         26.732143  5.991071  13.214286  3.526785     14.357143   \n",
       "\n",
       "        End_Term_Full     BQuiz  Mid_Term_Agg  End_Term_Agg  Total_Agg  \\\n",
       "Branch                                                                   \n",
       "DCS         88.117647  7.323529     14.780000     23.240588  62.814706   \n",
       "DEC         64.285714  6.857143     12.618571     16.855714  47.902857   \n",
       "UCC         86.450704  6.990563     12.998873     22.763521  57.710563   \n",
       "UCS         82.895604  7.498077     13.566923     22.233022  58.419121   \n",
       "UEC         78.018116  7.275362     11.386232     20.986304  54.625942   \n",
       "UME         71.026786  6.526607     11.138750     18.973393  49.854107   \n",
       "\n",
       "        Failed_in_CP  Failed_in_CP_Lab  \n",
       "Branch                                  \n",
       "DCS         0.058824          0.000000  \n",
       "DEC         0.285714          0.142857  \n",
       "UCC         0.042254          0.000000  \n",
       "UCS         0.065934          0.016484  \n",
       "UEC         0.108696          0.036232  \n",
       "UME         0.214286          0.035714  "
      ]
     },
     "execution_count": 31,
     "metadata": {},
     "output_type": "execute_result"
    }
   ],
   "source": [
    "final_df.groupby('Branch').mean()"
   ]
  },
  {
   "cell_type": "code",
   "execution_count": 32,
   "metadata": {},
   "outputs": [
    {
     "data": {
      "text/html": [
       "<div>\n",
       "<style scoped>\n",
       "    .dataframe tbody tr th:only-of-type {\n",
       "        vertical-align: middle;\n",
       "    }\n",
       "\n",
       "    .dataframe tbody tr th {\n",
       "        vertical-align: top;\n",
       "    }\n",
       "\n",
       "    .dataframe thead th {\n",
       "        text-align: right;\n",
       "    }\n",
       "</style>\n",
       "<table border=\"1\" class=\"dataframe\">\n",
       "  <thead>\n",
       "    <tr style=\"text-align: right;\">\n",
       "      <th></th>\n",
       "      <th>Mid_Term_Full</th>\n",
       "      <th>Quiz1</th>\n",
       "      <th>Lab</th>\n",
       "      <th>SQuiz</th>\n",
       "      <th>End_Term_Mcq</th>\n",
       "      <th>End_Term_Full</th>\n",
       "      <th>BQuiz</th>\n",
       "      <th>Mid_Term_Agg</th>\n",
       "      <th>End_Term_Agg</th>\n",
       "      <th>Total_Agg</th>\n",
       "      <th>Failed_in_CP</th>\n",
       "      <th>Failed_in_CP_Lab</th>\n",
       "    </tr>\n",
       "    <tr>\n",
       "      <th>Branch</th>\n",
       "      <th></th>\n",
       "      <th></th>\n",
       "      <th></th>\n",
       "      <th></th>\n",
       "      <th></th>\n",
       "      <th></th>\n",
       "      <th></th>\n",
       "      <th></th>\n",
       "      <th></th>\n",
       "      <th></th>\n",
       "      <th></th>\n",
       "      <th></th>\n",
       "    </tr>\n",
       "  </thead>\n",
       "  <tbody>\n",
       "    <tr>\n",
       "      <th>DCS</th>\n",
       "      <td>34.0</td>\n",
       "      <td>7.00</td>\n",
       "      <td>18.0</td>\n",
       "      <td>5.00</td>\n",
       "      <td>16.0</td>\n",
       "      <td>93.0</td>\n",
       "      <td>7.5</td>\n",
       "      <td>14.17</td>\n",
       "      <td>24.440</td>\n",
       "      <td>62.970</td>\n",
       "      <td>0.0</td>\n",
       "      <td>0.0</td>\n",
       "    </tr>\n",
       "    <tr>\n",
       "      <th>DEC</th>\n",
       "      <td>32.0</td>\n",
       "      <td>6.00</td>\n",
       "      <td>12.0</td>\n",
       "      <td>0.00</td>\n",
       "      <td>11.0</td>\n",
       "      <td>49.0</td>\n",
       "      <td>6.5</td>\n",
       "      <td>13.33</td>\n",
       "      <td>14.000</td>\n",
       "      <td>47.330</td>\n",
       "      <td>0.0</td>\n",
       "      <td>0.0</td>\n",
       "    </tr>\n",
       "    <tr>\n",
       "      <th>UCC</th>\n",
       "      <td>32.0</td>\n",
       "      <td>6.50</td>\n",
       "      <td>15.0</td>\n",
       "      <td>5.00</td>\n",
       "      <td>16.0</td>\n",
       "      <td>87.0</td>\n",
       "      <td>7.0</td>\n",
       "      <td>13.33</td>\n",
       "      <td>23.000</td>\n",
       "      <td>57.500</td>\n",
       "      <td>0.0</td>\n",
       "      <td>0.0</td>\n",
       "    </tr>\n",
       "    <tr>\n",
       "      <th>UCS</th>\n",
       "      <td>32.0</td>\n",
       "      <td>6.50</td>\n",
       "      <td>15.0</td>\n",
       "      <td>3.33</td>\n",
       "      <td>18.0</td>\n",
       "      <td>85.5</td>\n",
       "      <td>7.5</td>\n",
       "      <td>13.33</td>\n",
       "      <td>22.440</td>\n",
       "      <td>59.375</td>\n",
       "      <td>0.0</td>\n",
       "      <td>0.0</td>\n",
       "    </tr>\n",
       "    <tr>\n",
       "      <th>UEC</th>\n",
       "      <td>27.0</td>\n",
       "      <td>6.00</td>\n",
       "      <td>15.0</td>\n",
       "      <td>3.75</td>\n",
       "      <td>17.0</td>\n",
       "      <td>84.5</td>\n",
       "      <td>6.5</td>\n",
       "      <td>11.25</td>\n",
       "      <td>22.725</td>\n",
       "      <td>58.210</td>\n",
       "      <td>0.0</td>\n",
       "      <td>0.0</td>\n",
       "    </tr>\n",
       "    <tr>\n",
       "      <th>UME</th>\n",
       "      <td>26.5</td>\n",
       "      <td>6.25</td>\n",
       "      <td>13.0</td>\n",
       "      <td>2.50</td>\n",
       "      <td>15.0</td>\n",
       "      <td>72.0</td>\n",
       "      <td>6.5</td>\n",
       "      <td>11.04</td>\n",
       "      <td>18.725</td>\n",
       "      <td>48.710</td>\n",
       "      <td>0.0</td>\n",
       "      <td>0.0</td>\n",
       "    </tr>\n",
       "  </tbody>\n",
       "</table>\n",
       "</div>"
      ],
      "text/plain": [
       "        Mid_Term_Full  Quiz1   Lab  SQuiz  End_Term_Mcq  End_Term_Full  BQuiz  \\\n",
       "Branch                                                                          \n",
       "DCS              34.0   7.00  18.0   5.00          16.0           93.0    7.5   \n",
       "DEC              32.0   6.00  12.0   0.00          11.0           49.0    6.5   \n",
       "UCC              32.0   6.50  15.0   5.00          16.0           87.0    7.0   \n",
       "UCS              32.0   6.50  15.0   3.33          18.0           85.5    7.5   \n",
       "UEC              27.0   6.00  15.0   3.75          17.0           84.5    6.5   \n",
       "UME              26.5   6.25  13.0   2.50          15.0           72.0    6.5   \n",
       "\n",
       "        Mid_Term_Agg  End_Term_Agg  Total_Agg  Failed_in_CP  Failed_in_CP_Lab  \n",
       "Branch                                                                         \n",
       "DCS            14.17        24.440     62.970           0.0               0.0  \n",
       "DEC            13.33        14.000     47.330           0.0               0.0  \n",
       "UCC            13.33        23.000     57.500           0.0               0.0  \n",
       "UCS            13.33        22.440     59.375           0.0               0.0  \n",
       "UEC            11.25        22.725     58.210           0.0               0.0  \n",
       "UME            11.04        18.725     48.710           0.0               0.0  "
      ]
     },
     "execution_count": 32,
     "metadata": {},
     "output_type": "execute_result"
    }
   ],
   "source": [
    "#the data shows about the averages of the different brach students in different areas\n",
    "#we can also do\n",
    "final_df.groupby('Branch').median()"
   ]
  },
  {
   "cell_type": "code",
   "execution_count": 33,
   "metadata": {},
   "outputs": [
    {
     "data": {
      "text/html": [
       "<div>\n",
       "<style scoped>\n",
       "    .dataframe tbody tr th:only-of-type {\n",
       "        vertical-align: middle;\n",
       "    }\n",
       "\n",
       "    .dataframe tbody tr th {\n",
       "        vertical-align: top;\n",
       "    }\n",
       "\n",
       "    .dataframe thead th {\n",
       "        text-align: right;\n",
       "    }\n",
       "</style>\n",
       "<table border=\"1\" class=\"dataframe\">\n",
       "  <thead>\n",
       "    <tr style=\"text-align: right;\">\n",
       "      <th></th>\n",
       "      <th>Student_Name</th>\n",
       "      <th>Mid_Term_Full</th>\n",
       "      <th>Quiz1</th>\n",
       "      <th>Lab</th>\n",
       "      <th>SQuiz</th>\n",
       "      <th>End_Term_Mcq</th>\n",
       "      <th>End_Term_Full</th>\n",
       "      <th>BQuiz</th>\n",
       "      <th>Mid_Term_Agg</th>\n",
       "      <th>End_Term_Agg</th>\n",
       "      <th>Total_Agg</th>\n",
       "      <th>Grade</th>\n",
       "      <th>CP_Lab_grade</th>\n",
       "      <th>CP_grade</th>\n",
       "      <th>Branch</th>\n",
       "      <th>Failed_in_CP</th>\n",
       "      <th>Failed_in_CP_Lab</th>\n",
       "    </tr>\n",
       "    <tr>\n",
       "      <th>Roll_No</th>\n",
       "      <th></th>\n",
       "      <th></th>\n",
       "      <th></th>\n",
       "      <th></th>\n",
       "      <th></th>\n",
       "      <th></th>\n",
       "      <th></th>\n",
       "      <th></th>\n",
       "      <th></th>\n",
       "      <th></th>\n",
       "      <th></th>\n",
       "      <th></th>\n",
       "      <th></th>\n",
       "      <th></th>\n",
       "      <th></th>\n",
       "      <th></th>\n",
       "      <th></th>\n",
       "    </tr>\n",
       "  </thead>\n",
       "  <tbody>\n",
       "    <tr>\n",
       "      <th>17UCC031</th>\n",
       "      <td>KHUSH CHAUDHARY</td>\n",
       "      <td>35</td>\n",
       "      <td>5.5</td>\n",
       "      <td>13</td>\n",
       "      <td>3.0</td>\n",
       "      <td>21</td>\n",
       "      <td>46.0</td>\n",
       "      <td>5.5</td>\n",
       "      <td>14.58</td>\n",
       "      <td>14.89</td>\n",
       "      <td>47.97</td>\n",
       "      <td>C</td>\n",
       "      <td>BC</td>\n",
       "      <td>C</td>\n",
       "      <td>UCC</td>\n",
       "      <td>0</td>\n",
       "      <td>0</td>\n",
       "    </tr>\n",
       "    <tr>\n",
       "      <th>17UCS001</th>\n",
       "      <td>AAYUSH KUMAR MISHRA</td>\n",
       "      <td>19</td>\n",
       "      <td>5.5</td>\n",
       "      <td>8</td>\n",
       "      <td>0.0</td>\n",
       "      <td>17</td>\n",
       "      <td>49.0</td>\n",
       "      <td>5.5</td>\n",
       "      <td>7.92</td>\n",
       "      <td>14.67</td>\n",
       "      <td>36.08</td>\n",
       "      <td>D</td>\n",
       "      <td>C</td>\n",
       "      <td>D</td>\n",
       "      <td>UCS</td>\n",
       "      <td>0</td>\n",
       "      <td>0</td>\n",
       "    </tr>\n",
       "    <tr>\n",
       "      <th>17UCS002</th>\n",
       "      <td>ABHAY ARAVINDA</td>\n",
       "      <td>45</td>\n",
       "      <td>5.5</td>\n",
       "      <td>21</td>\n",
       "      <td>10.0</td>\n",
       "      <td>27</td>\n",
       "      <td>101.0</td>\n",
       "      <td>10.0</td>\n",
       "      <td>18.75</td>\n",
       "      <td>28.44</td>\n",
       "      <td>78.19</td>\n",
       "      <td>A</td>\n",
       "      <td>A</td>\n",
       "      <td>AB</td>\n",
       "      <td>UCS</td>\n",
       "      <td>0</td>\n",
       "      <td>0</td>\n",
       "    </tr>\n",
       "    <tr>\n",
       "      <th>17UCS003</th>\n",
       "      <td>ABHAY GUPTA</td>\n",
       "      <td>39</td>\n",
       "      <td>7.0</td>\n",
       "      <td>20</td>\n",
       "      <td>0.0</td>\n",
       "      <td>15</td>\n",
       "      <td>84.5</td>\n",
       "      <td>7.0</td>\n",
       "      <td>16.25</td>\n",
       "      <td>22.11</td>\n",
       "      <td>65.36</td>\n",
       "      <td>B</td>\n",
       "      <td>AB</td>\n",
       "      <td>B</td>\n",
       "      <td>UCS</td>\n",
       "      <td>0</td>\n",
       "      <td>0</td>\n",
       "    </tr>\n",
       "    <tr>\n",
       "      <th>17UCS004</th>\n",
       "      <td>ABHI MAHAJAN</td>\n",
       "      <td>10</td>\n",
       "      <td>5.0</td>\n",
       "      <td>6</td>\n",
       "      <td>0.0</td>\n",
       "      <td>9</td>\n",
       "      <td>15.0</td>\n",
       "      <td>5.0</td>\n",
       "      <td>4.17</td>\n",
       "      <td>5.33</td>\n",
       "      <td>20.50</td>\n",
       "      <td>F</td>\n",
       "      <td>D</td>\n",
       "      <td>F</td>\n",
       "      <td>UCS</td>\n",
       "      <td>1</td>\n",
       "      <td>0</td>\n",
       "    </tr>\n",
       "  </tbody>\n",
       "</table>\n",
       "</div>"
      ],
      "text/plain": [
       "                 Student_Name  Mid_Term_Full  Quiz1  Lab  SQuiz  End_Term_Mcq  \\\n",
       "Roll_No                                                                         \n",
       "17UCC031      KHUSH CHAUDHARY             35    5.5   13    3.0            21   \n",
       "17UCS001  AAYUSH KUMAR MISHRA             19    5.5    8    0.0            17   \n",
       "17UCS002       ABHAY ARAVINDA             45    5.5   21   10.0            27   \n",
       "17UCS003          ABHAY GUPTA             39    7.0   20    0.0            15   \n",
       "17UCS004         ABHI MAHAJAN             10    5.0    6    0.0             9   \n",
       "\n",
       "          End_Term_Full  BQuiz  Mid_Term_Agg  End_Term_Agg  Total_Agg Grade  \\\n",
       "Roll_No                                                                       \n",
       "17UCC031           46.0    5.5         14.58         14.89      47.97     C   \n",
       "17UCS001           49.0    5.5          7.92         14.67      36.08     D   \n",
       "17UCS002          101.0   10.0         18.75         28.44      78.19     A   \n",
       "17UCS003           84.5    7.0         16.25         22.11      65.36     B   \n",
       "17UCS004           15.0    5.0          4.17          5.33      20.50     F   \n",
       "\n",
       "         CP_Lab_grade CP_grade Branch  Failed_in_CP  Failed_in_CP_Lab  \n",
       "Roll_No                                                                \n",
       "17UCC031           BC        C    UCC             0                 0  \n",
       "17UCS001            C        D    UCS             0                 0  \n",
       "17UCS002            A       AB    UCS             0                 0  \n",
       "17UCS003           AB        B    UCS             0                 0  \n",
       "17UCS004            D        F    UCS             1                 0  "
      ]
     },
     "execution_count": 33,
     "metadata": {},
     "output_type": "execute_result"
    }
   ],
   "source": [
    "final_df.head()"
   ]
  },
  {
   "cell_type": "code",
   "execution_count": 34,
   "metadata": {},
   "outputs": [
    {
     "data": {
      "text/html": [
       "<div>\n",
       "<style scoped>\n",
       "    .dataframe tbody tr th:only-of-type {\n",
       "        vertical-align: middle;\n",
       "    }\n",
       "\n",
       "    .dataframe tbody tr th {\n",
       "        vertical-align: top;\n",
       "    }\n",
       "\n",
       "    .dataframe thead th {\n",
       "        text-align: right;\n",
       "    }\n",
       "</style>\n",
       "<table border=\"1\" class=\"dataframe\">\n",
       "  <thead>\n",
       "    <tr style=\"text-align: right;\">\n",
       "      <th></th>\n",
       "      <th>Mid_Term_Full</th>\n",
       "      <th>Quiz1</th>\n",
       "      <th>Lab</th>\n",
       "      <th>SQuiz</th>\n",
       "      <th>End_Term_Mcq</th>\n",
       "      <th>End_Term_Full</th>\n",
       "      <th>BQuiz</th>\n",
       "      <th>Mid_Term_Agg</th>\n",
       "      <th>End_Term_Agg</th>\n",
       "      <th>Total_Agg</th>\n",
       "      <th>Failed_in_CP</th>\n",
       "      <th>Failed_in_CP_Lab</th>\n",
       "    </tr>\n",
       "  </thead>\n",
       "  <tbody>\n",
       "    <tr>\n",
       "      <th>count</th>\n",
       "      <td>471.000000</td>\n",
       "      <td>471.000000</td>\n",
       "      <td>471.000000</td>\n",
       "      <td>471.000000</td>\n",
       "      <td>471.000000</td>\n",
       "      <td>471.000000</td>\n",
       "      <td>471.000000</td>\n",
       "      <td>471.000000</td>\n",
       "      <td>471.000000</td>\n",
       "      <td>471.000000</td>\n",
       "      <td>471.000000</td>\n",
       "      <td>471.000000</td>\n",
       "    </tr>\n",
       "    <tr>\n",
       "      <th>mean</th>\n",
       "      <td>30.199575</td>\n",
       "      <td>6.214437</td>\n",
       "      <td>14.859873</td>\n",
       "      <td>4.261076</td>\n",
       "      <td>16.322718</td>\n",
       "      <td>80.503185</td>\n",
       "      <td>7.224989</td>\n",
       "      <td>12.583355</td>\n",
       "      <td>21.516603</td>\n",
       "      <td>56.184947</td>\n",
       "      <td>0.095541</td>\n",
       "      <td>0.023355</td>\n",
       "    </tr>\n",
       "    <tr>\n",
       "      <th>std</th>\n",
       "      <td>9.018567</td>\n",
       "      <td>1.290589</td>\n",
       "      <td>4.634457</td>\n",
       "      <td>4.005582</td>\n",
       "      <td>6.326396</td>\n",
       "      <td>29.138417</td>\n",
       "      <td>1.854013</td>\n",
       "      <td>3.757475</td>\n",
       "      <td>7.183214</td>\n",
       "      <td>13.932138</td>\n",
       "      <td>0.294274</td>\n",
       "      <td>0.151187</td>\n",
       "    </tr>\n",
       "    <tr>\n",
       "      <th>min</th>\n",
       "      <td>3.000000</td>\n",
       "      <td>0.000000</td>\n",
       "      <td>0.000000</td>\n",
       "      <td>0.000000</td>\n",
       "      <td>-1.000000</td>\n",
       "      <td>0.000000</td>\n",
       "      <td>0.000000</td>\n",
       "      <td>1.250000</td>\n",
       "      <td>0.000000</td>\n",
       "      <td>16.330000</td>\n",
       "      <td>0.000000</td>\n",
       "      <td>0.000000</td>\n",
       "    </tr>\n",
       "    <tr>\n",
       "      <th>25%</th>\n",
       "      <td>24.000000</td>\n",
       "      <td>5.500000</td>\n",
       "      <td>11.000000</td>\n",
       "      <td>0.000000</td>\n",
       "      <td>13.000000</td>\n",
       "      <td>62.750000</td>\n",
       "      <td>6.000000</td>\n",
       "      <td>10.000000</td>\n",
       "      <td>17.330000</td>\n",
       "      <td>46.390000</td>\n",
       "      <td>0.000000</td>\n",
       "      <td>0.000000</td>\n",
       "    </tr>\n",
       "    <tr>\n",
       "      <th>50%</th>\n",
       "      <td>31.000000</td>\n",
       "      <td>6.500000</td>\n",
       "      <td>15.000000</td>\n",
       "      <td>3.000000</td>\n",
       "      <td>17.000000</td>\n",
       "      <td>84.000000</td>\n",
       "      <td>7.000000</td>\n",
       "      <td>12.920000</td>\n",
       "      <td>22.440000</td>\n",
       "      <td>57.470000</td>\n",
       "      <td>0.000000</td>\n",
       "      <td>0.000000</td>\n",
       "    </tr>\n",
       "    <tr>\n",
       "      <th>75%</th>\n",
       "      <td>37.000000</td>\n",
       "      <td>7.000000</td>\n",
       "      <td>18.000000</td>\n",
       "      <td>8.333330</td>\n",
       "      <td>21.000000</td>\n",
       "      <td>102.250000</td>\n",
       "      <td>8.500000</td>\n",
       "      <td>15.420000</td>\n",
       "      <td>26.670000</td>\n",
       "      <td>65.670000</td>\n",
       "      <td>0.000000</td>\n",
       "      <td>0.000000</td>\n",
       "    </tr>\n",
       "    <tr>\n",
       "      <th>max</th>\n",
       "      <td>53.000000</td>\n",
       "      <td>9.500000</td>\n",
       "      <td>25.000000</td>\n",
       "      <td>10.000000</td>\n",
       "      <td>30.000000</td>\n",
       "      <td>143.000000</td>\n",
       "      <td>10.000000</td>\n",
       "      <td>22.080000</td>\n",
       "      <td>37.560000</td>\n",
       "      <td>90.640000</td>\n",
       "      <td>1.000000</td>\n",
       "      <td>1.000000</td>\n",
       "    </tr>\n",
       "  </tbody>\n",
       "</table>\n",
       "</div>"
      ],
      "text/plain": [
       "       Mid_Term_Full       Quiz1         Lab       SQuiz  End_Term_Mcq  \\\n",
       "count     471.000000  471.000000  471.000000  471.000000    471.000000   \n",
       "mean       30.199575    6.214437   14.859873    4.261076     16.322718   \n",
       "std         9.018567    1.290589    4.634457    4.005582      6.326396   \n",
       "min         3.000000    0.000000    0.000000    0.000000     -1.000000   \n",
       "25%        24.000000    5.500000   11.000000    0.000000     13.000000   \n",
       "50%        31.000000    6.500000   15.000000    3.000000     17.000000   \n",
       "75%        37.000000    7.000000   18.000000    8.333330     21.000000   \n",
       "max        53.000000    9.500000   25.000000   10.000000     30.000000   \n",
       "\n",
       "       End_Term_Full       BQuiz  Mid_Term_Agg  End_Term_Agg   Total_Agg  \\\n",
       "count     471.000000  471.000000    471.000000    471.000000  471.000000   \n",
       "mean       80.503185    7.224989     12.583355     21.516603   56.184947   \n",
       "std        29.138417    1.854013      3.757475      7.183214   13.932138   \n",
       "min         0.000000    0.000000      1.250000      0.000000   16.330000   \n",
       "25%        62.750000    6.000000     10.000000     17.330000   46.390000   \n",
       "50%        84.000000    7.000000     12.920000     22.440000   57.470000   \n",
       "75%       102.250000    8.500000     15.420000     26.670000   65.670000   \n",
       "max       143.000000   10.000000     22.080000     37.560000   90.640000   \n",
       "\n",
       "       Failed_in_CP  Failed_in_CP_Lab  \n",
       "count    471.000000        471.000000  \n",
       "mean       0.095541          0.023355  \n",
       "std        0.294274          0.151187  \n",
       "min        0.000000          0.000000  \n",
       "25%        0.000000          0.000000  \n",
       "50%        0.000000          0.000000  \n",
       "75%        0.000000          0.000000  \n",
       "max        1.000000          1.000000  "
      ]
     },
     "execution_count": 34,
     "metadata": {},
     "output_type": "execute_result"
    }
   ],
   "source": [
    "final_df.describe()"
   ]
  },
  {
   "cell_type": "markdown",
   "metadata": {},
   "source": [
    "## this data will furthur help us in the feature selection and extraction process\n"
   ]
  },
  {
   "cell_type": "markdown",
   "metadata": {},
   "source": [
    "# For more Plots"
   ]
  },
  {
   "cell_type": "code",
   "execution_count": 35,
   "metadata": {},
   "outputs": [
    {
     "name": "stdout",
     "output_type": "stream",
     "text": [
      "<class 'pandas.core.frame.DataFrame'>\n",
      "Index: 471 entries, 17UCC031 to 17UME068\n",
      "Data columns (total 17 columns):\n",
      "Student_Name        471 non-null object\n",
      "Mid_Term_Full       471 non-null int64\n",
      "Quiz1               471 non-null float64\n",
      "Lab                 471 non-null int64\n",
      "SQuiz               471 non-null float64\n",
      "End_Term_Mcq        471 non-null int64\n",
      "End_Term_Full       471 non-null float64\n",
      "BQuiz               471 non-null float64\n",
      "Mid_Term_Agg        471 non-null float64\n",
      "End_Term_Agg        471 non-null float64\n",
      "Total_Agg           471 non-null float64\n",
      "Grade               471 non-null object\n",
      "CP_Lab_grade        471 non-null object\n",
      "CP_grade            471 non-null object\n",
      "Branch              471 non-null object\n",
      "Failed_in_CP        471 non-null int64\n",
      "Failed_in_CP_Lab    471 non-null int64\n",
      "dtypes: float64(7), int64(5), object(5)\n",
      "memory usage: 86.2+ KB\n"
     ]
    }
   ],
   "source": [
    "final_df.info()"
   ]
  },
  {
   "cell_type": "code",
   "execution_count": 36,
   "metadata": {},
   "outputs": [],
   "source": [
    "#firstly we have to convert our CP grades and Lab grades and final grades into ints\n",
    "def conv(a):\n",
    "    listf=[]\n",
    "    if(a==\"F\"):\n",
    "        return(0)\n",
    "    elif(a==\"D\"):\n",
    "        return(1)\n",
    "    elif(a==\"CD\"):\n",
    "        return(2)\n",
    "    elif(a==\"C\"):\n",
    "        return(3)\n",
    "    elif(a==\"BC\"):\n",
    "        return(4)\n",
    "    elif(a==\"B\"):\n",
    "        return(5)\n",
    "    elif(a==\"AB\"):\n",
    "        return(6)\n",
    "    else:\n",
    "        return(7)\n",
    "final_df['CP_grade_cov']=[conv(a) for a in final_df['CP_grade']]\n",
    "final_df['CP_Lab_grade_cov']=[conv(a) for a in final_df['CP_Lab_grade']]\n",
    "final_df['Final_grade_cov']=[conv(a) for a in final_df['Grade']]\n",
    "        \n",
    "        "
   ]
  },
  {
   "cell_type": "code",
   "execution_count": 37,
   "metadata": {},
   "outputs": [
    {
     "data": {
      "text/html": [
       "<div>\n",
       "<style scoped>\n",
       "    .dataframe tbody tr th:only-of-type {\n",
       "        vertical-align: middle;\n",
       "    }\n",
       "\n",
       "    .dataframe tbody tr th {\n",
       "        vertical-align: top;\n",
       "    }\n",
       "\n",
       "    .dataframe thead th {\n",
       "        text-align: right;\n",
       "    }\n",
       "</style>\n",
       "<table border=\"1\" class=\"dataframe\">\n",
       "  <thead>\n",
       "    <tr style=\"text-align: right;\">\n",
       "      <th></th>\n",
       "      <th>Student_Name</th>\n",
       "      <th>Mid_Term_Full</th>\n",
       "      <th>Quiz1</th>\n",
       "      <th>Lab</th>\n",
       "      <th>SQuiz</th>\n",
       "      <th>End_Term_Mcq</th>\n",
       "      <th>End_Term_Full</th>\n",
       "      <th>BQuiz</th>\n",
       "      <th>Mid_Term_Agg</th>\n",
       "      <th>End_Term_Agg</th>\n",
       "      <th>Total_Agg</th>\n",
       "      <th>Grade</th>\n",
       "      <th>CP_Lab_grade</th>\n",
       "      <th>CP_grade</th>\n",
       "      <th>Branch</th>\n",
       "      <th>Failed_in_CP</th>\n",
       "      <th>Failed_in_CP_Lab</th>\n",
       "      <th>CP_grade_cov</th>\n",
       "      <th>CP_Lab_grade_cov</th>\n",
       "      <th>Final_grade_cov</th>\n",
       "    </tr>\n",
       "    <tr>\n",
       "      <th>Roll_No</th>\n",
       "      <th></th>\n",
       "      <th></th>\n",
       "      <th></th>\n",
       "      <th></th>\n",
       "      <th></th>\n",
       "      <th></th>\n",
       "      <th></th>\n",
       "      <th></th>\n",
       "      <th></th>\n",
       "      <th></th>\n",
       "      <th></th>\n",
       "      <th></th>\n",
       "      <th></th>\n",
       "      <th></th>\n",
       "      <th></th>\n",
       "      <th></th>\n",
       "      <th></th>\n",
       "      <th></th>\n",
       "      <th></th>\n",
       "      <th></th>\n",
       "    </tr>\n",
       "  </thead>\n",
       "  <tbody>\n",
       "    <tr>\n",
       "      <th>17UCC031</th>\n",
       "      <td>KHUSH CHAUDHARY</td>\n",
       "      <td>35</td>\n",
       "      <td>5.5</td>\n",
       "      <td>13</td>\n",
       "      <td>3.0</td>\n",
       "      <td>21</td>\n",
       "      <td>46.0</td>\n",
       "      <td>5.5</td>\n",
       "      <td>14.58</td>\n",
       "      <td>14.89</td>\n",
       "      <td>47.97</td>\n",
       "      <td>C</td>\n",
       "      <td>BC</td>\n",
       "      <td>C</td>\n",
       "      <td>UCC</td>\n",
       "      <td>0</td>\n",
       "      <td>0</td>\n",
       "      <td>3</td>\n",
       "      <td>4</td>\n",
       "      <td>3</td>\n",
       "    </tr>\n",
       "    <tr>\n",
       "      <th>17UCS001</th>\n",
       "      <td>AAYUSH KUMAR MISHRA</td>\n",
       "      <td>19</td>\n",
       "      <td>5.5</td>\n",
       "      <td>8</td>\n",
       "      <td>0.0</td>\n",
       "      <td>17</td>\n",
       "      <td>49.0</td>\n",
       "      <td>5.5</td>\n",
       "      <td>7.92</td>\n",
       "      <td>14.67</td>\n",
       "      <td>36.08</td>\n",
       "      <td>D</td>\n",
       "      <td>C</td>\n",
       "      <td>D</td>\n",
       "      <td>UCS</td>\n",
       "      <td>0</td>\n",
       "      <td>0</td>\n",
       "      <td>1</td>\n",
       "      <td>3</td>\n",
       "      <td>1</td>\n",
       "    </tr>\n",
       "    <tr>\n",
       "      <th>17UCS002</th>\n",
       "      <td>ABHAY ARAVINDA</td>\n",
       "      <td>45</td>\n",
       "      <td>5.5</td>\n",
       "      <td>21</td>\n",
       "      <td>10.0</td>\n",
       "      <td>27</td>\n",
       "      <td>101.0</td>\n",
       "      <td>10.0</td>\n",
       "      <td>18.75</td>\n",
       "      <td>28.44</td>\n",
       "      <td>78.19</td>\n",
       "      <td>A</td>\n",
       "      <td>A</td>\n",
       "      <td>AB</td>\n",
       "      <td>UCS</td>\n",
       "      <td>0</td>\n",
       "      <td>0</td>\n",
       "      <td>6</td>\n",
       "      <td>7</td>\n",
       "      <td>7</td>\n",
       "    </tr>\n",
       "    <tr>\n",
       "      <th>17UCS003</th>\n",
       "      <td>ABHAY GUPTA</td>\n",
       "      <td>39</td>\n",
       "      <td>7.0</td>\n",
       "      <td>20</td>\n",
       "      <td>0.0</td>\n",
       "      <td>15</td>\n",
       "      <td>84.5</td>\n",
       "      <td>7.0</td>\n",
       "      <td>16.25</td>\n",
       "      <td>22.11</td>\n",
       "      <td>65.36</td>\n",
       "      <td>B</td>\n",
       "      <td>AB</td>\n",
       "      <td>B</td>\n",
       "      <td>UCS</td>\n",
       "      <td>0</td>\n",
       "      <td>0</td>\n",
       "      <td>5</td>\n",
       "      <td>6</td>\n",
       "      <td>5</td>\n",
       "    </tr>\n",
       "    <tr>\n",
       "      <th>17UCS004</th>\n",
       "      <td>ABHI MAHAJAN</td>\n",
       "      <td>10</td>\n",
       "      <td>5.0</td>\n",
       "      <td>6</td>\n",
       "      <td>0.0</td>\n",
       "      <td>9</td>\n",
       "      <td>15.0</td>\n",
       "      <td>5.0</td>\n",
       "      <td>4.17</td>\n",
       "      <td>5.33</td>\n",
       "      <td>20.50</td>\n",
       "      <td>F</td>\n",
       "      <td>D</td>\n",
       "      <td>F</td>\n",
       "      <td>UCS</td>\n",
       "      <td>1</td>\n",
       "      <td>0</td>\n",
       "      <td>0</td>\n",
       "      <td>1</td>\n",
       "      <td>0</td>\n",
       "    </tr>\n",
       "  </tbody>\n",
       "</table>\n",
       "</div>"
      ],
      "text/plain": [
       "                 Student_Name  Mid_Term_Full  Quiz1  Lab  SQuiz  End_Term_Mcq  \\\n",
       "Roll_No                                                                         \n",
       "17UCC031      KHUSH CHAUDHARY             35    5.5   13    3.0            21   \n",
       "17UCS001  AAYUSH KUMAR MISHRA             19    5.5    8    0.0            17   \n",
       "17UCS002       ABHAY ARAVINDA             45    5.5   21   10.0            27   \n",
       "17UCS003          ABHAY GUPTA             39    7.0   20    0.0            15   \n",
       "17UCS004         ABHI MAHAJAN             10    5.0    6    0.0             9   \n",
       "\n",
       "          End_Term_Full  BQuiz  Mid_Term_Agg  End_Term_Agg  Total_Agg Grade  \\\n",
       "Roll_No                                                                       \n",
       "17UCC031           46.0    5.5         14.58         14.89      47.97     C   \n",
       "17UCS001           49.0    5.5          7.92         14.67      36.08     D   \n",
       "17UCS002          101.0   10.0         18.75         28.44      78.19     A   \n",
       "17UCS003           84.5    7.0         16.25         22.11      65.36     B   \n",
       "17UCS004           15.0    5.0          4.17          5.33      20.50     F   \n",
       "\n",
       "         CP_Lab_grade CP_grade Branch  Failed_in_CP  Failed_in_CP_Lab  \\\n",
       "Roll_No                                                                 \n",
       "17UCC031           BC        C    UCC             0                 0   \n",
       "17UCS001            C        D    UCS             0                 0   \n",
       "17UCS002            A       AB    UCS             0                 0   \n",
       "17UCS003           AB        B    UCS             0                 0   \n",
       "17UCS004            D        F    UCS             1                 0   \n",
       "\n",
       "          CP_grade_cov  CP_Lab_grade_cov  Final_grade_cov  \n",
       "Roll_No                                                    \n",
       "17UCC031             3                 4                3  \n",
       "17UCS001             1                 3                1  \n",
       "17UCS002             6                 7                7  \n",
       "17UCS003             5                 6                5  \n",
       "17UCS004             0                 1                0  "
      ]
     },
     "execution_count": 37,
     "metadata": {},
     "output_type": "execute_result"
    }
   ],
   "source": [
    "final_df.head()"
   ]
  },
  {
   "cell_type": "code",
   "execution_count": 38,
   "metadata": {},
   "outputs": [],
   "source": [
    "pair_plot_df=final_df[['Quiz1','Mid_Term_Agg','End_Term_Agg','Lab','Total_Agg','CP_grade_cov','CP_Lab_grade_cov','Final_grade_cov']]"
   ]
  },
  {
   "cell_type": "code",
   "execution_count": 39,
   "metadata": {},
   "outputs": [
    {
     "data": {
      "text/html": [
       "<div>\n",
       "<style scoped>\n",
       "    .dataframe tbody tr th:only-of-type {\n",
       "        vertical-align: middle;\n",
       "    }\n",
       "\n",
       "    .dataframe tbody tr th {\n",
       "        vertical-align: top;\n",
       "    }\n",
       "\n",
       "    .dataframe thead th {\n",
       "        text-align: right;\n",
       "    }\n",
       "</style>\n",
       "<table border=\"1\" class=\"dataframe\">\n",
       "  <thead>\n",
       "    <tr style=\"text-align: right;\">\n",
       "      <th></th>\n",
       "      <th>Quiz1</th>\n",
       "      <th>Mid_Term_Agg</th>\n",
       "      <th>End_Term_Agg</th>\n",
       "      <th>Lab</th>\n",
       "      <th>Total_Agg</th>\n",
       "      <th>CP_grade_cov</th>\n",
       "      <th>CP_Lab_grade_cov</th>\n",
       "      <th>Final_grade_cov</th>\n",
       "    </tr>\n",
       "    <tr>\n",
       "      <th>Roll_No</th>\n",
       "      <th></th>\n",
       "      <th></th>\n",
       "      <th></th>\n",
       "      <th></th>\n",
       "      <th></th>\n",
       "      <th></th>\n",
       "      <th></th>\n",
       "      <th></th>\n",
       "    </tr>\n",
       "  </thead>\n",
       "  <tbody>\n",
       "    <tr>\n",
       "      <th>17UCC031</th>\n",
       "      <td>5.5</td>\n",
       "      <td>14.58</td>\n",
       "      <td>14.89</td>\n",
       "      <td>13</td>\n",
       "      <td>47.97</td>\n",
       "      <td>3</td>\n",
       "      <td>4</td>\n",
       "      <td>3</td>\n",
       "    </tr>\n",
       "    <tr>\n",
       "      <th>17UCS001</th>\n",
       "      <td>5.5</td>\n",
       "      <td>7.92</td>\n",
       "      <td>14.67</td>\n",
       "      <td>8</td>\n",
       "      <td>36.08</td>\n",
       "      <td>1</td>\n",
       "      <td>3</td>\n",
       "      <td>1</td>\n",
       "    </tr>\n",
       "    <tr>\n",
       "      <th>17UCS002</th>\n",
       "      <td>5.5</td>\n",
       "      <td>18.75</td>\n",
       "      <td>28.44</td>\n",
       "      <td>21</td>\n",
       "      <td>78.19</td>\n",
       "      <td>6</td>\n",
       "      <td>7</td>\n",
       "      <td>7</td>\n",
       "    </tr>\n",
       "    <tr>\n",
       "      <th>17UCS003</th>\n",
       "      <td>7.0</td>\n",
       "      <td>16.25</td>\n",
       "      <td>22.11</td>\n",
       "      <td>20</td>\n",
       "      <td>65.36</td>\n",
       "      <td>5</td>\n",
       "      <td>6</td>\n",
       "      <td>5</td>\n",
       "    </tr>\n",
       "    <tr>\n",
       "      <th>17UCS004</th>\n",
       "      <td>5.0</td>\n",
       "      <td>4.17</td>\n",
       "      <td>5.33</td>\n",
       "      <td>6</td>\n",
       "      <td>20.50</td>\n",
       "      <td>0</td>\n",
       "      <td>1</td>\n",
       "      <td>0</td>\n",
       "    </tr>\n",
       "  </tbody>\n",
       "</table>\n",
       "</div>"
      ],
      "text/plain": [
       "          Quiz1  Mid_Term_Agg  End_Term_Agg  Lab  Total_Agg  CP_grade_cov  \\\n",
       "Roll_No                                                                     \n",
       "17UCC031    5.5         14.58         14.89   13      47.97             3   \n",
       "17UCS001    5.5          7.92         14.67    8      36.08             1   \n",
       "17UCS002    5.5         18.75         28.44   21      78.19             6   \n",
       "17UCS003    7.0         16.25         22.11   20      65.36             5   \n",
       "17UCS004    5.0          4.17          5.33    6      20.50             0   \n",
       "\n",
       "          CP_Lab_grade_cov  Final_grade_cov  \n",
       "Roll_No                                      \n",
       "17UCC031                 4                3  \n",
       "17UCS001                 3                1  \n",
       "17UCS002                 7                7  \n",
       "17UCS003                 6                5  \n",
       "17UCS004                 1                0  "
      ]
     },
     "execution_count": 39,
     "metadata": {},
     "output_type": "execute_result"
    }
   ],
   "source": [
    "pair_plot_df.head()"
   ]
  },
  {
   "cell_type": "code",
   "execution_count": 40,
   "metadata": {},
   "outputs": [
    {
     "data": {
      "image/png": "[encoded data removed]",
      "text/plain": [
       "<matplotlib.figure.Figure at 0x7fd0511a30b8>"
      ]
     },
     "metadata": {},
     "output_type": "display_data"
    }
   ],
   "source": [
    "pair_plot_df.hist(bins=50, figsize=(20,15))\n",
    "plt.show()"
   ]
  },
  {
   "cell_type": "code",
   "execution_count": 41,
   "metadata": {},
   "outputs": [
    {
     "data": {
      "text/plain": [
       "<seaborn.axisgrid.PairGrid at 0x7fd050904ac8>"
      ]
     },
     "execution_count": 41,
     "metadata": {},
     "output_type": "execute_result"
    },
    {
     "data": {
      "image/png": "[encoded data removed]",
      "text/plain": [
       "<matplotlib.figure.Figure at 0x7fd050904358>"
      ]
     },
     "metadata": {},
     "output_type": "display_data"
    }
   ],
   "source": [
    "sns.pairplot(pair_plot_df)"
   ]
  },
  {
   "cell_type": "markdown",
   "metadata": {},
   "source": [
    "## we see by the data the relation all the slope and the others in the line with the slope can be used to make prediction"
   ]
  },
  {
   "cell_type": "markdown",
   "metadata": {},
   "source": [
    "## here are some more plot based on the different ideas "
   ]
  },
  {
   "cell_type": "code",
   "execution_count": 42,
   "metadata": {},
   "outputs": [
    {
     "data": {
      "image/png": "[encoded data removed]",
      "text/plain": [
       "<matplotlib.figure.Figure at 0x7fd04f90c7b8>"
      ]
     },
     "metadata": {},
     "output_type": "display_data"
    }
   ],
   "source": [
    "sns.countplot(x=\"CP_grade\",data=final_df,palette='muted')\n",
    "plt.show()"
   ]
  },
  {
   "cell_type": "code",
   "execution_count": 43,
   "metadata": {},
   "outputs": [
    {
     "data": {
      "text/plain": [
       "<matplotlib.axes._subplots.AxesSubplot at 0x7fd04eee69e8>"
      ]
     },
     "execution_count": 43,
     "metadata": {},
     "output_type": "execute_result"
    },
    {
     "data": {
      "image/png": "[encoded data removed]",
      "text/plain": [
       "<matplotlib.figure.Figure at 0x7fd0508c0ac8>"
      ]
     },
     "metadata": {},
     "output_type": "display_data"
    }
   ],
   "source": [
    "sns.countplot(x=\"CP_Lab_grade\",data=final_df,palette='muted')"
   ]
  },
  {
   "cell_type": "code",
   "execution_count": 44,
   "metadata": {},
   "outputs": [
    {
     "data": {
      "text/plain": [
       "<matplotlib.axes._subplots.AxesSubplot at 0x7fd04eee91d0>"
      ]
     },
     "execution_count": 44,
     "metadata": {},
     "output_type": "execute_result"
    },
    {
     "data": {
      "image/png": "[encoded data removed]",
      "text/plain": [
       "<matplotlib.figure.Figure at 0x7fd04f838c18>"
      ]
     },
     "metadata": {},
     "output_type": "display_data"
    }
   ],
   "source": [
    "sns.countplot(x=\"Grade\",data=final_df,palette='muted')"
   ]
  },
  {
   "cell_type": "markdown",
   "metadata": {},
   "source": [
    "## we can see grading is easy in DSA as compared to CP but it is more similar to CP_Lab\n",
    "\n"
   ]
  },
  {
   "cell_type": "markdown",
   "metadata": {},
   "source": [
    "## we can realate different marks to different things and see there future impact "
   ]
  },
  {
   "cell_type": "code",
   "execution_count": 45,
   "metadata": {},
   "outputs": [
    {
     "name": "stdout",
     "output_type": "stream",
     "text": [
      "['Student_Name' 'Mid_Term_Full' 'Quiz1' 'Lab' 'SQuiz' 'End_Term_Mcq'\n",
      " 'End_Term_Full' 'BQuiz' 'Mid_Term_Agg' 'End_Term_Agg' 'Total_Agg' 'Grade'\n",
      " 'CP_Lab_grade' 'CP_grade' 'Branch' 'Failed_in_CP' 'Failed_in_CP_Lab'\n",
      " 'CP_grade_cov' 'CP_Lab_grade_cov' 'Final_grade_cov']\n"
     ]
    }
   ],
   "source": [
    "print(final_df.columns.values)"
   ]
  },
  {
   "cell_type": "code",
   "execution_count": 46,
   "metadata": {},
   "outputs": [
    {
     "data": {
      "text/plain": [
       "<matplotlib.axes._subplots.AxesSubplot at 0x7fd04f9d4a90>"
      ]
     },
     "execution_count": 46,
     "metadata": {},
     "output_type": "execute_result"
    },
    {
     "data": {
      "image/png": "[encoded data removed]",
      "text/plain": [
       "<matplotlib.figure.Figure at 0x7fd04f98beb8>"
      ]
     },
     "metadata": {},
     "output_type": "display_data"
    }
   ],
   "source": [
    "sns.barplot(x=\"CP_grade\",y=\"Total_Agg\",data=final_df)"
   ]
  },
  {
   "cell_type": "markdown",
   "metadata": {},
   "source": [
    "### we got the idea that those who got b grade preform better than those who got a grade"
   ]
  },
  {
   "cell_type": "code",
   "execution_count": 47,
   "metadata": {},
   "outputs": [
    {
     "data": {
      "text/plain": [
       "<matplotlib.axes._subplots.AxesSubplot at 0x7fd04d604898>"
      ]
     },
     "execution_count": 47,
     "metadata": {},
     "output_type": "execute_result"
    },
    {
     "data": {
      "image/png": "[encoded data removed]",
      "text/plain": [
       "<matplotlib.figure.Figure at 0x7fd05069e0f0>"
      ]
     },
     "metadata": {},
     "output_type": "display_data"
    }
   ],
   "source": [
    "sns.barplot(x=\"CP_Lab_grade\",y=\"Total_Agg\",data=final_df)"
   ]
  },
  {
   "cell_type": "markdown",
   "metadata": {},
   "source": [
    "### but we can see the clear relation here this shows that those students who did better in prerequisite course did better in dsa courese too"
   ]
  },
  {
   "cell_type": "code",
   "execution_count": 48,
   "metadata": {},
   "outputs": [
    {
     "data": {
      "text/plain": [
       "<matplotlib.axes._subplots.AxesSubplot at 0x7fd04d618438>"
      ]
     },
     "execution_count": 48,
     "metadata": {},
     "output_type": "execute_result"
    },
    {
     "data": {
      "image/png": "[encoded data removed]",
      "text/plain": [
       "<matplotlib.figure.Figure at 0x7fd04d67e4e0>"
      ]
     },
     "metadata": {},
     "output_type": "display_data"
    }
   ],
   "source": [
    "sns.barplot(x=\"CP_Lab_grade\",y=\"Lab\",data=final_df)"
   ]
  },
  {
   "cell_type": "code",
   "execution_count": 49,
   "metadata": {},
   "outputs": [],
   "source": [
    "final_df['Theory_Agg']=final_df['Total_Agg']-final_df['Lab']"
   ]
  },
  {
   "cell_type": "code",
   "execution_count": 50,
   "metadata": {},
   "outputs": [
    {
     "data": {
      "text/html": [
       "<div>\n",
       "<style scoped>\n",
       "    .dataframe tbody tr th:only-of-type {\n",
       "        vertical-align: middle;\n",
       "    }\n",
       "\n",
       "    .dataframe tbody tr th {\n",
       "        vertical-align: top;\n",
       "    }\n",
       "\n",
       "    .dataframe thead th {\n",
       "        text-align: right;\n",
       "    }\n",
       "</style>\n",
       "<table border=\"1\" class=\"dataframe\">\n",
       "  <thead>\n",
       "    <tr style=\"text-align: right;\">\n",
       "      <th></th>\n",
       "      <th>Student_Name</th>\n",
       "      <th>Mid_Term_Full</th>\n",
       "      <th>Quiz1</th>\n",
       "      <th>Lab</th>\n",
       "      <th>SQuiz</th>\n",
       "      <th>End_Term_Mcq</th>\n",
       "      <th>End_Term_Full</th>\n",
       "      <th>BQuiz</th>\n",
       "      <th>Mid_Term_Agg</th>\n",
       "      <th>End_Term_Agg</th>\n",
       "      <th>...</th>\n",
       "      <th>Grade</th>\n",
       "      <th>CP_Lab_grade</th>\n",
       "      <th>CP_grade</th>\n",
       "      <th>Branch</th>\n",
       "      <th>Failed_in_CP</th>\n",
       "      <th>Failed_in_CP_Lab</th>\n",
       "      <th>CP_grade_cov</th>\n",
       "      <th>CP_Lab_grade_cov</th>\n",
       "      <th>Final_grade_cov</th>\n",
       "      <th>Theory_Agg</th>\n",
       "    </tr>\n",
       "    <tr>\n",
       "      <th>Roll_No</th>\n",
       "      <th></th>\n",
       "      <th></th>\n",
       "      <th></th>\n",
       "      <th></th>\n",
       "      <th></th>\n",
       "      <th></th>\n",
       "      <th></th>\n",
       "      <th></th>\n",
       "      <th></th>\n",
       "      <th></th>\n",
       "      <th></th>\n",
       "      <th></th>\n",
       "      <th></th>\n",
       "      <th></th>\n",
       "      <th></th>\n",
       "      <th></th>\n",
       "      <th></th>\n",
       "      <th></th>\n",
       "      <th></th>\n",
       "      <th></th>\n",
       "      <th></th>\n",
       "    </tr>\n",
       "  </thead>\n",
       "  <tbody>\n",
       "    <tr>\n",
       "      <th>17UCC031</th>\n",
       "      <td>KHUSH CHAUDHARY</td>\n",
       "      <td>35</td>\n",
       "      <td>5.5</td>\n",
       "      <td>13</td>\n",
       "      <td>3.0</td>\n",
       "      <td>21</td>\n",
       "      <td>46.0</td>\n",
       "      <td>5.5</td>\n",
       "      <td>14.58</td>\n",
       "      <td>14.89</td>\n",
       "      <td>...</td>\n",
       "      <td>C</td>\n",
       "      <td>BC</td>\n",
       "      <td>C</td>\n",
       "      <td>UCC</td>\n",
       "      <td>0</td>\n",
       "      <td>0</td>\n",
       "      <td>3</td>\n",
       "      <td>4</td>\n",
       "      <td>3</td>\n",
       "      <td>34.97</td>\n",
       "    </tr>\n",
       "    <tr>\n",
       "      <th>17UCS001</th>\n",
       "      <td>AAYUSH KUMAR MISHRA</td>\n",
       "      <td>19</td>\n",
       "      <td>5.5</td>\n",
       "      <td>8</td>\n",
       "      <td>0.0</td>\n",
       "      <td>17</td>\n",
       "      <td>49.0</td>\n",
       "      <td>5.5</td>\n",
       "      <td>7.92</td>\n",
       "      <td>14.67</td>\n",
       "      <td>...</td>\n",
       "      <td>D</td>\n",
       "      <td>C</td>\n",
       "      <td>D</td>\n",
       "      <td>UCS</td>\n",
       "      <td>0</td>\n",
       "      <td>0</td>\n",
       "      <td>1</td>\n",
       "      <td>3</td>\n",
       "      <td>1</td>\n",
       "      <td>28.08</td>\n",
       "    </tr>\n",
       "    <tr>\n",
       "      <th>17UCS002</th>\n",
       "      <td>ABHAY ARAVINDA</td>\n",
       "      <td>45</td>\n",
       "      <td>5.5</td>\n",
       "      <td>21</td>\n",
       "      <td>10.0</td>\n",
       "      <td>27</td>\n",
       "      <td>101.0</td>\n",
       "      <td>10.0</td>\n",
       "      <td>18.75</td>\n",
       "      <td>28.44</td>\n",
       "      <td>...</td>\n",
       "      <td>A</td>\n",
       "      <td>A</td>\n",
       "      <td>AB</td>\n",
       "      <td>UCS</td>\n",
       "      <td>0</td>\n",
       "      <td>0</td>\n",
       "      <td>6</td>\n",
       "      <td>7</td>\n",
       "      <td>7</td>\n",
       "      <td>57.19</td>\n",
       "    </tr>\n",
       "    <tr>\n",
       "      <th>17UCS003</th>\n",
       "      <td>ABHAY GUPTA</td>\n",
       "      <td>39</td>\n",
       "      <td>7.0</td>\n",
       "      <td>20</td>\n",
       "      <td>0.0</td>\n",
       "      <td>15</td>\n",
       "      <td>84.5</td>\n",
       "      <td>7.0</td>\n",
       "      <td>16.25</td>\n",
       "      <td>22.11</td>\n",
       "      <td>...</td>\n",
       "      <td>B</td>\n",
       "      <td>AB</td>\n",
       "      <td>B</td>\n",
       "      <td>UCS</td>\n",
       "      <td>0</td>\n",
       "      <td>0</td>\n",
       "      <td>5</td>\n",
       "      <td>6</td>\n",
       "      <td>5</td>\n",
       "      <td>45.36</td>\n",
       "    </tr>\n",
       "    <tr>\n",
       "      <th>17UCS004</th>\n",
       "      <td>ABHI MAHAJAN</td>\n",
       "      <td>10</td>\n",
       "      <td>5.0</td>\n",
       "      <td>6</td>\n",
       "      <td>0.0</td>\n",
       "      <td>9</td>\n",
       "      <td>15.0</td>\n",
       "      <td>5.0</td>\n",
       "      <td>4.17</td>\n",
       "      <td>5.33</td>\n",
       "      <td>...</td>\n",
       "      <td>F</td>\n",
       "      <td>D</td>\n",
       "      <td>F</td>\n",
       "      <td>UCS</td>\n",
       "      <td>1</td>\n",
       "      <td>0</td>\n",
       "      <td>0</td>\n",
       "      <td>1</td>\n",
       "      <td>0</td>\n",
       "      <td>14.50</td>\n",
       "    </tr>\n",
       "  </tbody>\n",
       "</table>\n",
       "<p>5 rows × 21 columns</p>\n",
       "</div>"
      ],
      "text/plain": [
       "                 Student_Name  Mid_Term_Full  Quiz1  Lab  SQuiz  End_Term_Mcq  \\\n",
       "Roll_No                                                                         \n",
       "17UCC031      KHUSH CHAUDHARY             35    5.5   13    3.0            21   \n",
       "17UCS001  AAYUSH KUMAR MISHRA             19    5.5    8    0.0            17   \n",
       "17UCS002       ABHAY ARAVINDA             45    5.5   21   10.0            27   \n",
       "17UCS003          ABHAY GUPTA             39    7.0   20    0.0            15   \n",
       "17UCS004         ABHI MAHAJAN             10    5.0    6    0.0             9   \n",
       "\n",
       "          End_Term_Full  BQuiz  Mid_Term_Agg  End_Term_Agg     ...      Grade  \\\n",
       "Roll_No                                                        ...              \n",
       "17UCC031           46.0    5.5         14.58         14.89     ...          C   \n",
       "17UCS001           49.0    5.5          7.92         14.67     ...          D   \n",
       "17UCS002          101.0   10.0         18.75         28.44     ...          A   \n",
       "17UCS003           84.5    7.0         16.25         22.11     ...          B   \n",
       "17UCS004           15.0    5.0          4.17          5.33     ...          F   \n",
       "\n",
       "         CP_Lab_grade CP_grade Branch Failed_in_CP  Failed_in_CP_Lab  \\\n",
       "Roll_No                                                                \n",
       "17UCC031           BC        C    UCC            0                 0   \n",
       "17UCS001            C        D    UCS            0                 0   \n",
       "17UCS002            A       AB    UCS            0                 0   \n",
       "17UCS003           AB        B    UCS            0                 0   \n",
       "17UCS004            D        F    UCS            1                 0   \n",
       "\n",
       "          CP_grade_cov  CP_Lab_grade_cov  Final_grade_cov  Theory_Agg  \n",
       "Roll_No                                                                \n",
       "17UCC031             3                 4                3       34.97  \n",
       "17UCS001             1                 3                1       28.08  \n",
       "17UCS002             6                 7                7       57.19  \n",
       "17UCS003             5                 6                5       45.36  \n",
       "17UCS004             0                 1                0       14.50  \n",
       "\n",
       "[5 rows x 21 columns]"
      ]
     },
     "execution_count": 50,
     "metadata": {},
     "output_type": "execute_result"
    }
   ],
   "source": [
    "final_df.head()"
   ]
  },
  {
   "cell_type": "code",
   "execution_count": 51,
   "metadata": {},
   "outputs": [
    {
     "data": {
      "text/plain": [
       "<matplotlib.axes._subplots.AxesSubplot at 0x7fd04d256a20>"
      ]
     },
     "execution_count": 51,
     "metadata": {},
     "output_type": "execute_result"
    },
    {
     "data": {
      "image/png": "[encoded data removed]",
      "text/plain": [
       "<matplotlib.figure.Figure at 0x7fd04d566a90>"
      ]
     },
     "metadata": {},
     "output_type": "display_data"
    }
   ],
   "source": [
    "sns.barplot(x=\"CP_grade\",y='Theory_Agg',data=final_df)"
   ]
  },
  {
   "cell_type": "code",
   "execution_count": 52,
   "metadata": {},
   "outputs": [
    {
     "data": {
      "image/png": "[encoded data removed]",
      "text/plain": [
       "<matplotlib.figure.Figure at 0x7fd04c1ea828>"
      ]
     },
     "metadata": {},
     "output_type": "display_data"
    }
   ],
   "source": [
    "#box and swarm plots can also make us do better analysis of the dataset\n",
    "Plot=sns.boxplot(x=\"CP_grade\",y=\"Final_grade_cov\",data=final_df)\n",
    "Plot=sns.swarmplot(x=\"CP_grade\",y=\"Final_grade_cov\",data=final_df,color=\".15\")\n",
    "plt.show()"
   ]
  },
  {
   "cell_type": "markdown",
   "metadata": {},
   "source": [
    "## Some more Basic Plots to prove above hypothesis"
   ]
  },
  {
   "cell_type": "code",
   "execution_count": 53,
   "metadata": {},
   "outputs": [
    {
     "data": {
      "text/plain": [
       "<seaborn.axisgrid.FacetGrid at 0x7fd04d246908>"
      ]
     },
     "execution_count": 53,
     "metadata": {},
     "output_type": "execute_result"
    },
    {
     "data": {
      "image/png": "[encoded data removed]",
      "text/plain": [
       "<matplotlib.figure.Figure at 0x7fd04c1bf588>"
      ]
     },
     "metadata": {},
     "output_type": "display_data"
    }
   ],
   "source": [
    "Facetgrid = sns.FacetGrid(final_df,hue=\"Grade\",size=6)\n",
    "Facetgrid.map(sns.kdeplot,'Lab',shade=True)\n",
    "Facetgrid.set(xlim=(0,final_df['Lab'].max()))\n",
    "Facetgrid.add_legend()"
   ]
  },
  {
   "cell_type": "code",
   "execution_count": 54,
   "metadata": {},
   "outputs": [
    {
     "data": {
      "text/plain": [
       "<matplotlib.axes._subplots.AxesSubplot at 0x7fd04c0ce780>"
      ]
     },
     "execution_count": 54,
     "metadata": {},
     "output_type": "execute_result"
    },
    {
     "data": {
      "image/png": "[encoded data removed]",
      "text/plain": [
       "<matplotlib.figure.Figure at 0x7fd04f97b748>"
      ]
     },
     "metadata": {},
     "output_type": "display_data"
    }
   ],
   "source": [
    "sns.barplot(x=\"Grade\",y=\"Lab\",data=final_df)"
   ]
  },
  {
   "cell_type": "code",
   "execution_count": 55,
   "metadata": {},
   "outputs": [
    {
     "data": {
      "text/plain": [
       "<matplotlib.axes._subplots.AxesSubplot at 0x7fd046f1a198>"
      ]
     },
     "execution_count": 55,
     "metadata": {},
     "output_type": "execute_result"
    },
    {
     "data": {
      "image/png": "[encoded data removed]",
      "text/plain": [
       "<matplotlib.figure.Figure at 0x7fd04c032b38>"
      ]
     },
     "metadata": {},
     "output_type": "display_data"
    }
   ],
   "source": [
    "sns.barplot(x=\"Grade\",y=\"Mid_Term_Full\",data=final_df)"
   ]
  },
  {
   "cell_type": "code",
   "execution_count": 56,
   "metadata": {},
   "outputs": [
    {
     "data": {
      "text/plain": [
       "<matplotlib.axes._subplots.AxesSubplot at 0x7fd046f0b748>"
      ]
     },
     "execution_count": 56,
     "metadata": {},
     "output_type": "execute_result"
    },
    {
     "data": {
      "image/png": "[encoded data removed]",
      "text/plain": [
       "<matplotlib.figure.Figure at 0x7fd046ec18d0>"
      ]
     },
     "metadata": {},
     "output_type": "display_data"
    }
   ],
   "source": [
    "sns.barplot(x=\"Grade\",y=\"Quiz1\",data=final_df)"
   ]
  },
  {
   "cell_type": "markdown",
   "metadata": {},
   "source": [
    "# There can be so more plot discribing the same thigs"
   ]
  },
  {
   "cell_type": "markdown",
   "metadata": {},
   "source": [
    "## the results----"
   ]
  },
  {
   "cell_type": "markdown",
   "metadata": {},
   "source": [
    "1.Lab marks direcltly corelate to performance in both prerequisite course and this course\n",
    "\n",
    "2.End terms marks are also a good measure to identify the performance\n",
    "\n",
    "3.lab grade and is also a good measure to find the current performance\n",
    "\n",
    "4.marking of prerequisite course was not satisfactory so it does not signify such relation\n",
    "\n",
    "5.Mid term performace also realte well\n",
    "\n",
    "6.Quiz performace does not corelate that well but we can use it to show minor difference\n"
   ]
  },
  {
   "cell_type": "markdown",
   "metadata": {},
   "source": [
    "# Prediction in the basis of result"
   ]
  },
  {
   "cell_type": "code",
   "execution_count": 57,
   "metadata": {},
   "outputs": [
    {
     "data": {
      "text/plain": [
       "<matplotlib.axes._subplots.AxesSubplot at 0x7fd046e0bf98>"
      ]
     },
     "execution_count": 57,
     "metadata": {},
     "output_type": "execute_result"
    },
    {
     "data": {
      "image/png": "[encoded data removed]",
      "text/plain": [
       "<matplotlib.figure.Figure at 0x7fd046eafe80>"
      ]
     },
     "metadata": {},
     "output_type": "display_data"
    }
   ],
   "source": [
    "sns.heatmap(pair_plot_df.corr(),cmap=\"YlGnBu\")"
   ]
  },
  {
   "cell_type": "code",
   "execution_count": 58,
   "metadata": {},
   "outputs": [
    {
     "data": {
      "text/html": [
       "<div>\n",
       "<style scoped>\n",
       "    .dataframe tbody tr th:only-of-type {\n",
       "        vertical-align: middle;\n",
       "    }\n",
       "\n",
       "    .dataframe tbody tr th {\n",
       "        vertical-align: top;\n",
       "    }\n",
       "\n",
       "    .dataframe thead th {\n",
       "        text-align: right;\n",
       "    }\n",
       "</style>\n",
       "<table border=\"1\" class=\"dataframe\">\n",
       "  <thead>\n",
       "    <tr style=\"text-align: right;\">\n",
       "      <th></th>\n",
       "      <th>Mid_Term_Full</th>\n",
       "      <th>Quiz1</th>\n",
       "      <th>Lab</th>\n",
       "      <th>SQuiz</th>\n",
       "      <th>End_Term_Mcq</th>\n",
       "      <th>End_Term_Full</th>\n",
       "      <th>BQuiz</th>\n",
       "      <th>Mid_Term_Agg</th>\n",
       "      <th>End_Term_Agg</th>\n",
       "      <th>Total_Agg</th>\n",
       "      <th>Failed_in_CP</th>\n",
       "      <th>Failed_in_CP_Lab</th>\n",
       "      <th>CP_grade_cov</th>\n",
       "      <th>CP_Lab_grade_cov</th>\n",
       "      <th>Final_grade_cov</th>\n",
       "      <th>Theory_Agg</th>\n",
       "    </tr>\n",
       "  </thead>\n",
       "  <tbody>\n",
       "    <tr>\n",
       "      <th>Mid_Term_Full</th>\n",
       "      <td>1.000000</td>\n",
       "      <td>0.242273</td>\n",
       "      <td>0.568268</td>\n",
       "      <td>0.159846</td>\n",
       "      <td>0.331508</td>\n",
       "      <td>0.489262</td>\n",
       "      <td>0.236236</td>\n",
       "      <td>1.000000</td>\n",
       "      <td>0.505925</td>\n",
       "      <td>0.751024</td>\n",
       "      <td>-0.349527</td>\n",
       "      <td>-0.242174</td>\n",
       "      <td>0.637588</td>\n",
       "      <td>0.580051</td>\n",
       "      <td>0.743391</td>\n",
       "      <td>0.749889</td>\n",
       "    </tr>\n",
       "    <tr>\n",
       "      <th>Quiz1</th>\n",
       "      <td>0.242273</td>\n",
       "      <td>1.000000</td>\n",
       "      <td>0.254220</td>\n",
       "      <td>0.113016</td>\n",
       "      <td>0.238285</td>\n",
       "      <td>0.240368</td>\n",
       "      <td>0.467220</td>\n",
       "      <td>0.242244</td>\n",
       "      <td>0.263306</td>\n",
       "      <td>0.347854</td>\n",
       "      <td>-0.101679</td>\n",
       "      <td>-0.042078</td>\n",
       "      <td>0.245159</td>\n",
       "      <td>0.208721</td>\n",
       "      <td>0.322931</td>\n",
       "      <td>0.351317</td>\n",
       "    </tr>\n",
       "    <tr>\n",
       "      <th>Lab</th>\n",
       "      <td>0.568268</td>\n",
       "      <td>0.254220</td>\n",
       "      <td>1.000000</td>\n",
       "      <td>0.223032</td>\n",
       "      <td>0.393850</td>\n",
       "      <td>0.561363</td>\n",
       "      <td>0.290501</td>\n",
       "      <td>0.568233</td>\n",
       "      <td>0.583125</td>\n",
       "      <td>0.825206</td>\n",
       "      <td>-0.350545</td>\n",
       "      <td>-0.168405</td>\n",
       "      <td>0.584812</td>\n",
       "      <td>0.621869</td>\n",
       "      <td>0.808881</td>\n",
       "      <td>0.657244</td>\n",
       "    </tr>\n",
       "    <tr>\n",
       "      <th>SQuiz</th>\n",
       "      <td>0.159846</td>\n",
       "      <td>0.113016</td>\n",
       "      <td>0.223032</td>\n",
       "      <td>1.000000</td>\n",
       "      <td>0.177436</td>\n",
       "      <td>0.313545</td>\n",
       "      <td>0.795184</td>\n",
       "      <td>0.159833</td>\n",
       "      <td>0.317363</td>\n",
       "      <td>0.386768</td>\n",
       "      <td>-0.109063</td>\n",
       "      <td>-0.050493</td>\n",
       "      <td>0.227360</td>\n",
       "      <td>0.248276</td>\n",
       "      <td>0.380147</td>\n",
       "      <td>0.417084</td>\n",
       "    </tr>\n",
       "    <tr>\n",
       "      <th>End_Term_Mcq</th>\n",
       "      <td>0.331508</td>\n",
       "      <td>0.238285</td>\n",
       "      <td>0.393850</td>\n",
       "      <td>0.177436</td>\n",
       "      <td>1.000000</td>\n",
       "      <td>0.422505</td>\n",
       "      <td>0.262108</td>\n",
       "      <td>0.331467</td>\n",
       "      <td>0.576600</td>\n",
       "      <td>0.552580</td>\n",
       "      <td>-0.225741</td>\n",
       "      <td>-0.090203</td>\n",
       "      <td>0.351993</td>\n",
       "      <td>0.333191</td>\n",
       "      <td>0.545923</td>\n",
       "      <td>0.562516</td>\n",
       "    </tr>\n",
       "    <tr>\n",
       "      <th>End_Term_Full</th>\n",
       "      <td>0.489262</td>\n",
       "      <td>0.240368</td>\n",
       "      <td>0.561363</td>\n",
       "      <td>0.313545</td>\n",
       "      <td>0.422505</td>\n",
       "      <td>1.000000</td>\n",
       "      <td>0.328701</td>\n",
       "      <td>0.489286</td>\n",
       "      <td>0.984137</td>\n",
       "      <td>0.869849</td>\n",
       "      <td>-0.341218</td>\n",
       "      <td>-0.232326</td>\n",
       "      <td>0.531571</td>\n",
       "      <td>0.543667</td>\n",
       "      <td>0.850524</td>\n",
       "      <td>0.911507</td>\n",
       "    </tr>\n",
       "    <tr>\n",
       "      <th>BQuiz</th>\n",
       "      <td>0.236236</td>\n",
       "      <td>0.467220</td>\n",
       "      <td>0.290501</td>\n",
       "      <td>0.795184</td>\n",
       "      <td>0.262108</td>\n",
       "      <td>0.328701</td>\n",
       "      <td>1.000000</td>\n",
       "      <td>0.236204</td>\n",
       "      <td>0.347603</td>\n",
       "      <td>0.472657</td>\n",
       "      <td>-0.128554</td>\n",
       "      <td>-0.060534</td>\n",
       "      <td>0.263580</td>\n",
       "      <td>0.289992</td>\n",
       "      <td>0.459042</td>\n",
       "      <td>0.501743</td>\n",
       "    </tr>\n",
       "    <tr>\n",
       "      <th>Mid_Term_Agg</th>\n",
       "      <td>1.000000</td>\n",
       "      <td>0.242244</td>\n",
       "      <td>0.568233</td>\n",
       "      <td>0.159833</td>\n",
       "      <td>0.331467</td>\n",
       "      <td>0.489286</td>\n",
       "      <td>0.236204</td>\n",
       "      <td>1.000000</td>\n",
       "      <td>0.505938</td>\n",
       "      <td>0.751015</td>\n",
       "      <td>-0.349517</td>\n",
       "      <td>-0.242199</td>\n",
       "      <td>0.637586</td>\n",
       "      <td>0.580010</td>\n",
       "      <td>0.743372</td>\n",
       "      <td>0.749893</td>\n",
       "    </tr>\n",
       "    <tr>\n",
       "      <th>End_Term_Agg</th>\n",
       "      <td>0.505925</td>\n",
       "      <td>0.263306</td>\n",
       "      <td>0.583125</td>\n",
       "      <td>0.317363</td>\n",
       "      <td>0.576600</td>\n",
       "      <td>0.984137</td>\n",
       "      <td>0.347603</td>\n",
       "      <td>0.505938</td>\n",
       "      <td>1.000000</td>\n",
       "      <td>0.892274</td>\n",
       "      <td>-0.351753</td>\n",
       "      <td>-0.227071</td>\n",
       "      <td>0.548076</td>\n",
       "      <td>0.555303</td>\n",
       "      <td>0.873552</td>\n",
       "      <td>0.931770</td>\n",
       "    </tr>\n",
       "    <tr>\n",
       "      <th>Total_Agg</th>\n",
       "      <td>0.751024</td>\n",
       "      <td>0.347854</td>\n",
       "      <td>0.825206</td>\n",
       "      <td>0.386768</td>\n",
       "      <td>0.552580</td>\n",
       "      <td>0.869849</td>\n",
       "      <td>0.472657</td>\n",
       "      <td>0.751015</td>\n",
       "      <td>0.892274</td>\n",
       "      <td>1.000000</td>\n",
       "      <td>-0.409345</td>\n",
       "      <td>-0.246471</td>\n",
       "      <td>0.684158</td>\n",
       "      <td>0.688200</td>\n",
       "      <td>0.981046</td>\n",
       "      <td>0.968063</td>\n",
       "    </tr>\n",
       "    <tr>\n",
       "      <th>Failed_in_CP</th>\n",
       "      <td>-0.349527</td>\n",
       "      <td>-0.101679</td>\n",
       "      <td>-0.350545</td>\n",
       "      <td>-0.109063</td>\n",
       "      <td>-0.225741</td>\n",
       "      <td>-0.341218</td>\n",
       "      <td>-0.128554</td>\n",
       "      <td>-0.349517</td>\n",
       "      <td>-0.351753</td>\n",
       "      <td>-0.409345</td>\n",
       "      <td>1.000000</td>\n",
       "      <td>0.332322</td>\n",
       "      <td>-0.509334</td>\n",
       "      <td>-0.432842</td>\n",
       "      <td>-0.405168</td>\n",
       "      <td>-0.390613</td>\n",
       "    </tr>\n",
       "    <tr>\n",
       "      <th>Failed_in_CP_Lab</th>\n",
       "      <td>-0.242174</td>\n",
       "      <td>-0.042078</td>\n",
       "      <td>-0.168405</td>\n",
       "      <td>-0.050493</td>\n",
       "      <td>-0.090203</td>\n",
       "      <td>-0.232326</td>\n",
       "      <td>-0.060534</td>\n",
       "      <td>-0.242199</td>\n",
       "      <td>-0.227071</td>\n",
       "      <td>-0.246471</td>\n",
       "      <td>0.332322</td>\n",
       "      <td>1.000000</td>\n",
       "      <td>-0.204659</td>\n",
       "      <td>-0.365217</td>\n",
       "      <td>-0.238143</td>\n",
       "      <td>-0.254128</td>\n",
       "    </tr>\n",
       "    <tr>\n",
       "      <th>CP_grade_cov</th>\n",
       "      <td>0.637588</td>\n",
       "      <td>0.245159</td>\n",
       "      <td>0.584812</td>\n",
       "      <td>0.227360</td>\n",
       "      <td>0.351993</td>\n",
       "      <td>0.531571</td>\n",
       "      <td>0.263580</td>\n",
       "      <td>0.637586</td>\n",
       "      <td>0.548076</td>\n",
       "      <td>0.684158</td>\n",
       "      <td>-0.509334</td>\n",
       "      <td>-0.204659</td>\n",
       "      <td>1.000000</td>\n",
       "      <td>0.719070</td>\n",
       "      <td>0.672864</td>\n",
       "      <td>0.653324</td>\n",
       "    </tr>\n",
       "    <tr>\n",
       "      <th>CP_Lab_grade_cov</th>\n",
       "      <td>0.580051</td>\n",
       "      <td>0.208721</td>\n",
       "      <td>0.621869</td>\n",
       "      <td>0.248276</td>\n",
       "      <td>0.333191</td>\n",
       "      <td>0.543667</td>\n",
       "      <td>0.289992</td>\n",
       "      <td>0.580010</td>\n",
       "      <td>0.555303</td>\n",
       "      <td>0.688200</td>\n",
       "      <td>-0.432842</td>\n",
       "      <td>-0.365217</td>\n",
       "      <td>0.719070</td>\n",
       "      <td>1.000000</td>\n",
       "      <td>0.671835</td>\n",
       "      <td>0.642269</td>\n",
       "    </tr>\n",
       "    <tr>\n",
       "      <th>Final_grade_cov</th>\n",
       "      <td>0.743391</td>\n",
       "      <td>0.322931</td>\n",
       "      <td>0.808881</td>\n",
       "      <td>0.380147</td>\n",
       "      <td>0.545923</td>\n",
       "      <td>0.850524</td>\n",
       "      <td>0.459042</td>\n",
       "      <td>0.743372</td>\n",
       "      <td>0.873552</td>\n",
       "      <td>0.981046</td>\n",
       "      <td>-0.405168</td>\n",
       "      <td>-0.238143</td>\n",
       "      <td>0.672864</td>\n",
       "      <td>0.671835</td>\n",
       "      <td>1.000000</td>\n",
       "      <td>0.950018</td>\n",
       "    </tr>\n",
       "    <tr>\n",
       "      <th>Theory_Agg</th>\n",
       "      <td>0.749889</td>\n",
       "      <td>0.351317</td>\n",
       "      <td>0.657244</td>\n",
       "      <td>0.417084</td>\n",
       "      <td>0.562516</td>\n",
       "      <td>0.911507</td>\n",
       "      <td>0.501743</td>\n",
       "      <td>0.749893</td>\n",
       "      <td>0.931770</td>\n",
       "      <td>0.968063</td>\n",
       "      <td>-0.390613</td>\n",
       "      <td>-0.254128</td>\n",
       "      <td>0.653324</td>\n",
       "      <td>0.642269</td>\n",
       "      <td>0.950018</td>\n",
       "      <td>1.000000</td>\n",
       "    </tr>\n",
       "  </tbody>\n",
       "</table>\n",
       "</div>"
      ],
      "text/plain": [
       "                  Mid_Term_Full     Quiz1       Lab     SQuiz  End_Term_Mcq  \\\n",
       "Mid_Term_Full          1.000000  0.242273  0.568268  0.159846      0.331508   \n",
       "Quiz1                  0.242273  1.000000  0.254220  0.113016      0.238285   \n",
       "Lab                    0.568268  0.254220  1.000000  0.223032      0.393850   \n",
       "SQuiz                  0.159846  0.113016  0.223032  1.000000      0.177436   \n",
       "End_Term_Mcq           0.331508  0.238285  0.393850  0.177436      1.000000   \n",
       "End_Term_Full          0.489262  0.240368  0.561363  0.313545      0.422505   \n",
       "BQuiz                  0.236236  0.467220  0.290501  0.795184      0.262108   \n",
       "Mid_Term_Agg           1.000000  0.242244  0.568233  0.159833      0.331467   \n",
       "End_Term_Agg           0.505925  0.263306  0.583125  0.317363      0.576600   \n",
       "Total_Agg              0.751024  0.347854  0.825206  0.386768      0.552580   \n",
       "Failed_in_CP          -0.349527 -0.101679 -0.350545 -0.109063     -0.225741   \n",
       "Failed_in_CP_Lab      -0.242174 -0.042078 -0.168405 -0.050493     -0.090203   \n",
       "CP_grade_cov           0.637588  0.245159  0.584812  0.227360      0.351993   \n",
       "CP_Lab_grade_cov       0.580051  0.208721  0.621869  0.248276      0.333191   \n",
       "Final_grade_cov        0.743391  0.322931  0.808881  0.380147      0.545923   \n",
       "Theory_Agg             0.749889  0.351317  0.657244  0.417084      0.562516   \n",
       "\n",
       "                  End_Term_Full     BQuiz  Mid_Term_Agg  End_Term_Agg  \\\n",
       "Mid_Term_Full          0.489262  0.236236      1.000000      0.505925   \n",
       "Quiz1                  0.240368  0.467220      0.242244      0.263306   \n",
       "Lab                    0.561363  0.290501      0.568233      0.583125   \n",
       "SQuiz                  0.313545  0.795184      0.159833      0.317363   \n",
       "End_Term_Mcq           0.422505  0.262108      0.331467      0.576600   \n",
       "End_Term_Full          1.000000  0.328701      0.489286      0.984137   \n",
       "BQuiz                  0.328701  1.000000      0.236204      0.347603   \n",
       "Mid_Term_Agg           0.489286  0.236204      1.000000      0.505938   \n",
       "End_Term_Agg           0.984137  0.347603      0.505938      1.000000   \n",
       "Total_Agg              0.869849  0.472657      0.751015      0.892274   \n",
       "Failed_in_CP          -0.341218 -0.128554     -0.349517     -0.351753   \n",
       "Failed_in_CP_Lab      -0.232326 -0.060534     -0.242199     -0.227071   \n",
       "CP_grade_cov           0.531571  0.263580      0.637586      0.548076   \n",
       "CP_Lab_grade_cov       0.543667  0.289992      0.580010      0.555303   \n",
       "Final_grade_cov        0.850524  0.459042      0.743372      0.873552   \n",
       "Theory_Agg             0.911507  0.501743      0.749893      0.931770   \n",
       "\n",
       "                  Total_Agg  Failed_in_CP  Failed_in_CP_Lab  CP_grade_cov  \\\n",
       "Mid_Term_Full      0.751024     -0.349527         -0.242174      0.637588   \n",
       "Quiz1              0.347854     -0.101679         -0.042078      0.245159   \n",
       "Lab                0.825206     -0.350545         -0.168405      0.584812   \n",
       "SQuiz              0.386768     -0.109063         -0.050493      0.227360   \n",
       "End_Term_Mcq       0.552580     -0.225741         -0.090203      0.351993   \n",
       "End_Term_Full      0.869849     -0.341218         -0.232326      0.531571   \n",
       "BQuiz              0.472657     -0.128554         -0.060534      0.263580   \n",
       "Mid_Term_Agg       0.751015     -0.349517         -0.242199      0.637586   \n",
       "End_Term_Agg       0.892274     -0.351753         -0.227071      0.548076   \n",
       "Total_Agg          1.000000     -0.409345         -0.246471      0.684158   \n",
       "Failed_in_CP      -0.409345      1.000000          0.332322     -0.509334   \n",
       "Failed_in_CP_Lab  -0.246471      0.332322          1.000000     -0.204659   \n",
       "CP_grade_cov       0.684158     -0.509334         -0.204659      1.000000   \n",
       "CP_Lab_grade_cov   0.688200     -0.432842         -0.365217      0.719070   \n",
       "Final_grade_cov    0.981046     -0.405168         -0.238143      0.672864   \n",
       "Theory_Agg         0.968063     -0.390613         -0.254128      0.653324   \n",
       "\n",
       "                  CP_Lab_grade_cov  Final_grade_cov  Theory_Agg  \n",
       "Mid_Term_Full             0.580051         0.743391    0.749889  \n",
       "Quiz1                     0.208721         0.322931    0.351317  \n",
       "Lab                       0.621869         0.808881    0.657244  \n",
       "SQuiz                     0.248276         0.380147    0.417084  \n",
       "End_Term_Mcq              0.333191         0.545923    0.562516  \n",
       "End_Term_Full             0.543667         0.850524    0.911507  \n",
       "BQuiz                     0.289992         0.459042    0.501743  \n",
       "Mid_Term_Agg              0.580010         0.743372    0.749893  \n",
       "End_Term_Agg              0.555303         0.873552    0.931770  \n",
       "Total_Agg                 0.688200         0.981046    0.968063  \n",
       "Failed_in_CP             -0.432842        -0.405168   -0.390613  \n",
       "Failed_in_CP_Lab         -0.365217        -0.238143   -0.254128  \n",
       "CP_grade_cov              0.719070         0.672864    0.653324  \n",
       "CP_Lab_grade_cov          1.000000         0.671835    0.642269  \n",
       "Final_grade_cov           0.671835         1.000000    0.950018  \n",
       "Theory_Agg                0.642269         0.950018    1.000000  "
      ]
     },
     "execution_count": 58,
     "metadata": {},
     "output_type": "execute_result"
    }
   ],
   "source": [
    "final_df.corr()"
   ]
  },
  {
   "cell_type": "markdown",
   "metadata": {},
   "source": [
    "## Making test and cross validation sets"
   ]
  },
  {
   "cell_type": "code",
   "execution_count": 59,
   "metadata": {},
   "outputs": [
    {
     "name": "stdout",
     "output_type": "stream",
     "text": [
      "['Student_Name' 'Mid_Term_Full' 'Quiz1' 'Lab' 'SQuiz' 'End_Term_Mcq'\n",
      " 'End_Term_Full' 'BQuiz' 'Mid_Term_Agg' 'End_Term_Agg' 'Total_Agg' 'Grade'\n",
      " 'CP_Lab_grade' 'CP_grade' 'Branch' 'Failed_in_CP' 'Failed_in_CP_Lab'\n",
      " 'CP_grade_cov' 'CP_Lab_grade_cov' 'Final_grade_cov' 'Theory_Agg']\n"
     ]
    }
   ],
   "source": [
    "print(final_df.columns.values)"
   ]
  },
  {
   "cell_type": "code",
   "execution_count": 60,
   "metadata": {},
   "outputs": [],
   "source": [
    "def convB(a):\n",
    "    if(a==\"UCC\"):\n",
    "        return(4)\n",
    "    elif(a==\"UCS\"):\n",
    "        return(3)\n",
    "    elif(a==\"UME\"):\n",
    "        return(2)\n",
    "    elif(a==\"UEC\"):\n",
    "        return(1)\n",
    "    elif(a==\"DCS\"):\n",
    "        return(5)\n",
    "    else:\n",
    "        return(0)\n",
    "final_df['Branch_cov']=[convB(a) for a in final_df['Branch']]\n"
   ]
  },
  {
   "cell_type": "code",
   "execution_count": 61,
   "metadata": {},
   "outputs": [],
   "source": [
    "Pred_df=final_df[[\"Mid_Term_Agg\",\"End_Term_Agg\",\"Lab\",\"Quiz1\",\"Branch_cov\",\"CP_grade_cov\",\"CP_Lab_grade_cov\",\"Total_Agg\",\"Final_grade_cov\"]]"
   ]
  },
  {
   "cell_type": "code",
   "execution_count": 62,
   "metadata": {},
   "outputs": [
    {
     "data": {
      "text/html": [
       "<div>\n",
       "<style scoped>\n",
       "    .dataframe tbody tr th:only-of-type {\n",
       "        vertical-align: middle;\n",
       "    }\n",
       "\n",
       "    .dataframe tbody tr th {\n",
       "        vertical-align: top;\n",
       "    }\n",
       "\n",
       "    .dataframe thead th {\n",
       "        text-align: right;\n",
       "    }\n",
       "</style>\n",
       "<table border=\"1\" class=\"dataframe\">\n",
       "  <thead>\n",
       "    <tr style=\"text-align: right;\">\n",
       "      <th></th>\n",
       "      <th>Mid_Term_Agg</th>\n",
       "      <th>End_Term_Agg</th>\n",
       "      <th>Lab</th>\n",
       "      <th>Quiz1</th>\n",
       "      <th>Branch_cov</th>\n",
       "      <th>CP_grade_cov</th>\n",
       "      <th>CP_Lab_grade_cov</th>\n",
       "      <th>Total_Agg</th>\n",
       "      <th>Final_grade_cov</th>\n",
       "    </tr>\n",
       "    <tr>\n",
       "      <th>Roll_No</th>\n",
       "      <th></th>\n",
       "      <th></th>\n",
       "      <th></th>\n",
       "      <th></th>\n",
       "      <th></th>\n",
       "      <th></th>\n",
       "      <th></th>\n",
       "      <th></th>\n",
       "      <th></th>\n",
       "    </tr>\n",
       "  </thead>\n",
       "  <tbody>\n",
       "    <tr>\n",
       "      <th>17UCC031</th>\n",
       "      <td>14.58</td>\n",
       "      <td>14.89</td>\n",
       "      <td>13</td>\n",
       "      <td>5.5</td>\n",
       "      <td>4</td>\n",
       "      <td>3</td>\n",
       "      <td>4</td>\n",
       "      <td>47.97</td>\n",
       "      <td>3</td>\n",
       "    </tr>\n",
       "    <tr>\n",
       "      <th>17UCS001</th>\n",
       "      <td>7.92</td>\n",
       "      <td>14.67</td>\n",
       "      <td>8</td>\n",
       "      <td>5.5</td>\n",
       "      <td>3</td>\n",
       "      <td>1</td>\n",
       "      <td>3</td>\n",
       "      <td>36.08</td>\n",
       "      <td>1</td>\n",
       "    </tr>\n",
       "    <tr>\n",
       "      <th>17UCS002</th>\n",
       "      <td>18.75</td>\n",
       "      <td>28.44</td>\n",
       "      <td>21</td>\n",
       "      <td>5.5</td>\n",
       "      <td>3</td>\n",
       "      <td>6</td>\n",
       "      <td>7</td>\n",
       "      <td>78.19</td>\n",
       "      <td>7</td>\n",
       "    </tr>\n",
       "    <tr>\n",
       "      <th>17UCS003</th>\n",
       "      <td>16.25</td>\n",
       "      <td>22.11</td>\n",
       "      <td>20</td>\n",
       "      <td>7.0</td>\n",
       "      <td>3</td>\n",
       "      <td>5</td>\n",
       "      <td>6</td>\n",
       "      <td>65.36</td>\n",
       "      <td>5</td>\n",
       "    </tr>\n",
       "    <tr>\n",
       "      <th>17UCS004</th>\n",
       "      <td>4.17</td>\n",
       "      <td>5.33</td>\n",
       "      <td>6</td>\n",
       "      <td>5.0</td>\n",
       "      <td>3</td>\n",
       "      <td>0</td>\n",
       "      <td>1</td>\n",
       "      <td>20.50</td>\n",
       "      <td>0</td>\n",
       "    </tr>\n",
       "  </tbody>\n",
       "</table>\n",
       "</div>"
      ],
      "text/plain": [
       "          Mid_Term_Agg  End_Term_Agg  Lab  Quiz1  Branch_cov  CP_grade_cov  \\\n",
       "Roll_No                                                                      \n",
       "17UCC031         14.58         14.89   13    5.5           4             3   \n",
       "17UCS001          7.92         14.67    8    5.5           3             1   \n",
       "17UCS002         18.75         28.44   21    5.5           3             6   \n",
       "17UCS003         16.25         22.11   20    7.0           3             5   \n",
       "17UCS004          4.17          5.33    6    5.0           3             0   \n",
       "\n",
       "          CP_Lab_grade_cov  Total_Agg  Final_grade_cov  \n",
       "Roll_No                                                 \n",
       "17UCC031                 4      47.97                3  \n",
       "17UCS001                 3      36.08                1  \n",
       "17UCS002                 7      78.19                7  \n",
       "17UCS003                 6      65.36                5  \n",
       "17UCS004                 1      20.50                0  "
      ]
     },
     "execution_count": 62,
     "metadata": {},
     "output_type": "execute_result"
    }
   ],
   "source": [
    "Pred_df.head()"
   ]
  },
  {
   "cell_type": "markdown",
   "metadata": {},
   "source": [
    "## We have to do feature scaling for better prediction"
   ]
  },
  {
   "cell_type": "markdown",
   "metadata": {},
   "source": [
    "## we have to do stratifiedsufflesplit to protect our prediction from sampling bias"
   ]
  },
  {
   "cell_type": "code",
   "execution_count": 63,
   "metadata": {},
   "outputs": [],
   "source": [
    "from sklearn.model_selection import StratifiedShuffleSplit"
   ]
  },
  {
   "cell_type": "code",
   "execution_count": 64,
   "metadata": {},
   "outputs": [],
   "source": [
    "from sklearn.model_selection import train_test_split\n",
    "train_set, test_set = train_test_split(Pred_df, test_size=0.2, random_state=42)"
   ]
  },
  {
   "cell_type": "code",
   "execution_count": 65,
   "metadata": {},
   "outputs": [
    {
     "data": {
      "text/html": [
       "<div>\n",
       "<style scoped>\n",
       "    .dataframe tbody tr th:only-of-type {\n",
       "        vertical-align: middle;\n",
       "    }\n",
       "\n",
       "    .dataframe tbody tr th {\n",
       "        vertical-align: top;\n",
       "    }\n",
       "\n",
       "    .dataframe thead th {\n",
       "        text-align: right;\n",
       "    }\n",
       "</style>\n",
       "<table border=\"1\" class=\"dataframe\">\n",
       "  <thead>\n",
       "    <tr style=\"text-align: right;\">\n",
       "      <th></th>\n",
       "      <th>Mid_Term_Agg</th>\n",
       "      <th>End_Term_Agg</th>\n",
       "      <th>Lab</th>\n",
       "      <th>Quiz1</th>\n",
       "      <th>Branch_cov</th>\n",
       "      <th>CP_grade_cov</th>\n",
       "      <th>CP_Lab_grade_cov</th>\n",
       "      <th>Total_Agg</th>\n",
       "      <th>Final_grade_cov</th>\n",
       "    </tr>\n",
       "    <tr>\n",
       "      <th>Roll_No</th>\n",
       "      <th></th>\n",
       "      <th></th>\n",
       "      <th></th>\n",
       "      <th></th>\n",
       "      <th></th>\n",
       "      <th></th>\n",
       "      <th></th>\n",
       "      <th></th>\n",
       "      <th></th>\n",
       "    </tr>\n",
       "  </thead>\n",
       "  <tbody>\n",
       "    <tr>\n",
       "      <th>17UCS139</th>\n",
       "      <td>7.92</td>\n",
       "      <td>8.22</td>\n",
       "      <td>7</td>\n",
       "      <td>4.5</td>\n",
       "      <td>3</td>\n",
       "      <td>0</td>\n",
       "      <td>1</td>\n",
       "      <td>27.64</td>\n",
       "      <td>0</td>\n",
       "    </tr>\n",
       "    <tr>\n",
       "      <th>17UCS022</th>\n",
       "      <td>11.25</td>\n",
       "      <td>0.00</td>\n",
       "      <td>15</td>\n",
       "      <td>5.5</td>\n",
       "      <td>3</td>\n",
       "      <td>2</td>\n",
       "      <td>6</td>\n",
       "      <td>36.25</td>\n",
       "      <td>1</td>\n",
       "    </tr>\n",
       "    <tr>\n",
       "      <th>17UCS141</th>\n",
       "      <td>15.00</td>\n",
       "      <td>19.33</td>\n",
       "      <td>11</td>\n",
       "      <td>6.5</td>\n",
       "      <td>3</td>\n",
       "      <td>4</td>\n",
       "      <td>4</td>\n",
       "      <td>51.83</td>\n",
       "      <td>3</td>\n",
       "    </tr>\n",
       "    <tr>\n",
       "      <th>17UCS046</th>\n",
       "      <td>6.25</td>\n",
       "      <td>9.78</td>\n",
       "      <td>10</td>\n",
       "      <td>6.0</td>\n",
       "      <td>3</td>\n",
       "      <td>3</td>\n",
       "      <td>1</td>\n",
       "      <td>32.03</td>\n",
       "      <td>1</td>\n",
       "    </tr>\n",
       "    <tr>\n",
       "      <th>17UME056</th>\n",
       "      <td>7.92</td>\n",
       "      <td>20.00</td>\n",
       "      <td>16</td>\n",
       "      <td>4.0</td>\n",
       "      <td>2</td>\n",
       "      <td>1</td>\n",
       "      <td>4</td>\n",
       "      <td>47.92</td>\n",
       "      <td>3</td>\n",
       "    </tr>\n",
       "  </tbody>\n",
       "</table>\n",
       "</div>"
      ],
      "text/plain": [
       "          Mid_Term_Agg  End_Term_Agg  Lab  Quiz1  Branch_cov  CP_grade_cov  \\\n",
       "Roll_No                                                                      \n",
       "17UCS139          7.92          8.22    7    4.5           3             0   \n",
       "17UCS022         11.25          0.00   15    5.5           3             2   \n",
       "17UCS141         15.00         19.33   11    6.5           3             4   \n",
       "17UCS046          6.25          9.78   10    6.0           3             3   \n",
       "17UME056          7.92         20.00   16    4.0           2             1   \n",
       "\n",
       "          CP_Lab_grade_cov  Total_Agg  Final_grade_cov  \n",
       "Roll_No                                                 \n",
       "17UCS139                 1      27.64                0  \n",
       "17UCS022                 6      36.25                1  \n",
       "17UCS141                 4      51.83                3  \n",
       "17UCS046                 1      32.03                1  \n",
       "17UME056                 4      47.92                3  "
      ]
     },
     "execution_count": 65,
     "metadata": {},
     "output_type": "execute_result"
    }
   ],
   "source": [
    "train_set.head()"
   ]
  },
  {
   "cell_type": "code",
   "execution_count": 66,
   "metadata": {},
   "outputs": [
    {
     "data": {
      "text/plain": [
       "Final_grade_cov     1.000000\n",
       "Total_Agg           0.981046\n",
       "End_Term_Agg        0.873552\n",
       "Lab                 0.808881\n",
       "Mid_Term_Agg        0.743372\n",
       "CP_grade_cov        0.672864\n",
       "CP_Lab_grade_cov    0.671835\n",
       "Quiz1               0.322931\n",
       "Branch_cov          0.160819\n",
       "Name: Final_grade_cov, dtype: float64"
      ]
     },
     "execution_count": 66,
     "metadata": {},
     "output_type": "execute_result"
    }
   ],
   "source": [
    "corr_matrix = Pred_df.corr()\n",
    "corr_matrix[\"Final_grade_cov\"].sort_values(ascending=False)"
   ]
  },
  {
   "cell_type": "code",
   "execution_count": 67,
   "metadata": {},
   "outputs": [
    {
     "data": {
      "text/html": [
       "<div>\n",
       "<style scoped>\n",
       "    .dataframe tbody tr th:only-of-type {\n",
       "        vertical-align: middle;\n",
       "    }\n",
       "\n",
       "    .dataframe tbody tr th {\n",
       "        vertical-align: top;\n",
       "    }\n",
       "\n",
       "    .dataframe thead th {\n",
       "        text-align: right;\n",
       "    }\n",
       "</style>\n",
       "<table border=\"1\" class=\"dataframe\">\n",
       "  <thead>\n",
       "    <tr style=\"text-align: right;\">\n",
       "      <th></th>\n",
       "      <th>Mid_Term_Agg</th>\n",
       "      <th>Lab</th>\n",
       "      <th>Quiz1</th>\n",
       "      <th>Branch_cov</th>\n",
       "      <th>CP_grade_cov</th>\n",
       "      <th>CP_Lab_grade_cov</th>\n",
       "    </tr>\n",
       "    <tr>\n",
       "      <th>Roll_No</th>\n",
       "      <th></th>\n",
       "      <th></th>\n",
       "      <th></th>\n",
       "      <th></th>\n",
       "      <th></th>\n",
       "      <th></th>\n",
       "    </tr>\n",
       "  </thead>\n",
       "  <tbody>\n",
       "    <tr>\n",
       "      <th>17UCS139</th>\n",
       "      <td>7.92</td>\n",
       "      <td>7</td>\n",
       "      <td>4.5</td>\n",
       "      <td>3</td>\n",
       "      <td>0</td>\n",
       "      <td>1</td>\n",
       "    </tr>\n",
       "    <tr>\n",
       "      <th>17UCS022</th>\n",
       "      <td>11.25</td>\n",
       "      <td>15</td>\n",
       "      <td>5.5</td>\n",
       "      <td>3</td>\n",
       "      <td>2</td>\n",
       "      <td>6</td>\n",
       "    </tr>\n",
       "    <tr>\n",
       "      <th>17UCS141</th>\n",
       "      <td>15.00</td>\n",
       "      <td>11</td>\n",
       "      <td>6.5</td>\n",
       "      <td>3</td>\n",
       "      <td>4</td>\n",
       "      <td>4</td>\n",
       "    </tr>\n",
       "    <tr>\n",
       "      <th>17UCS046</th>\n",
       "      <td>6.25</td>\n",
       "      <td>10</td>\n",
       "      <td>6.0</td>\n",
       "      <td>3</td>\n",
       "      <td>3</td>\n",
       "      <td>1</td>\n",
       "    </tr>\n",
       "    <tr>\n",
       "      <th>17UME056</th>\n",
       "      <td>7.92</td>\n",
       "      <td>16</td>\n",
       "      <td>4.0</td>\n",
       "      <td>2</td>\n",
       "      <td>1</td>\n",
       "      <td>4</td>\n",
       "    </tr>\n",
       "  </tbody>\n",
       "</table>\n",
       "</div>"
      ],
      "text/plain": [
       "          Mid_Term_Agg  Lab  Quiz1  Branch_cov  CP_grade_cov  CP_Lab_grade_cov\n",
       "Roll_No                                                                       \n",
       "17UCS139          7.92    7    4.5           3             0                 1\n",
       "17UCS022         11.25   15    5.5           3             2                 6\n",
       "17UCS141         15.00   11    6.5           3             4                 4\n",
       "17UCS046          6.25   10    6.0           3             3                 1\n",
       "17UME056          7.92   16    4.0           2             1                 4"
      ]
     },
     "execution_count": 67,
     "metadata": {},
     "output_type": "execute_result"
    }
   ],
   "source": [
    "Train_X=train_set.drop([\"End_Term_Agg\",\"Final_grade_cov\",\"Total_Agg\"],axis=1)\n",
    "Train_X.head()"
   ]
  },
  {
   "cell_type": "code",
   "execution_count": 68,
   "metadata": {},
   "outputs": [],
   "source": [
    "Train_Y_Mark = train_set[\"End_Term_Agg\"].copy()"
   ]
  },
  {
   "cell_type": "code",
   "execution_count": 69,
   "metadata": {},
   "outputs": [],
   "source": [
    "Train_Y_FMark = train_set[\"Total_Agg\"].copy()"
   ]
  },
  {
   "cell_type": "code",
   "execution_count": 70,
   "metadata": {},
   "outputs": [],
   "source": [
    "Train_Y = train_set[\"Final_grade_cov\"].copy()"
   ]
  },
  {
   "cell_type": "markdown",
   "metadata": {},
   "source": [
    "## Finally we are ready to do the prediction"
   ]
  },
  {
   "cell_type": "code",
   "execution_count": 71,
   "metadata": {},
   "outputs": [],
   "source": [
    "from sklearn.linear_model import LinearRegression\n",
    "lin_reg = LinearRegression()"
   ]
  },
  {
   "cell_type": "code",
   "execution_count": 72,
   "metadata": {},
   "outputs": [
    {
     "data": {
      "text/plain": [
       "LinearRegression(copy_X=True, fit_intercept=True, n_jobs=1, normalize=False)"
      ]
     },
     "execution_count": 72,
     "metadata": {},
     "output_type": "execute_result"
    }
   ],
   "source": [
    "lin_reg.fit(Train_X,Train_Y)"
   ]
  },
  {
   "cell_type": "code",
   "execution_count": 73,
   "metadata": {},
   "outputs": [
    {
     "name": "stdout",
     "output_type": "stream",
     "text": [
      "Predictions:\t [2.92401486 5.77424377 3.82479407 3.86852632 2.83276774 4.08098065\n",
      " 3.66018482 3.84355186]\n"
     ]
    }
   ],
   "source": [
    "some_data = Train_X.iloc[6:14]\n",
    "some_labels = Train_Y.iloc[6:14]\n",
    "print(\"Predictions:\\t\",lin_reg.predict(some_data))"
   ]
  },
  {
   "cell_type": "code",
   "execution_count": 74,
   "metadata": {},
   "outputs": [
    {
     "name": "stdout",
     "output_type": "stream",
     "text": [
      "Labels\t\t [4, 6, 4, 2, 3, 4, 2, 4]\n"
     ]
    }
   ],
   "source": [
    "print(\"Labels\\t\\t\",list(some_labels))"
   ]
  },
  {
   "cell_type": "code",
   "execution_count": 75,
   "metadata": {},
   "outputs": [
    {
     "data": {
      "text/html": [
       "<div>\n",
       "<style scoped>\n",
       "    .dataframe tbody tr th:only-of-type {\n",
       "        vertical-align: middle;\n",
       "    }\n",
       "\n",
       "    .dataframe tbody tr th {\n",
       "        vertical-align: top;\n",
       "    }\n",
       "\n",
       "    .dataframe thead th {\n",
       "        text-align: right;\n",
       "    }\n",
       "</style>\n",
       "<table border=\"1\" class=\"dataframe\">\n",
       "  <thead>\n",
       "    <tr style=\"text-align: right;\">\n",
       "      <th></th>\n",
       "      <th>Mid_Term_Agg</th>\n",
       "      <th>Lab</th>\n",
       "      <th>Quiz1</th>\n",
       "      <th>Branch_cov</th>\n",
       "      <th>CP_grade_cov</th>\n",
       "      <th>CP_Lab_grade_cov</th>\n",
       "    </tr>\n",
       "    <tr>\n",
       "      <th>Roll_No</th>\n",
       "      <th></th>\n",
       "      <th></th>\n",
       "      <th></th>\n",
       "      <th></th>\n",
       "      <th></th>\n",
       "      <th></th>\n",
       "    </tr>\n",
       "  </thead>\n",
       "  <tbody>\n",
       "    <tr>\n",
       "      <th>17UCS139</th>\n",
       "      <td>7.92</td>\n",
       "      <td>7</td>\n",
       "      <td>4.5</td>\n",
       "      <td>3</td>\n",
       "      <td>0</td>\n",
       "      <td>1</td>\n",
       "    </tr>\n",
       "    <tr>\n",
       "      <th>17UCS022</th>\n",
       "      <td>11.25</td>\n",
       "      <td>15</td>\n",
       "      <td>5.5</td>\n",
       "      <td>3</td>\n",
       "      <td>2</td>\n",
       "      <td>6</td>\n",
       "    </tr>\n",
       "    <tr>\n",
       "      <th>17UCS141</th>\n",
       "      <td>15.00</td>\n",
       "      <td>11</td>\n",
       "      <td>6.5</td>\n",
       "      <td>3</td>\n",
       "      <td>4</td>\n",
       "      <td>4</td>\n",
       "    </tr>\n",
       "    <tr>\n",
       "      <th>17UCS046</th>\n",
       "      <td>6.25</td>\n",
       "      <td>10</td>\n",
       "      <td>6.0</td>\n",
       "      <td>3</td>\n",
       "      <td>3</td>\n",
       "      <td>1</td>\n",
       "    </tr>\n",
       "    <tr>\n",
       "      <th>17UME056</th>\n",
       "      <td>7.92</td>\n",
       "      <td>16</td>\n",
       "      <td>4.0</td>\n",
       "      <td>2</td>\n",
       "      <td>1</td>\n",
       "      <td>4</td>\n",
       "    </tr>\n",
       "  </tbody>\n",
       "</table>\n",
       "</div>"
      ],
      "text/plain": [
       "          Mid_Term_Agg  Lab  Quiz1  Branch_cov  CP_grade_cov  CP_Lab_grade_cov\n",
       "Roll_No                                                                       \n",
       "17UCS139          7.92    7    4.5           3             0                 1\n",
       "17UCS022         11.25   15    5.5           3             2                 6\n",
       "17UCS141         15.00   11    6.5           3             4                 4\n",
       "17UCS046          6.25   10    6.0           3             3                 1\n",
       "17UME056          7.92   16    4.0           2             1                 4"
      ]
     },
     "execution_count": 75,
     "metadata": {},
     "output_type": "execute_result"
    }
   ],
   "source": [
    "Train_X.head()"
   ]
  },
  {
   "cell_type": "code",
   "execution_count": 76,
   "metadata": {},
   "outputs": [
    {
     "data": {
      "text/plain": [
       "0.7634791113450162"
      ]
     },
     "execution_count": 76,
     "metadata": {},
     "output_type": "execute_result"
    }
   ],
   "source": [
    "Test_X=test_set.drop([\"End_Term_Agg\",\"Final_grade_cov\",\"Total_Agg\"],axis=1)\n",
    "Test_Y=test_set[\"Final_grade_cov\"].copy()\n",
    "\n",
    "from sklearn.metrics import mean_squared_error\n",
    "Grade_predictions = lin_reg.predict(Test_X)\n",
    "lin_mse = mean_squared_error(Test_Y, Grade_predictions)\n",
    "lin_rmse = np.sqrt(lin_mse)\n",
    "lin_rmse"
   ]
  },
  {
   "cell_type": "code",
   "execution_count": 77,
   "metadata": {},
   "outputs": [
    {
     "data": {
      "text/html": [
       "<div>\n",
       "<style scoped>\n",
       "    .dataframe tbody tr th:only-of-type {\n",
       "        vertical-align: middle;\n",
       "    }\n",
       "\n",
       "    .dataframe tbody tr th {\n",
       "        vertical-align: top;\n",
       "    }\n",
       "\n",
       "    .dataframe thead th {\n",
       "        text-align: right;\n",
       "    }\n",
       "</style>\n",
       "<table border=\"1\" class=\"dataframe\">\n",
       "  <thead>\n",
       "    <tr style=\"text-align: right;\">\n",
       "      <th></th>\n",
       "      <th>Mid_Term_Agg</th>\n",
       "      <th>Lab</th>\n",
       "      <th>Quiz1</th>\n",
       "      <th>Branch_cov</th>\n",
       "      <th>CP_grade_cov</th>\n",
       "      <th>CP_Lab_grade_cov</th>\n",
       "    </tr>\n",
       "    <tr>\n",
       "      <th>Roll_No</th>\n",
       "      <th></th>\n",
       "      <th></th>\n",
       "      <th></th>\n",
       "      <th></th>\n",
       "      <th></th>\n",
       "      <th></th>\n",
       "    </tr>\n",
       "  </thead>\n",
       "  <tbody>\n",
       "    <tr>\n",
       "      <th>17UCS124</th>\n",
       "      <td>10.00</td>\n",
       "      <td>11</td>\n",
       "      <td>8.0</td>\n",
       "      <td>3</td>\n",
       "      <td>3</td>\n",
       "      <td>3</td>\n",
       "    </tr>\n",
       "    <tr>\n",
       "      <th>17UCC020</th>\n",
       "      <td>15.00</td>\n",
       "      <td>22</td>\n",
       "      <td>7.5</td>\n",
       "      <td>4</td>\n",
       "      <td>3</td>\n",
       "      <td>6</td>\n",
       "    </tr>\n",
       "    <tr>\n",
       "      <th>17UCS058</th>\n",
       "      <td>11.25</td>\n",
       "      <td>16</td>\n",
       "      <td>6.5</td>\n",
       "      <td>3</td>\n",
       "      <td>2</td>\n",
       "      <td>4</td>\n",
       "    </tr>\n",
       "    <tr>\n",
       "      <th>17UEC073</th>\n",
       "      <td>10.83</td>\n",
       "      <td>16</td>\n",
       "      <td>5.0</td>\n",
       "      <td>1</td>\n",
       "      <td>3</td>\n",
       "      <td>6</td>\n",
       "    </tr>\n",
       "    <tr>\n",
       "      <th>17UME044</th>\n",
       "      <td>9.17</td>\n",
       "      <td>12</td>\n",
       "      <td>6.5</td>\n",
       "      <td>2</td>\n",
       "      <td>3</td>\n",
       "      <td>3</td>\n",
       "    </tr>\n",
       "    <tr>\n",
       "      <th>17UCC045</th>\n",
       "      <td>17.08</td>\n",
       "      <td>12</td>\n",
       "      <td>5.0</td>\n",
       "      <td>4</td>\n",
       "      <td>2</td>\n",
       "      <td>7</td>\n",
       "    </tr>\n",
       "    <tr>\n",
       "      <th>17UCS024</th>\n",
       "      <td>14.58</td>\n",
       "      <td>11</td>\n",
       "      <td>7.0</td>\n",
       "      <td>3</td>\n",
       "      <td>3</td>\n",
       "      <td>5</td>\n",
       "    </tr>\n",
       "    <tr>\n",
       "      <th>17UCS017</th>\n",
       "      <td>10.83</td>\n",
       "      <td>16</td>\n",
       "      <td>5.5</td>\n",
       "      <td>3</td>\n",
       "      <td>3</td>\n",
       "      <td>5</td>\n",
       "    </tr>\n",
       "  </tbody>\n",
       "</table>\n",
       "</div>"
      ],
      "text/plain": [
       "          Mid_Term_Agg  Lab  Quiz1  Branch_cov  CP_grade_cov  CP_Lab_grade_cov\n",
       "Roll_No                                                                       \n",
       "17UCS124         10.00   11    8.0           3             3                 3\n",
       "17UCC020         15.00   22    7.5           4             3                 6\n",
       "17UCS058         11.25   16    6.5           3             2                 4\n",
       "17UEC073         10.83   16    5.0           1             3                 6\n",
       "17UME044          9.17   12    6.5           2             3                 3\n",
       "17UCC045         17.08   12    5.0           4             2                 7\n",
       "17UCS024         14.58   11    7.0           3             3                 5\n",
       "17UCS017         10.83   16    5.5           3             3                 5"
      ]
     },
     "execution_count": 77,
     "metadata": {},
     "output_type": "execute_result"
    }
   ],
   "source": [
    "#np.round(lin_reg.predict([[25,25,10,4,7,7]]))\n",
    "some_data"
   ]
  },
  {
   "cell_type": "markdown",
   "metadata": {},
   "source": [
    "## We can see error is very less as we have did proper research before applying model"
   ]
  },
  {
   "cell_type": "markdown",
   "metadata": {},
   "source": [
    "# Applying differnt models"
   ]
  },
  {
   "cell_type": "code",
   "execution_count": 78,
   "metadata": {},
   "outputs": [
    {
     "data": {
      "text/plain": [
       "DecisionTreeRegressor(criterion='mse', max_depth=None, max_features=None,\n",
       "           max_leaf_nodes=None, min_impurity_decrease=0.0,\n",
       "           min_impurity_split=None, min_samples_leaf=1,\n",
       "           min_samples_split=2, min_weight_fraction_leaf=0.0,\n",
       "           presort=False, random_state=None, splitter='best')"
      ]
     },
     "execution_count": 78,
     "metadata": {},
     "output_type": "execute_result"
    }
   ],
   "source": [
    "from sklearn.tree import DecisionTreeRegressor\n",
    "tree_reg = DecisionTreeRegressor()\n",
    "tree_reg.fit(Train_X,Train_Y)"
   ]
  },
  {
   "cell_type": "code",
   "execution_count": 79,
   "metadata": {},
   "outputs": [
    {
     "data": {
      "text/plain": [
       "1.1285761872936695"
      ]
     },
     "execution_count": 79,
     "metadata": {},
     "output_type": "execute_result"
    }
   ],
   "source": [
    "Grade_predictions = tree_reg.predict(Test_X)\n",
    "tree_mse = mean_squared_error(Test_Y, Grade_predictions)\n",
    "tree_rmse = np.sqrt(tree_mse)\n",
    "tree_rmse"
   ]
  },
  {
   "cell_type": "code",
   "execution_count": 80,
   "metadata": {},
   "outputs": [
    {
     "data": {
      "text/plain": [
       "1.1148271720325926"
      ]
     },
     "execution_count": 80,
     "metadata": {},
     "output_type": "execute_result"
    }
   ],
   "source": [
    "#error is more than our previous model may be this is because overfitting\n",
    "#we can use cross validation to avoid overfitting\n",
    "from sklearn.model_selection import cross_val_score\n",
    "scores = cross_val_score(tree_reg, Train_X, Train_Y, scoring=\"neg_mean_squared_error\", cv=10)\n",
    "rmse_scores = np.sqrt(-scores)\n",
    "rmse_scores.mean()"
   ]
  },
  {
   "cell_type": "code",
   "execution_count": 81,
   "metadata": {},
   "outputs": [
    {
     "data": {
      "text/plain": [
       "0.7582927245595359"
      ]
     },
     "execution_count": 81,
     "metadata": {},
     "output_type": "execute_result"
    }
   ],
   "source": [
    "#error is slighly less\n",
    "#we do cross validation on our previous model\n",
    "lin_scores = cross_val_score(lin_reg, Train_X, Train_Y,scoring=\"neg_mean_squared_error\", cv=10)\n",
    "lin_rmse_scores = np.sqrt(-lin_scores)\n",
    "lin_rmse_scores.mean()"
   ]
  },
  {
   "cell_type": "markdown",
   "metadata": {},
   "source": [
    " error is slightly less than before"
   ]
  },
  {
   "cell_type": "code",
   "execution_count": 82,
   "metadata": {},
   "outputs": [
    {
     "data": {
      "text/plain": [
       "RandomForestRegressor(bootstrap=True, criterion='mse', max_depth=None,\n",
       "           max_features='auto', max_leaf_nodes=None,\n",
       "           min_impurity_decrease=0.0, min_impurity_split=None,\n",
       "           min_samples_leaf=1, min_samples_split=2,\n",
       "           min_weight_fraction_leaf=0.0, n_estimators=10, n_jobs=1,\n",
       "           oob_score=False, random_state=None, verbose=0, warm_start=False)"
      ]
     },
     "execution_count": 82,
     "metadata": {},
     "output_type": "execute_result"
    }
   ],
   "source": [
    "from sklearn.ensemble import RandomForestRegressor\n",
    "forest_reg = RandomForestRegressor()\n",
    "forest_reg.fit(Train_X,Train_Y)"
   ]
  },
  {
   "cell_type": "code",
   "execution_count": 83,
   "metadata": {},
   "outputs": [
    {
     "data": {
      "text/plain": [
       "0.83096420064084"
      ]
     },
     "execution_count": 83,
     "metadata": {},
     "output_type": "execute_result"
    }
   ],
   "source": [
    "scores = cross_val_score(forest_reg, Train_X, Train_Y, scoring=\"neg_mean_squared_error\", cv=10)\n",
    "rmse_scores = np.sqrt(-scores)\n",
    "rmse_scores.mean()"
   ]
  },
  {
   "cell_type": "code",
   "execution_count": 84,
   "metadata": {},
   "outputs": [
    {
     "data": {
      "text/plain": [
       "SVR(C=1.0, cache_size=200, coef0=0.0, degree=3, epsilon=0.2, gamma='auto',\n",
       "  kernel='rbf', max_iter=-1, shrinking=True, tol=0.001, verbose=False)"
      ]
     },
     "execution_count": 84,
     "metadata": {},
     "output_type": "execute_result"
    }
   ],
   "source": [
    "#error is more than the linear regression\n",
    "#it is time to try a new model of svm regressor\n",
    "from sklearn.svm import SVR\n",
    "svm_reg=SVR(C=1.0,epsilon=0.2)\n",
    "svm_reg.fit(Train_X,Train_Y)"
   ]
  },
  {
   "cell_type": "code",
   "execution_count": 85,
   "metadata": {},
   "outputs": [
    {
     "data": {
      "text/plain": [
       "1.0838206252263058"
      ]
     },
     "execution_count": 85,
     "metadata": {},
     "output_type": "execute_result"
    }
   ],
   "source": [
    "scores = cross_val_score(svm_reg, Train_X, Train_Y, scoring=\"neg_mean_squared_error\", cv=10)\n",
    "rmse_scores = np.sqrt(-scores)\n",
    "rmse_scores.mean()"
   ]
  },
  {
   "cell_type": "code",
   "execution_count": 86,
   "metadata": {},
   "outputs": [
    {
     "data": {
      "text/plain": [
       "0.9574994752478193"
      ]
     },
     "execution_count": 86,
     "metadata": {},
     "output_type": "execute_result"
    }
   ],
   "source": [
    "#it also has more error than svm calssifier than do the final test on the test set\n",
    "Grade_predictions = svm_reg.predict(Test_X)\n",
    "svm_mse = mean_squared_error(Test_Y, Grade_predictions)\n",
    "svm_rmse = np.sqrt(svm_mse)\n",
    "svm_rmse"
   ]
  },
  {
   "cell_type": "code",
   "execution_count": 87,
   "metadata": {},
   "outputs": [
    {
     "data": {
      "text/plain": [
       "0.9047826141938009"
      ]
     },
     "execution_count": 87,
     "metadata": {},
     "output_type": "execute_result"
    }
   ],
   "source": [
    "Grade_predictions = forest_reg.predict(Test_X)\n",
    "forest_mse = mean_squared_error(Test_Y, Grade_predictions)\n",
    "forest_rmse = np.sqrt(forest_mse)\n",
    "forest_rmse"
   ]
  },
  {
   "cell_type": "markdown",
   "metadata": {},
   "source": [
    "# At the final we decided that Linear regerssion is the best model"
   ]
  },
  {
   "cell_type": "code",
   "execution_count": 88,
   "metadata": {},
   "outputs": [],
   "source": [
    "#######################Anubhav Natani###########3"
   ]
  },
  {
   "cell_type": "markdown",
   "metadata": {},
   "source": [
    "## Many things are not in this notebook which will be there in the final notebook\n",
    "## Piplines \n",
    "## one hot encoding \n",
    "## nureal network regressor\n",
    "## Ensemble regressor\n",
    "## more features\n",
    "## fine tuning model\n",
    "## And Other things\n",
    "\n"
   ]
  },
  {
   "cell_type": "code",
   "execution_count": 89,
   "metadata": {},
   "outputs": [
    {
     "data": {
      "text/html": [
       "<div>\n",
       "<style scoped>\n",
       "    .dataframe tbody tr th:only-of-type {\n",
       "        vertical-align: middle;\n",
       "    }\n",
       "\n",
       "    .dataframe tbody tr th {\n",
       "        vertical-align: top;\n",
       "    }\n",
       "\n",
       "    .dataframe thead th {\n",
       "        text-align: right;\n",
       "    }\n",
       "</style>\n",
       "<table border=\"1\" class=\"dataframe\">\n",
       "  <thead>\n",
       "    <tr style=\"text-align: right;\">\n",
       "      <th></th>\n",
       "      <th>Mid_Term_Agg</th>\n",
       "      <th>Lab</th>\n",
       "      <th>Quiz1</th>\n",
       "      <th>Branch_cov</th>\n",
       "      <th>CP_grade_cov</th>\n",
       "      <th>CP_Lab_grade_cov</th>\n",
       "    </tr>\n",
       "    <tr>\n",
       "      <th>Roll_No</th>\n",
       "      <th></th>\n",
       "      <th></th>\n",
       "      <th></th>\n",
       "      <th></th>\n",
       "      <th></th>\n",
       "      <th></th>\n",
       "    </tr>\n",
       "  </thead>\n",
       "  <tbody>\n",
       "    <tr>\n",
       "      <th>17UCS139</th>\n",
       "      <td>7.92</td>\n",
       "      <td>7</td>\n",
       "      <td>4.5</td>\n",
       "      <td>3</td>\n",
       "      <td>0</td>\n",
       "      <td>1</td>\n",
       "    </tr>\n",
       "    <tr>\n",
       "      <th>17UCS022</th>\n",
       "      <td>11.25</td>\n",
       "      <td>15</td>\n",
       "      <td>5.5</td>\n",
       "      <td>3</td>\n",
       "      <td>2</td>\n",
       "      <td>6</td>\n",
       "    </tr>\n",
       "    <tr>\n",
       "      <th>17UCS141</th>\n",
       "      <td>15.00</td>\n",
       "      <td>11</td>\n",
       "      <td>6.5</td>\n",
       "      <td>3</td>\n",
       "      <td>4</td>\n",
       "      <td>4</td>\n",
       "    </tr>\n",
       "    <tr>\n",
       "      <th>17UCS046</th>\n",
       "      <td>6.25</td>\n",
       "      <td>10</td>\n",
       "      <td>6.0</td>\n",
       "      <td>3</td>\n",
       "      <td>3</td>\n",
       "      <td>1</td>\n",
       "    </tr>\n",
       "    <tr>\n",
       "      <th>17UME056</th>\n",
       "      <td>7.92</td>\n",
       "      <td>16</td>\n",
       "      <td>4.0</td>\n",
       "      <td>2</td>\n",
       "      <td>1</td>\n",
       "      <td>4</td>\n",
       "    </tr>\n",
       "  </tbody>\n",
       "</table>\n",
       "</div>"
      ],
      "text/plain": [
       "          Mid_Term_Agg  Lab  Quiz1  Branch_cov  CP_grade_cov  CP_Lab_grade_cov\n",
       "Roll_No                                                                       \n",
       "17UCS139          7.92    7    4.5           3             0                 1\n",
       "17UCS022         11.25   15    5.5           3             2                 6\n",
       "17UCS141         15.00   11    6.5           3             4                 4\n",
       "17UCS046          6.25   10    6.0           3             3                 1\n",
       "17UME056          7.92   16    4.0           2             1                 4"
      ]
     },
     "execution_count": 89,
     "metadata": {},
     "output_type": "execute_result"
    }
   ],
   "source": [
    "Train_X.head()"
   ]
  },
  {
   "cell_type": "code",
   "execution_count": 90,
   "metadata": {},
   "outputs": [
    {
     "data": {
      "text/plain": [
       "Roll_No\n",
       "17UCS139    0\n",
       "17UCS022    1\n",
       "17UCS141    3\n",
       "17UCS046    1\n",
       "17UME056    3\n",
       "Name: Final_grade_cov, dtype: int64"
      ]
     },
     "execution_count": 90,
     "metadata": {},
     "output_type": "execute_result"
    }
   ],
   "source": [
    "Train_Y.head()"
   ]
  },
  {
   "cell_type": "code",
   "execution_count": 91,
   "metadata": {},
   "outputs": [],
   "source": [
    "Train_X.to_csv('train.csv',index=\"False\")"
   ]
  },
  {
   "cell_type": "code",
   "execution_count": 92,
   "metadata": {},
   "outputs": [
    {
     "data": {
      "text/html": [
       "<div>\n",
       "<style scoped>\n",
       "    .dataframe tbody tr th:only-of-type {\n",
       "        vertical-align: middle;\n",
       "    }\n",
       "\n",
       "    .dataframe tbody tr th {\n",
       "        vertical-align: top;\n",
       "    }\n",
       "\n",
       "    .dataframe thead th {\n",
       "        text-align: right;\n",
       "    }\n",
       "</style>\n",
       "<table border=\"1\" class=\"dataframe\">\n",
       "  <thead>\n",
       "    <tr style=\"text-align: right;\">\n",
       "      <th></th>\n",
       "      <th>Roll_No</th>\n",
       "      <th>Mid_Term_Agg</th>\n",
       "      <th>Lab</th>\n",
       "      <th>Quiz1</th>\n",
       "      <th>Branch_cov</th>\n",
       "      <th>CP_grade_cov</th>\n",
       "      <th>CP_Lab_grade_cov</th>\n",
       "    </tr>\n",
       "  </thead>\n",
       "  <tbody>\n",
       "    <tr>\n",
       "      <th>0</th>\n",
       "      <td>17UCS139</td>\n",
       "      <td>7.92</td>\n",
       "      <td>7</td>\n",
       "      <td>4.5</td>\n",
       "      <td>3</td>\n",
       "      <td>0</td>\n",
       "      <td>1</td>\n",
       "    </tr>\n",
       "    <tr>\n",
       "      <th>1</th>\n",
       "      <td>17UCS022</td>\n",
       "      <td>11.25</td>\n",
       "      <td>15</td>\n",
       "      <td>5.5</td>\n",
       "      <td>3</td>\n",
       "      <td>2</td>\n",
       "      <td>6</td>\n",
       "    </tr>\n",
       "    <tr>\n",
       "      <th>2</th>\n",
       "      <td>17UCS141</td>\n",
       "      <td>15.00</td>\n",
       "      <td>11</td>\n",
       "      <td>6.5</td>\n",
       "      <td>3</td>\n",
       "      <td>4</td>\n",
       "      <td>4</td>\n",
       "    </tr>\n",
       "    <tr>\n",
       "      <th>3</th>\n",
       "      <td>17UCS046</td>\n",
       "      <td>6.25</td>\n",
       "      <td>10</td>\n",
       "      <td>6.0</td>\n",
       "      <td>3</td>\n",
       "      <td>3</td>\n",
       "      <td>1</td>\n",
       "    </tr>\n",
       "    <tr>\n",
       "      <th>4</th>\n",
       "      <td>17UME056</td>\n",
       "      <td>7.92</td>\n",
       "      <td>16</td>\n",
       "      <td>4.0</td>\n",
       "      <td>2</td>\n",
       "      <td>1</td>\n",
       "      <td>4</td>\n",
       "    </tr>\n",
       "  </tbody>\n",
       "</table>\n",
       "</div>"
      ],
      "text/plain": [
       "    Roll_No  Mid_Term_Agg  Lab  Quiz1  Branch_cov  CP_grade_cov  \\\n",
       "0  17UCS139          7.92    7    4.5           3             0   \n",
       "1  17UCS022         11.25   15    5.5           3             2   \n",
       "2  17UCS141         15.00   11    6.5           3             4   \n",
       "3  17UCS046          6.25   10    6.0           3             3   \n",
       "4  17UME056          7.92   16    4.0           2             1   \n",
       "\n",
       "   CP_Lab_grade_cov  \n",
       "0                 1  \n",
       "1                 6  \n",
       "2                 4  \n",
       "3                 1  \n",
       "4                 4  "
      ]
     },
     "execution_count": 92,
     "metadata": {},
     "output_type": "execute_result"
    }
   ],
   "source": [
    "yy=pd.read_csv('train.csv')\n",
    "yy.head()"
   ]
  },
  {
   "cell_type": "code",
   "execution_count": 93,
   "metadata": {},
   "outputs": [
    {
     "data": {
      "text/html": [
       "<div>\n",
       "<style scoped>\n",
       "    .dataframe tbody tr th:only-of-type {\n",
       "        vertical-align: middle;\n",
       "    }\n",
       "\n",
       "    .dataframe tbody tr th {\n",
       "        vertical-align: top;\n",
       "    }\n",
       "\n",
       "    .dataframe thead th {\n",
       "        text-align: right;\n",
       "    }\n",
       "</style>\n",
       "<table border=\"1\" class=\"dataframe\">\n",
       "  <thead>\n",
       "    <tr style=\"text-align: right;\">\n",
       "      <th></th>\n",
       "      <th>Mid_Term_Agg</th>\n",
       "      <th>Lab</th>\n",
       "      <th>Quiz1</th>\n",
       "      <th>Branch_cov</th>\n",
       "      <th>CP_grade_cov</th>\n",
       "      <th>CP_Lab_grade_cov</th>\n",
       "    </tr>\n",
       "    <tr>\n",
       "      <th>Roll_No</th>\n",
       "      <th></th>\n",
       "      <th></th>\n",
       "      <th></th>\n",
       "      <th></th>\n",
       "      <th></th>\n",
       "      <th></th>\n",
       "    </tr>\n",
       "  </thead>\n",
       "  <tbody>\n",
       "    <tr>\n",
       "      <th>17UCS139</th>\n",
       "      <td>7.92</td>\n",
       "      <td>7</td>\n",
       "      <td>4.5</td>\n",
       "      <td>3</td>\n",
       "      <td>0</td>\n",
       "      <td>1</td>\n",
       "    </tr>\n",
       "    <tr>\n",
       "      <th>17UCS022</th>\n",
       "      <td>11.25</td>\n",
       "      <td>15</td>\n",
       "      <td>5.5</td>\n",
       "      <td>3</td>\n",
       "      <td>2</td>\n",
       "      <td>6</td>\n",
       "    </tr>\n",
       "    <tr>\n",
       "      <th>17UCS141</th>\n",
       "      <td>15.00</td>\n",
       "      <td>11</td>\n",
       "      <td>6.5</td>\n",
       "      <td>3</td>\n",
       "      <td>4</td>\n",
       "      <td>4</td>\n",
       "    </tr>\n",
       "    <tr>\n",
       "      <th>17UCS046</th>\n",
       "      <td>6.25</td>\n",
       "      <td>10</td>\n",
       "      <td>6.0</td>\n",
       "      <td>3</td>\n",
       "      <td>3</td>\n",
       "      <td>1</td>\n",
       "    </tr>\n",
       "    <tr>\n",
       "      <th>17UME056</th>\n",
       "      <td>7.92</td>\n",
       "      <td>16</td>\n",
       "      <td>4.0</td>\n",
       "      <td>2</td>\n",
       "      <td>1</td>\n",
       "      <td>4</td>\n",
       "    </tr>\n",
       "  </tbody>\n",
       "</table>\n",
       "</div>"
      ],
      "text/plain": [
       "          Mid_Term_Agg  Lab  Quiz1  Branch_cov  CP_grade_cov  CP_Lab_grade_cov\n",
       "Roll_No                                                                       \n",
       "17UCS139          7.92    7    4.5           3             0                 1\n",
       "17UCS022         11.25   15    5.5           3             2                 6\n",
       "17UCS141         15.00   11    6.5           3             4                 4\n",
       "17UCS046          6.25   10    6.0           3             3                 1\n",
       "17UME056          7.92   16    4.0           2             1                 4"
      ]
     },
     "execution_count": 93,
     "metadata": {},
     "output_type": "execute_result"
    }
   ],
   "source": [
    "Train_X.head()"
   ]
  },
  {
   "cell_type": "code",
   "execution_count": 94,
   "metadata": {},
   "outputs": [],
   "source": [
    "Train_X.to_csv('trains.csv')"
   ]
  },
  {
   "cell_type": "code",
   "execution_count": 95,
   "metadata": {},
   "outputs": [
    {
     "data": {
      "text/html": [
       "<div>\n",
       "<style scoped>\n",
       "    .dataframe tbody tr th:only-of-type {\n",
       "        vertical-align: middle;\n",
       "    }\n",
       "\n",
       "    .dataframe tbody tr th {\n",
       "        vertical-align: top;\n",
       "    }\n",
       "\n",
       "    .dataframe thead th {\n",
       "        text-align: right;\n",
       "    }\n",
       "</style>\n",
       "<table border=\"1\" class=\"dataframe\">\n",
       "  <thead>\n",
       "    <tr style=\"text-align: right;\">\n",
       "      <th></th>\n",
       "      <th>Roll_No</th>\n",
       "      <th>Mid_Term_Agg</th>\n",
       "      <th>Lab</th>\n",
       "      <th>Quiz1</th>\n",
       "      <th>Branch_cov</th>\n",
       "      <th>CP_grade_cov</th>\n",
       "      <th>CP_Lab_grade_cov</th>\n",
       "    </tr>\n",
       "  </thead>\n",
       "  <tbody>\n",
       "    <tr>\n",
       "      <th>0</th>\n",
       "      <td>17UCS139</td>\n",
       "      <td>7.92</td>\n",
       "      <td>7</td>\n",
       "      <td>4.5</td>\n",
       "      <td>3</td>\n",
       "      <td>0</td>\n",
       "      <td>1</td>\n",
       "    </tr>\n",
       "    <tr>\n",
       "      <th>1</th>\n",
       "      <td>17UCS022</td>\n",
       "      <td>11.25</td>\n",
       "      <td>15</td>\n",
       "      <td>5.5</td>\n",
       "      <td>3</td>\n",
       "      <td>2</td>\n",
       "      <td>6</td>\n",
       "    </tr>\n",
       "    <tr>\n",
       "      <th>2</th>\n",
       "      <td>17UCS141</td>\n",
       "      <td>15.00</td>\n",
       "      <td>11</td>\n",
       "      <td>6.5</td>\n",
       "      <td>3</td>\n",
       "      <td>4</td>\n",
       "      <td>4</td>\n",
       "    </tr>\n",
       "    <tr>\n",
       "      <th>3</th>\n",
       "      <td>17UCS046</td>\n",
       "      <td>6.25</td>\n",
       "      <td>10</td>\n",
       "      <td>6.0</td>\n",
       "      <td>3</td>\n",
       "      <td>3</td>\n",
       "      <td>1</td>\n",
       "    </tr>\n",
       "    <tr>\n",
       "      <th>4</th>\n",
       "      <td>17UME056</td>\n",
       "      <td>7.92</td>\n",
       "      <td>16</td>\n",
       "      <td>4.0</td>\n",
       "      <td>2</td>\n",
       "      <td>1</td>\n",
       "      <td>4</td>\n",
       "    </tr>\n",
       "  </tbody>\n",
       "</table>\n",
       "</div>"
      ],
      "text/plain": [
       "    Roll_No  Mid_Term_Agg  Lab  Quiz1  Branch_cov  CP_grade_cov  \\\n",
       "0  17UCS139          7.92    7    4.5           3             0   \n",
       "1  17UCS022         11.25   15    5.5           3             2   \n",
       "2  17UCS141         15.00   11    6.5           3             4   \n",
       "3  17UCS046          6.25   10    6.0           3             3   \n",
       "4  17UME056          7.92   16    4.0           2             1   \n",
       "\n",
       "   CP_Lab_grade_cov  \n",
       "0                 1  \n",
       "1                 6  \n",
       "2                 4  \n",
       "3                 1  \n",
       "4                 4  "
      ]
     },
     "execution_count": 95,
     "metadata": {},
     "output_type": "execute_result"
    }
   ],
   "source": [
    "ss=pd.read_csv('trains.csv')\n",
    "ss.head()"
   ]
  },
  {
   "cell_type": "code",
   "execution_count": 96,
   "metadata": {},
   "outputs": [],
   "source": [
    "Train_Y_df=pd.DataFrame(Train_Y)"
   ]
  },
  {
   "cell_type": "code",
   "execution_count": 97,
   "metadata": {},
   "outputs": [
    {
     "data": {
      "text/html": [
       "<div>\n",
       "<style scoped>\n",
       "    .dataframe tbody tr th:only-of-type {\n",
       "        vertical-align: middle;\n",
       "    }\n",
       "\n",
       "    .dataframe tbody tr th {\n",
       "        vertical-align: top;\n",
       "    }\n",
       "\n",
       "    .dataframe thead th {\n",
       "        text-align: right;\n",
       "    }\n",
       "</style>\n",
       "<table border=\"1\" class=\"dataframe\">\n",
       "  <thead>\n",
       "    <tr style=\"text-align: right;\">\n",
       "      <th></th>\n",
       "      <th>Final_grade_cov</th>\n",
       "    </tr>\n",
       "    <tr>\n",
       "      <th>Roll_No</th>\n",
       "      <th></th>\n",
       "    </tr>\n",
       "  </thead>\n",
       "  <tbody>\n",
       "    <tr>\n",
       "      <th>17UCS139</th>\n",
       "      <td>0</td>\n",
       "    </tr>\n",
       "    <tr>\n",
       "      <th>17UCS022</th>\n",
       "      <td>1</td>\n",
       "    </tr>\n",
       "    <tr>\n",
       "      <th>17UCS141</th>\n",
       "      <td>3</td>\n",
       "    </tr>\n",
       "    <tr>\n",
       "      <th>17UCS046</th>\n",
       "      <td>1</td>\n",
       "    </tr>\n",
       "    <tr>\n",
       "      <th>17UME056</th>\n",
       "      <td>3</td>\n",
       "    </tr>\n",
       "  </tbody>\n",
       "</table>\n",
       "</div>"
      ],
      "text/plain": [
       "          Final_grade_cov\n",
       "Roll_No                  \n",
       "17UCS139                0\n",
       "17UCS022                1\n",
       "17UCS141                3\n",
       "17UCS046                1\n",
       "17UME056                3"
      ]
     },
     "execution_count": 97,
     "metadata": {},
     "output_type": "execute_result"
    }
   ],
   "source": [
    "Train_Y_df.head()"
   ]
  },
  {
   "cell_type": "code",
   "execution_count": 98,
   "metadata": {},
   "outputs": [],
   "source": [
    "Train_Y_df.to_csv('train_y.csv')"
   ]
  },
  {
   "cell_type": "code",
   "execution_count": 99,
   "metadata": {},
   "outputs": [],
   "source": [
    "Test_X.to_csv('test.csv')"
   ]
  },
  {
   "cell_type": "code",
   "execution_count": 100,
   "metadata": {},
   "outputs": [],
   "source": [
    "Test_Y_df=pd.DataFrame(Test_Y)\n",
    "Test_Y_df.to_csv('test_y.csv')"
   ]
  },
  {
   "cell_type": "code",
   "execution_count": 101,
   "metadata": {},
   "outputs": [
    {
     "data": {
      "text/html": [
       "<div>\n",
       "<style scoped>\n",
       "    .dataframe tbody tr th:only-of-type {\n",
       "        vertical-align: middle;\n",
       "    }\n",
       "\n",
       "    .dataframe tbody tr th {\n",
       "        vertical-align: top;\n",
       "    }\n",
       "\n",
       "    .dataframe thead th {\n",
       "        text-align: right;\n",
       "    }\n",
       "</style>\n",
       "<table border=\"1\" class=\"dataframe\">\n",
       "  <thead>\n",
       "    <tr style=\"text-align: right;\">\n",
       "      <th></th>\n",
       "      <th>Mid_Term_Agg</th>\n",
       "      <th>Lab</th>\n",
       "      <th>Quiz1</th>\n",
       "      <th>Branch_cov</th>\n",
       "      <th>CP_grade_cov</th>\n",
       "      <th>CP_Lab_grade_cov</th>\n",
       "    </tr>\n",
       "    <tr>\n",
       "      <th>Roll_No</th>\n",
       "      <th></th>\n",
       "      <th></th>\n",
       "      <th></th>\n",
       "      <th></th>\n",
       "      <th></th>\n",
       "      <th></th>\n",
       "    </tr>\n",
       "  </thead>\n",
       "  <tbody>\n",
       "    <tr>\n",
       "      <th>17UCS056</th>\n",
       "      <td>6.67</td>\n",
       "      <td>5</td>\n",
       "      <td>6.5</td>\n",
       "      <td>3</td>\n",
       "      <td>0</td>\n",
       "      <td>1</td>\n",
       "    </tr>\n",
       "    <tr>\n",
       "      <th>17UCS075</th>\n",
       "      <td>12.92</td>\n",
       "      <td>11</td>\n",
       "      <td>6.5</td>\n",
       "      <td>3</td>\n",
       "      <td>1</td>\n",
       "      <td>2</td>\n",
       "    </tr>\n",
       "    <tr>\n",
       "      <th>17UCS033</th>\n",
       "      <td>10.42</td>\n",
       "      <td>13</td>\n",
       "      <td>6.5</td>\n",
       "      <td>3</td>\n",
       "      <td>1</td>\n",
       "      <td>4</td>\n",
       "    </tr>\n",
       "    <tr>\n",
       "      <th>17UME037</th>\n",
       "      <td>12.92</td>\n",
       "      <td>15</td>\n",
       "      <td>5.0</td>\n",
       "      <td>2</td>\n",
       "      <td>5</td>\n",
       "      <td>5</td>\n",
       "    </tr>\n",
       "    <tr>\n",
       "      <th>17UME010</th>\n",
       "      <td>7.92</td>\n",
       "      <td>13</td>\n",
       "      <td>6.5</td>\n",
       "      <td>2</td>\n",
       "      <td>0</td>\n",
       "      <td>0</td>\n",
       "    </tr>\n",
       "  </tbody>\n",
       "</table>\n",
       "</div>"
      ],
      "text/plain": [
       "          Mid_Term_Agg  Lab  Quiz1  Branch_cov  CP_grade_cov  CP_Lab_grade_cov\n",
       "Roll_No                                                                       \n",
       "17UCS056          6.67    5    6.5           3             0                 1\n",
       "17UCS075         12.92   11    6.5           3             1                 2\n",
       "17UCS033         10.42   13    6.5           3             1                 4\n",
       "17UME037         12.92   15    5.0           2             5                 5\n",
       "17UME010          7.92   13    6.5           2             0                 0"
      ]
     },
     "execution_count": 101,
     "metadata": {},
     "output_type": "execute_result"
    }
   ],
   "source": [
    "aa=pd.read_csv('test.csv',index_col=0)\n",
    "aa.head()"
   ]
  },
  {
   "cell_type": "code",
   "execution_count": 102,
   "metadata": {},
   "outputs": [
    {
     "data": {
      "text/html": [
       "<div>\n",
       "<style scoped>\n",
       "    .dataframe tbody tr th:only-of-type {\n",
       "        vertical-align: middle;\n",
       "    }\n",
       "\n",
       "    .dataframe tbody tr th {\n",
       "        vertical-align: top;\n",
       "    }\n",
       "\n",
       "    .dataframe thead th {\n",
       "        text-align: right;\n",
       "    }\n",
       "</style>\n",
       "<table border=\"1\" class=\"dataframe\">\n",
       "  <thead>\n",
       "    <tr style=\"text-align: right;\">\n",
       "      <th></th>\n",
       "      <th>Final_grade_cov</th>\n",
       "    </tr>\n",
       "    <tr>\n",
       "      <th>Roll_No</th>\n",
       "      <th></th>\n",
       "    </tr>\n",
       "  </thead>\n",
       "  <tbody>\n",
       "    <tr>\n",
       "      <th>17UCS139</th>\n",
       "      <td>0</td>\n",
       "    </tr>\n",
       "    <tr>\n",
       "      <th>17UCS022</th>\n",
       "      <td>1</td>\n",
       "    </tr>\n",
       "    <tr>\n",
       "      <th>17UCS141</th>\n",
       "      <td>3</td>\n",
       "    </tr>\n",
       "    <tr>\n",
       "      <th>17UCS046</th>\n",
       "      <td>1</td>\n",
       "    </tr>\n",
       "    <tr>\n",
       "      <th>17UME056</th>\n",
       "      <td>3</td>\n",
       "    </tr>\n",
       "  </tbody>\n",
       "</table>\n",
       "</div>"
      ],
      "text/plain": [
       "          Final_grade_cov\n",
       "Roll_No                  \n",
       "17UCS139                0\n",
       "17UCS022                1\n",
       "17UCS141                3\n",
       "17UCS046                1\n",
       "17UME056                3"
      ]
     },
     "execution_count": 102,
     "metadata": {},
     "output_type": "execute_result"
    }
   ],
   "source": [
    "len(Train_X)==len(Train_Y)\n",
    "yu=pd.read_csv('train_y.csv',index_col=0)\n",
    "yu.head()"
   ]
  },
  {
   "cell_type": "code",
   "execution_count": 103,
   "metadata": {},
   "outputs": [
    {
     "data": {
      "text/html": [
       "<div>\n",
       "<style scoped>\n",
       "    .dataframe tbody tr th:only-of-type {\n",
       "        vertical-align: middle;\n",
       "    }\n",
       "\n",
       "    .dataframe tbody tr th {\n",
       "        vertical-align: top;\n",
       "    }\n",
       "\n",
       "    .dataframe thead th {\n",
       "        text-align: right;\n",
       "    }\n",
       "</style>\n",
       "<table border=\"1\" class=\"dataframe\">\n",
       "  <thead>\n",
       "    <tr style=\"text-align: right;\">\n",
       "      <th></th>\n",
       "      <th>Final_grade_cov</th>\n",
       "    </tr>\n",
       "    <tr>\n",
       "      <th>Roll_No</th>\n",
       "      <th></th>\n",
       "    </tr>\n",
       "  </thead>\n",
       "  <tbody>\n",
       "    <tr>\n",
       "      <th>17UCS056</th>\n",
       "      <td>1</td>\n",
       "    </tr>\n",
       "    <tr>\n",
       "      <th>17UCS075</th>\n",
       "      <td>4</td>\n",
       "    </tr>\n",
       "    <tr>\n",
       "      <th>17UCS033</th>\n",
       "      <td>3</td>\n",
       "    </tr>\n",
       "    <tr>\n",
       "      <th>17UME037</th>\n",
       "      <td>4</td>\n",
       "    </tr>\n",
       "    <tr>\n",
       "      <th>17UME010</th>\n",
       "      <td>1</td>\n",
       "    </tr>\n",
       "  </tbody>\n",
       "</table>\n",
       "</div>"
      ],
      "text/plain": [
       "          Final_grade_cov\n",
       "Roll_No                  \n",
       "17UCS056                1\n",
       "17UCS075                4\n",
       "17UCS033                3\n",
       "17UME037                4\n",
       "17UME010                1"
      ]
     },
     "execution_count": 103,
     "metadata": {},
     "output_type": "execute_result"
    }
   ],
   "source": [
    "kk=pd.read_csv('test_y.csv',index_col=0)\n",
    "kk.head()"
   ]
  },
  {
   "cell_type": "code",
   "execution_count": 105,
   "metadata": {},
   "outputs": [],
   "source": [
    "from sklearn.preprocessing import StandardScaler\n"
   ]
  },
  {
   "cell_type": "code",
   "execution_count": 108,
   "metadata": {},
   "outputs": [],
   "source": [
    "scaler = StandardScaler()"
   ]
  },
  {
   "cell_type": "code",
   "execution_count": 109,
   "metadata": {},
   "outputs": [
    {
     "data": {
      "text/plain": [
       "StandardScaler(copy=True, with_mean=True, with_std=True)"
      ]
     },
     "execution_count": 109,
     "metadata": {},
     "output_type": "execute_result"
    }
   ],
   "source": [
    "scaler.fit(Train_X)"
   ]
  },
  {
   "cell_type": "code",
   "execution_count": 110,
   "metadata": {},
   "outputs": [],
   "source": [
    "Train_X_new=scaler.transform(Train_X)\n",
    "Test_X_new=scaler.transform(Test_X)"
   ]
  },
  {
   "cell_type": "code",
   "execution_count": 111,
   "metadata": {},
   "outputs": [],
   "source": [
    "from sklearn.neural_network import MLPClassifier"
   ]
  },
  {
   "cell_type": "code",
   "execution_count": 112,
   "metadata": {},
   "outputs": [],
   "source": [
    "mlp = MLPClassifier(hidden_layer_sizes=(30,30,30))"
   ]
  },
  {
   "cell_type": "code",
   "execution_count": 113,
   "metadata": {},
   "outputs": [
    {
     "name": "stderr",
     "output_type": "stream",
     "text": [
      "/home/anubhav/anaconda3/lib/python3.6/site-packages/sklearn/neural_network/multilayer_perceptron.py:564: ConvergenceWarning: Stochastic Optimizer: Maximum iterations (200) reached and the optimization hasn't converged yet.\n",
      "  % self.max_iter, ConvergenceWarning)\n"
     ]
    },
    {
     "data": {
      "text/plain": [
       "MLPClassifier(activation='relu', alpha=0.0001, batch_size='auto', beta_1=0.9,\n",
       "       beta_2=0.999, early_stopping=False, epsilon=1e-08,\n",
       "       hidden_layer_sizes=(30, 30, 30), learning_rate='constant',\n",
       "       learning_rate_init=0.001, max_iter=200, momentum=0.9,\n",
       "       nesterovs_momentum=True, power_t=0.5, random_state=None,\n",
       "       shuffle=True, solver='adam', tol=0.0001, validation_fraction=0.1,\n",
       "       verbose=False, warm_start=False)"
      ]
     },
     "execution_count": 113,
     "metadata": {},
     "output_type": "execute_result"
    }
   ],
   "source": [
    "mlp.fit(Train_X_new,Train_Y)"
   ]
  },
  {
   "cell_type": "code",
   "execution_count": 114,
   "metadata": {},
   "outputs": [
    {
     "name": "stderr",
     "output_type": "stream",
     "text": [
      "/home/anubhav/anaconda3/lib/python3.6/site-packages/sklearn/neural_network/multilayer_perceptron.py:564: ConvergenceWarning: Stochastic Optimizer: Maximum iterations (200) reached and the optimization hasn't converged yet.\n",
      "  % self.max_iter, ConvergenceWarning)\n",
      "/home/anubhav/anaconda3/lib/python3.6/site-packages/sklearn/neural_network/multilayer_perceptron.py:564: ConvergenceWarning: Stochastic Optimizer: Maximum iterations (200) reached and the optimization hasn't converged yet.\n",
      "  % self.max_iter, ConvergenceWarning)\n",
      "/home/anubhav/anaconda3/lib/python3.6/site-packages/sklearn/neural_network/multilayer_perceptron.py:564: ConvergenceWarning: Stochastic Optimizer: Maximum iterations (200) reached and the optimization hasn't converged yet.\n",
      "  % self.max_iter, ConvergenceWarning)\n",
      "/home/anubhav/anaconda3/lib/python3.6/site-packages/sklearn/neural_network/multilayer_perceptron.py:564: ConvergenceWarning: Stochastic Optimizer: Maximum iterations (200) reached and the optimization hasn't converged yet.\n",
      "  % self.max_iter, ConvergenceWarning)\n",
      "/home/anubhav/anaconda3/lib/python3.6/site-packages/sklearn/neural_network/multilayer_perceptron.py:564: ConvergenceWarning: Stochastic Optimizer: Maximum iterations (200) reached and the optimization hasn't converged yet.\n",
      "  % self.max_iter, ConvergenceWarning)\n",
      "/home/anubhav/anaconda3/lib/python3.6/site-packages/sklearn/neural_network/multilayer_perceptron.py:564: ConvergenceWarning: Stochastic Optimizer: Maximum iterations (200) reached and the optimization hasn't converged yet.\n",
      "  % self.max_iter, ConvergenceWarning)\n",
      "/home/anubhav/anaconda3/lib/python3.6/site-packages/sklearn/neural_network/multilayer_perceptron.py:564: ConvergenceWarning: Stochastic Optimizer: Maximum iterations (200) reached and the optimization hasn't converged yet.\n",
      "  % self.max_iter, ConvergenceWarning)\n",
      "/home/anubhav/anaconda3/lib/python3.6/site-packages/sklearn/neural_network/multilayer_perceptron.py:564: ConvergenceWarning: Stochastic Optimizer: Maximum iterations (200) reached and the optimization hasn't converged yet.\n",
      "  % self.max_iter, ConvergenceWarning)\n",
      "/home/anubhav/anaconda3/lib/python3.6/site-packages/sklearn/neural_network/multilayer_perceptron.py:564: ConvergenceWarning: Stochastic Optimizer: Maximum iterations (200) reached and the optimization hasn't converged yet.\n",
      "  % self.max_iter, ConvergenceWarning)\n",
      "/home/anubhav/anaconda3/lib/python3.6/site-packages/sklearn/neural_network/multilayer_perceptron.py:564: ConvergenceWarning: Stochastic Optimizer: Maximum iterations (200) reached and the optimization hasn't converged yet.\n",
      "  % self.max_iter, ConvergenceWarning)\n"
     ]
    },
    {
     "data": {
      "text/plain": [
       "0.9543396351673549"
      ]
     },
     "execution_count": 114,
     "metadata": {},
     "output_type": "execute_result"
    }
   ],
   "source": [
    "from sklearn.model_selection import cross_val_score\n",
    "scores = cross_val_score(mlp, Train_X_new, Train_Y, scoring=\"neg_mean_squared_error\", cv=10)\n",
    "rmse_scores = np.sqrt(-scores)\n",
    "rmse_scores.mean()"
   ]
  },
  {
   "cell_type": "code",
   "execution_count": null,
   "metadata": {},
   "outputs": [],
   "source": [
    "from sklearn.metrics import mean_squared_error\n",
    "Grade_predictions = mlp.predict(Test_X)\n",
    "lin_mse = mean_squared_error(Test_Y, Grade_predictions)\n",
    "lin_rmse = np.sqrt(lin_mse)\n",
    "lin_rmse"
   ]
  }
 ],
 "metadata": {
  "kernelspec": {
   "display_name": "Python 3",
   "language": "python",
   "name": "python3"
  },
  "language_info": {
   "codemirror_mode": {
    "name": "ipython",
    "version": 3
   },
   "file_extension": ".py",
   "mimetype": "text/x-python",
   "name": "python",
   "nbconvert_exporter": "python",
   "pygments_lexer": "ipython3",
   "version": "3.6.4"
  }
 },
 "nbformat": 4,
 "nbformat_minor": 2
}
